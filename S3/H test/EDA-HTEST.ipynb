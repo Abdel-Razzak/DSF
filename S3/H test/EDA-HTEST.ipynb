{
 "cells": [
  {
   "cell_type": "code",
   "execution_count": 1,
   "metadata": {
    "collapsed": true
   },
   "outputs": [],
   "source": [
    "import numpy as np\n",
    "import pandas as pd\n",
    "\n",
    "# Import pyplot for plotting\n",
    "import matplotlib.pyplot as plt\n",
    "\n",
    "# Some pretty Seaborn settings\n",
    "import seaborn as sns\n",
    "rc={'lines.linewidth': 2, 'axes.labelsize': 14, 'axes.titlesize': 14}\n",
    "sns.set(rc=rc)\n",
    "\n",
    "# Make Matplotlib plots appear inline\n",
    "%matplotlib inline"
   ]
  },
  {
   "cell_type": "code",
   "execution_count": 2,
   "metadata": {
    "collapsed": false
   },
   "outputs": [],
   "source": [
    "# Use pd.read_csv() to read in the data and store in a DataFrame\n",
    "df = pd.read_csv('frog_tongue_adhesion.csv', comment='#')"
   ]
  },
  {
   "cell_type": "code",
   "execution_count": 3,
   "metadata": {
    "collapsed": false
   },
   "outputs": [
    {
     "data": {
      "text/html": [
       "<div>\n",
       "<table border=\"1\" class=\"dataframe\">\n",
       "  <thead>\n",
       "    <tr style=\"text-align: right;\">\n",
       "      <th></th>\n",
       "      <th>date</th>\n",
       "      <th>ID</th>\n",
       "      <th>trial number</th>\n",
       "      <th>impact force (mN)</th>\n",
       "      <th>impact time (ms)</th>\n",
       "      <th>impact force / body weight</th>\n",
       "      <th>adhesive force (mN)</th>\n",
       "      <th>time frog pulls on target (ms)</th>\n",
       "      <th>adhesive force / body weight</th>\n",
       "      <th>adhesive impulse (N-s)</th>\n",
       "      <th>total contact area (mm2)</th>\n",
       "      <th>contact area without mucus (mm2)</th>\n",
       "      <th>contact area with mucus / contact area without mucus</th>\n",
       "      <th>contact pressure (Pa)</th>\n",
       "      <th>adhesive strength (Pa)</th>\n",
       "    </tr>\n",
       "  </thead>\n",
       "  <tbody>\n",
       "    <tr>\n",
       "      <th>0</th>\n",
       "      <td>2013_02_26</td>\n",
       "      <td>I</td>\n",
       "      <td>3</td>\n",
       "      <td>1205</td>\n",
       "      <td>46</td>\n",
       "      <td>1.95</td>\n",
       "      <td>-785</td>\n",
       "      <td>884</td>\n",
       "      <td>1.27</td>\n",
       "      <td>-0.290</td>\n",
       "      <td>387</td>\n",
       "      <td>70</td>\n",
       "      <td>0.82</td>\n",
       "      <td>3117</td>\n",
       "      <td>-2030</td>\n",
       "    </tr>\n",
       "    <tr>\n",
       "      <th>1</th>\n",
       "      <td>2013_02_26</td>\n",
       "      <td>I</td>\n",
       "      <td>4</td>\n",
       "      <td>2527</td>\n",
       "      <td>44</td>\n",
       "      <td>4.08</td>\n",
       "      <td>-983</td>\n",
       "      <td>248</td>\n",
       "      <td>1.59</td>\n",
       "      <td>-0.181</td>\n",
       "      <td>101</td>\n",
       "      <td>94</td>\n",
       "      <td>0.07</td>\n",
       "      <td>24923</td>\n",
       "      <td>-9695</td>\n",
       "    </tr>\n",
       "    <tr>\n",
       "      <th>2</th>\n",
       "      <td>2013_03_01</td>\n",
       "      <td>I</td>\n",
       "      <td>1</td>\n",
       "      <td>1745</td>\n",
       "      <td>34</td>\n",
       "      <td>2.82</td>\n",
       "      <td>-850</td>\n",
       "      <td>211</td>\n",
       "      <td>1.37</td>\n",
       "      <td>-0.157</td>\n",
       "      <td>83</td>\n",
       "      <td>79</td>\n",
       "      <td>0.05</td>\n",
       "      <td>21020</td>\n",
       "      <td>-10239</td>\n",
       "    </tr>\n",
       "    <tr>\n",
       "      <th>3</th>\n",
       "      <td>2013_03_01</td>\n",
       "      <td>I</td>\n",
       "      <td>2</td>\n",
       "      <td>1556</td>\n",
       "      <td>41</td>\n",
       "      <td>2.51</td>\n",
       "      <td>-455</td>\n",
       "      <td>1025</td>\n",
       "      <td>0.74</td>\n",
       "      <td>-0.170</td>\n",
       "      <td>330</td>\n",
       "      <td>158</td>\n",
       "      <td>0.52</td>\n",
       "      <td>4718</td>\n",
       "      <td>-1381</td>\n",
       "    </tr>\n",
       "    <tr>\n",
       "      <th>4</th>\n",
       "      <td>2013_03_01</td>\n",
       "      <td>I</td>\n",
       "      <td>3</td>\n",
       "      <td>493</td>\n",
       "      <td>36</td>\n",
       "      <td>0.80</td>\n",
       "      <td>-974</td>\n",
       "      <td>499</td>\n",
       "      <td>1.57</td>\n",
       "      <td>-0.423</td>\n",
       "      <td>245</td>\n",
       "      <td>216</td>\n",
       "      <td>0.12</td>\n",
       "      <td>2012</td>\n",
       "      <td>-3975</td>\n",
       "    </tr>\n",
       "  </tbody>\n",
       "</table>\n",
       "</div>"
      ],
      "text/plain": [
       "         date ID  trial number  impact force (mN)  impact time (ms)  \\\n",
       "0  2013_02_26  I             3               1205                46   \n",
       "1  2013_02_26  I             4               2527                44   \n",
       "2  2013_03_01  I             1               1745                34   \n",
       "3  2013_03_01  I             2               1556                41   \n",
       "4  2013_03_01  I             3                493                36   \n",
       "\n",
       "   impact force / body weight  adhesive force (mN)  \\\n",
       "0                        1.95                 -785   \n",
       "1                        4.08                 -983   \n",
       "2                        2.82                 -850   \n",
       "3                        2.51                 -455   \n",
       "4                        0.80                 -974   \n",
       "\n",
       "   time frog pulls on target (ms)  adhesive force / body weight  \\\n",
       "0                             884                          1.27   \n",
       "1                             248                          1.59   \n",
       "2                             211                          1.37   \n",
       "3                            1025                          0.74   \n",
       "4                             499                          1.57   \n",
       "\n",
       "   adhesive impulse (N-s)  total contact area (mm2)  \\\n",
       "0                  -0.290                       387   \n",
       "1                  -0.181                       101   \n",
       "2                  -0.157                        83   \n",
       "3                  -0.170                       330   \n",
       "4                  -0.423                       245   \n",
       "\n",
       "   contact area without mucus (mm2)  \\\n",
       "0                                70   \n",
       "1                                94   \n",
       "2                                79   \n",
       "3                               158   \n",
       "4                               216   \n",
       "\n",
       "   contact area with mucus / contact area without mucus  \\\n",
       "0                                               0.82      \n",
       "1                                               0.07      \n",
       "2                                               0.05      \n",
       "3                                               0.52      \n",
       "4                                               0.12      \n",
       "\n",
       "   contact pressure (Pa)  adhesive strength (Pa)  \n",
       "0                   3117                   -2030  \n",
       "1                  24923                   -9695  \n",
       "2                  21020                  -10239  \n",
       "3                   4718                   -1381  \n",
       "4                   2012                   -3975  "
      ]
     },
     "execution_count": 3,
     "metadata": {},
     "output_type": "execute_result"
    }
   ],
   "source": [
    "# Look at the contents (first 5 rows)\n",
    "df.head()"
   ]
  },
  {
   "cell_type": "code",
   "execution_count": 4,
   "metadata": {
    "collapsed": false
   },
   "outputs": [
    {
     "data": {
      "text/plain": [
       "0     1205\n",
       "1     2527\n",
       "2     1745\n",
       "3     1556\n",
       "4      493\n",
       "5     2276\n",
       "6      556\n",
       "7     1928\n",
       "8     2641\n",
       "9     1897\n",
       "10    1891\n",
       "11    1545\n",
       "12    1307\n",
       "13    1692\n",
       "14    1543\n",
       "15    1282\n",
       "16     775\n",
       "17    2032\n",
       "18    1240\n",
       "19     473\n",
       "20    1612\n",
       "21     605\n",
       "22     327\n",
       "23     946\n",
       "24     541\n",
       "25    1539\n",
       "26     529\n",
       "27     628\n",
       "28    1453\n",
       "29     297\n",
       "      ... \n",
       "50     458\n",
       "51     626\n",
       "52     621\n",
       "53     544\n",
       "54     535\n",
       "55     385\n",
       "56     401\n",
       "57     614\n",
       "58     665\n",
       "59     488\n",
       "60     172\n",
       "61     142\n",
       "62      37\n",
       "63     453\n",
       "64     355\n",
       "65      22\n",
       "66     502\n",
       "67     273\n",
       "68     720\n",
       "69     582\n",
       "70     198\n",
       "71     198\n",
       "72     597\n",
       "73     516\n",
       "74     815\n",
       "75     402\n",
       "76     605\n",
       "77     711\n",
       "78     614\n",
       "79     468\n",
       "Name: impact force (mN), dtype: int64"
      ]
     },
     "execution_count": 4,
     "metadata": {},
     "output_type": "execute_result"
    }
   ],
   "source": [
    "# Slicing a column out of a DataFrame is achieved by using the column name\n",
    "df['impact force (mN)']"
   ]
  },
  {
   "cell_type": "code",
   "execution_count": 5,
   "metadata": {
    "collapsed": false
   },
   "outputs": [
    {
     "name": "stdout",
     "output_type": "stream",
     "text": [
      "dtype =  float64\n"
     ]
    }
   ],
   "source": [
    "# Use df.astype() method to convert it to a NumPy float64 data type.\n",
    "df['impact force (mN)'] = df['impact force (mN)'].astype(np.float64)\n",
    "\n",
    "# Check that it worked\n",
    "print('dtype = ', df['impact force (mN)'].dtype)"
   ]
  },
  {
   "cell_type": "code",
   "execution_count": 6,
   "metadata": {
    "collapsed": false
   },
   "outputs": [
    {
     "data": {
      "text/html": [
       "<div>\n",
       "<table border=\"1\" class=\"dataframe\">\n",
       "  <thead>\n",
       "    <tr style=\"text-align: right;\">\n",
       "      <th></th>\n",
       "      <th>date</th>\n",
       "      <th>ID</th>\n",
       "      <th>trial number</th>\n",
       "      <th>impact force (mN)</th>\n",
       "      <th>impact time (ms)</th>\n",
       "      <th>impact force / body weight</th>\n",
       "      <th>adhesive force (mN)</th>\n",
       "      <th>time frog pulls on target (ms)</th>\n",
       "      <th>adhesive force / body weight</th>\n",
       "      <th>adhesive impulse (N-s)</th>\n",
       "      <th>total contact area (mm2)</th>\n",
       "      <th>contact area without mucus (mm2)</th>\n",
       "      <th>contact area with mucus / contact area without mucus</th>\n",
       "      <th>contact pressure (Pa)</th>\n",
       "      <th>adhesive strength (Pa)</th>\n",
       "    </tr>\n",
       "  </thead>\n",
       "  <tbody>\n",
       "    <tr>\n",
       "      <th>0</th>\n",
       "      <td>2013_02_26</td>\n",
       "      <td>I</td>\n",
       "      <td>3</td>\n",
       "      <td>1205.0</td>\n",
       "      <td>46</td>\n",
       "      <td>1.95</td>\n",
       "      <td>-785</td>\n",
       "      <td>884</td>\n",
       "      <td>1.27</td>\n",
       "      <td>-0.290</td>\n",
       "      <td>387</td>\n",
       "      <td>70</td>\n",
       "      <td>0.82</td>\n",
       "      <td>3117</td>\n",
       "      <td>-2030</td>\n",
       "    </tr>\n",
       "    <tr>\n",
       "      <th>1</th>\n",
       "      <td>2013_02_26</td>\n",
       "      <td>I</td>\n",
       "      <td>4</td>\n",
       "      <td>2527.0</td>\n",
       "      <td>44</td>\n",
       "      <td>4.08</td>\n",
       "      <td>-983</td>\n",
       "      <td>248</td>\n",
       "      <td>1.59</td>\n",
       "      <td>-0.181</td>\n",
       "      <td>101</td>\n",
       "      <td>94</td>\n",
       "      <td>0.07</td>\n",
       "      <td>24923</td>\n",
       "      <td>-9695</td>\n",
       "    </tr>\n",
       "    <tr>\n",
       "      <th>2</th>\n",
       "      <td>2013_03_01</td>\n",
       "      <td>I</td>\n",
       "      <td>1</td>\n",
       "      <td>1745.0</td>\n",
       "      <td>34</td>\n",
       "      <td>2.82</td>\n",
       "      <td>-850</td>\n",
       "      <td>211</td>\n",
       "      <td>1.37</td>\n",
       "      <td>-0.157</td>\n",
       "      <td>83</td>\n",
       "      <td>79</td>\n",
       "      <td>0.05</td>\n",
       "      <td>21020</td>\n",
       "      <td>-10239</td>\n",
       "    </tr>\n",
       "    <tr>\n",
       "      <th>3</th>\n",
       "      <td>2013_03_01</td>\n",
       "      <td>I</td>\n",
       "      <td>2</td>\n",
       "      <td>1556.0</td>\n",
       "      <td>41</td>\n",
       "      <td>2.51</td>\n",
       "      <td>-455</td>\n",
       "      <td>1025</td>\n",
       "      <td>0.74</td>\n",
       "      <td>-0.170</td>\n",
       "      <td>330</td>\n",
       "      <td>158</td>\n",
       "      <td>0.52</td>\n",
       "      <td>4718</td>\n",
       "      <td>-1381</td>\n",
       "    </tr>\n",
       "    <tr>\n",
       "      <th>5</th>\n",
       "      <td>2013_03_01</td>\n",
       "      <td>I</td>\n",
       "      <td>4</td>\n",
       "      <td>2276.0</td>\n",
       "      <td>31</td>\n",
       "      <td>3.68</td>\n",
       "      <td>-592</td>\n",
       "      <td>969</td>\n",
       "      <td>0.96</td>\n",
       "      <td>-0.176</td>\n",
       "      <td>341</td>\n",
       "      <td>106</td>\n",
       "      <td>0.69</td>\n",
       "      <td>6676</td>\n",
       "      <td>-1737</td>\n",
       "    </tr>\n",
       "    <tr>\n",
       "      <th>7</th>\n",
       "      <td>2013_03_05</td>\n",
       "      <td>I</td>\n",
       "      <td>2</td>\n",
       "      <td>1928.0</td>\n",
       "      <td>46</td>\n",
       "      <td>3.11</td>\n",
       "      <td>-804</td>\n",
       "      <td>508</td>\n",
       "      <td>1.30</td>\n",
       "      <td>-0.285</td>\n",
       "      <td>246</td>\n",
       "      <td>178</td>\n",
       "      <td>0.28</td>\n",
       "      <td>7832</td>\n",
       "      <td>-3266</td>\n",
       "    </tr>\n",
       "    <tr>\n",
       "      <th>8</th>\n",
       "      <td>2013_03_05</td>\n",
       "      <td>I</td>\n",
       "      <td>3</td>\n",
       "      <td>2641.0</td>\n",
       "      <td>50</td>\n",
       "      <td>4.27</td>\n",
       "      <td>-690</td>\n",
       "      <td>491</td>\n",
       "      <td>1.12</td>\n",
       "      <td>-0.239</td>\n",
       "      <td>269</td>\n",
       "      <td>224</td>\n",
       "      <td>0.17</td>\n",
       "      <td>9824</td>\n",
       "      <td>-2568</td>\n",
       "    </tr>\n",
       "    <tr>\n",
       "      <th>9</th>\n",
       "      <td>2013_03_05</td>\n",
       "      <td>I</td>\n",
       "      <td>4</td>\n",
       "      <td>1897.0</td>\n",
       "      <td>41</td>\n",
       "      <td>3.06</td>\n",
       "      <td>-462</td>\n",
       "      <td>839</td>\n",
       "      <td>0.75</td>\n",
       "      <td>-0.328</td>\n",
       "      <td>266</td>\n",
       "      <td>176</td>\n",
       "      <td>0.34</td>\n",
       "      <td>7122</td>\n",
       "      <td>-1733</td>\n",
       "    </tr>\n",
       "    <tr>\n",
       "      <th>10</th>\n",
       "      <td>2013_03_12</td>\n",
       "      <td>I</td>\n",
       "      <td>1</td>\n",
       "      <td>1891.0</td>\n",
       "      <td>40</td>\n",
       "      <td>3.06</td>\n",
       "      <td>-766</td>\n",
       "      <td>1069</td>\n",
       "      <td>1.24</td>\n",
       "      <td>-0.380</td>\n",
       "      <td>408</td>\n",
       "      <td>33</td>\n",
       "      <td>0.92</td>\n",
       "      <td>4638</td>\n",
       "      <td>-1879</td>\n",
       "    </tr>\n",
       "    <tr>\n",
       "      <th>11</th>\n",
       "      <td>2013_03_12</td>\n",
       "      <td>I</td>\n",
       "      <td>2</td>\n",
       "      <td>1545.0</td>\n",
       "      <td>48</td>\n",
       "      <td>2.50</td>\n",
       "      <td>-715</td>\n",
       "      <td>649</td>\n",
       "      <td>1.15</td>\n",
       "      <td>-0.298</td>\n",
       "      <td>141</td>\n",
       "      <td>112</td>\n",
       "      <td>0.21</td>\n",
       "      <td>10947</td>\n",
       "      <td>-5064</td>\n",
       "    </tr>\n",
       "    <tr>\n",
       "      <th>12</th>\n",
       "      <td>2013_03_12</td>\n",
       "      <td>I</td>\n",
       "      <td>3</td>\n",
       "      <td>1307.0</td>\n",
       "      <td>29</td>\n",
       "      <td>2.11</td>\n",
       "      <td>-613</td>\n",
       "      <td>1845</td>\n",
       "      <td>0.99</td>\n",
       "      <td>-0.768</td>\n",
       "      <td>455</td>\n",
       "      <td>92</td>\n",
       "      <td>0.80</td>\n",
       "      <td>2874</td>\n",
       "      <td>-1348</td>\n",
       "    </tr>\n",
       "    <tr>\n",
       "      <th>13</th>\n",
       "      <td>2013_03_12</td>\n",
       "      <td>I</td>\n",
       "      <td>4</td>\n",
       "      <td>1692.0</td>\n",
       "      <td>31</td>\n",
       "      <td>2.73</td>\n",
       "      <td>-677</td>\n",
       "      <td>917</td>\n",
       "      <td>1.09</td>\n",
       "      <td>-0.457</td>\n",
       "      <td>186</td>\n",
       "      <td>129</td>\n",
       "      <td>0.31</td>\n",
       "      <td>9089</td>\n",
       "      <td>-3636</td>\n",
       "    </tr>\n",
       "    <tr>\n",
       "      <th>14</th>\n",
       "      <td>2013_03_12</td>\n",
       "      <td>I</td>\n",
       "      <td>5</td>\n",
       "      <td>1543.0</td>\n",
       "      <td>38</td>\n",
       "      <td>2.49</td>\n",
       "      <td>-528</td>\n",
       "      <td>750</td>\n",
       "      <td>0.85</td>\n",
       "      <td>-0.353</td>\n",
       "      <td>153</td>\n",
       "      <td>148</td>\n",
       "      <td>0.03</td>\n",
       "      <td>10095</td>\n",
       "      <td>-3453</td>\n",
       "    </tr>\n",
       "    <tr>\n",
       "      <th>15</th>\n",
       "      <td>2013_03_15</td>\n",
       "      <td>I</td>\n",
       "      <td>1</td>\n",
       "      <td>1282.0</td>\n",
       "      <td>31</td>\n",
       "      <td>2.07</td>\n",
       "      <td>-452</td>\n",
       "      <td>785</td>\n",
       "      <td>0.73</td>\n",
       "      <td>-0.253</td>\n",
       "      <td>290</td>\n",
       "      <td>105</td>\n",
       "      <td>0.64</td>\n",
       "      <td>4419</td>\n",
       "      <td>-1557</td>\n",
       "    </tr>\n",
       "    <tr>\n",
       "      <th>17</th>\n",
       "      <td>2013_03_15</td>\n",
       "      <td>I</td>\n",
       "      <td>3</td>\n",
       "      <td>2032.0</td>\n",
       "      <td>60</td>\n",
       "      <td>3.28</td>\n",
       "      <td>-652</td>\n",
       "      <td>486</td>\n",
       "      <td>1.05</td>\n",
       "      <td>-0.257</td>\n",
       "      <td>147</td>\n",
       "      <td>134</td>\n",
       "      <td>0.09</td>\n",
       "      <td>13784</td>\n",
       "      <td>-4425</td>\n",
       "    </tr>\n",
       "    <tr>\n",
       "      <th>18</th>\n",
       "      <td>2013_03_15</td>\n",
       "      <td>I</td>\n",
       "      <td>4</td>\n",
       "      <td>1240.0</td>\n",
       "      <td>34</td>\n",
       "      <td>2.00</td>\n",
       "      <td>-692</td>\n",
       "      <td>906</td>\n",
       "      <td>1.12</td>\n",
       "      <td>-0.317</td>\n",
       "      <td>364</td>\n",
       "      <td>260</td>\n",
       "      <td>0.28</td>\n",
       "      <td>3406</td>\n",
       "      <td>-1901</td>\n",
       "    </tr>\n",
       "    <tr>\n",
       "      <th>20</th>\n",
       "      <td>2013_03_19</td>\n",
       "      <td>II</td>\n",
       "      <td>1</td>\n",
       "      <td>1612.0</td>\n",
       "      <td>18</td>\n",
       "      <td>3.79</td>\n",
       "      <td>-655</td>\n",
       "      <td>3087</td>\n",
       "      <td>1.54</td>\n",
       "      <td>-0.385</td>\n",
       "      <td>348</td>\n",
       "      <td>15</td>\n",
       "      <td>0.96</td>\n",
       "      <td>4633</td>\n",
       "      <td>-1881</td>\n",
       "    </tr>\n",
       "    <tr>\n",
       "      <th>25</th>\n",
       "      <td>2013_03_21</td>\n",
       "      <td>II</td>\n",
       "      <td>2</td>\n",
       "      <td>1539.0</td>\n",
       "      <td>43</td>\n",
       "      <td>3.62</td>\n",
       "      <td>-664</td>\n",
       "      <td>741</td>\n",
       "      <td>1.56</td>\n",
       "      <td>-0.046</td>\n",
       "      <td>85</td>\n",
       "      <td>24</td>\n",
       "      <td>0.72</td>\n",
       "      <td>18073</td>\n",
       "      <td>-7802</td>\n",
       "    </tr>\n",
       "    <tr>\n",
       "      <th>28</th>\n",
       "      <td>2013_03_25</td>\n",
       "      <td>II</td>\n",
       "      <td>1</td>\n",
       "      <td>1453.0</td>\n",
       "      <td>72</td>\n",
       "      <td>3.42</td>\n",
       "      <td>-92</td>\n",
       "      <td>1652</td>\n",
       "      <td>0.22</td>\n",
       "      <td>-0.008</td>\n",
       "      <td>136</td>\n",
       "      <td>0</td>\n",
       "      <td>1.00</td>\n",
       "      <td>10645</td>\n",
       "      <td>-678</td>\n",
       "    </tr>\n",
       "    <tr>\n",
       "      <th>34</th>\n",
       "      <td>2013_04_03</td>\n",
       "      <td>II</td>\n",
       "      <td>1</td>\n",
       "      <td>1182.0</td>\n",
       "      <td>28</td>\n",
       "      <td>2.78</td>\n",
       "      <td>-522</td>\n",
       "      <td>1197</td>\n",
       "      <td>1.23</td>\n",
       "      <td>-0.118</td>\n",
       "      <td>281</td>\n",
       "      <td>0</td>\n",
       "      <td>1.00</td>\n",
       "      <td>4213</td>\n",
       "      <td>-1860</td>\n",
       "    </tr>\n",
       "  </tbody>\n",
       "</table>\n",
       "</div>"
      ],
      "text/plain": [
       "          date  ID  trial number  impact force (mN)  impact time (ms)  \\\n",
       "0   2013_02_26   I             3             1205.0                46   \n",
       "1   2013_02_26   I             4             2527.0                44   \n",
       "2   2013_03_01   I             1             1745.0                34   \n",
       "3   2013_03_01   I             2             1556.0                41   \n",
       "5   2013_03_01   I             4             2276.0                31   \n",
       "7   2013_03_05   I             2             1928.0                46   \n",
       "8   2013_03_05   I             3             2641.0                50   \n",
       "9   2013_03_05   I             4             1897.0                41   \n",
       "10  2013_03_12   I             1             1891.0                40   \n",
       "11  2013_03_12   I             2             1545.0                48   \n",
       "12  2013_03_12   I             3             1307.0                29   \n",
       "13  2013_03_12   I             4             1692.0                31   \n",
       "14  2013_03_12   I             5             1543.0                38   \n",
       "15  2013_03_15   I             1             1282.0                31   \n",
       "17  2013_03_15   I             3             2032.0                60   \n",
       "18  2013_03_15   I             4             1240.0                34   \n",
       "20  2013_03_19  II             1             1612.0                18   \n",
       "25  2013_03_21  II             2             1539.0                43   \n",
       "28  2013_03_25  II             1             1453.0                72   \n",
       "34  2013_04_03  II             1             1182.0                28   \n",
       "\n",
       "    impact force / body weight  adhesive force (mN)  \\\n",
       "0                         1.95                 -785   \n",
       "1                         4.08                 -983   \n",
       "2                         2.82                 -850   \n",
       "3                         2.51                 -455   \n",
       "5                         3.68                 -592   \n",
       "7                         3.11                 -804   \n",
       "8                         4.27                 -690   \n",
       "9                         3.06                 -462   \n",
       "10                        3.06                 -766   \n",
       "11                        2.50                 -715   \n",
       "12                        2.11                 -613   \n",
       "13                        2.73                 -677   \n",
       "14                        2.49                 -528   \n",
       "15                        2.07                 -452   \n",
       "17                        3.28                 -652   \n",
       "18                        2.00                 -692   \n",
       "20                        3.79                 -655   \n",
       "25                        3.62                 -664   \n",
       "28                        3.42                  -92   \n",
       "34                        2.78                 -522   \n",
       "\n",
       "    time frog pulls on target (ms)  adhesive force / body weight  \\\n",
       "0                              884                          1.27   \n",
       "1                              248                          1.59   \n",
       "2                              211                          1.37   \n",
       "3                             1025                          0.74   \n",
       "5                              969                          0.96   \n",
       "7                              508                          1.30   \n",
       "8                              491                          1.12   \n",
       "9                              839                          0.75   \n",
       "10                            1069                          1.24   \n",
       "11                             649                          1.15   \n",
       "12                            1845                          0.99   \n",
       "13                             917                          1.09   \n",
       "14                             750                          0.85   \n",
       "15                             785                          0.73   \n",
       "17                             486                          1.05   \n",
       "18                             906                          1.12   \n",
       "20                            3087                          1.54   \n",
       "25                             741                          1.56   \n",
       "28                            1652                          0.22   \n",
       "34                            1197                          1.23   \n",
       "\n",
       "    adhesive impulse (N-s)  total contact area (mm2)  \\\n",
       "0                   -0.290                       387   \n",
       "1                   -0.181                       101   \n",
       "2                   -0.157                        83   \n",
       "3                   -0.170                       330   \n",
       "5                   -0.176                       341   \n",
       "7                   -0.285                       246   \n",
       "8                   -0.239                       269   \n",
       "9                   -0.328                       266   \n",
       "10                  -0.380                       408   \n",
       "11                  -0.298                       141   \n",
       "12                  -0.768                       455   \n",
       "13                  -0.457                       186   \n",
       "14                  -0.353                       153   \n",
       "15                  -0.253                       290   \n",
       "17                  -0.257                       147   \n",
       "18                  -0.317                       364   \n",
       "20                  -0.385                       348   \n",
       "25                  -0.046                        85   \n",
       "28                  -0.008                       136   \n",
       "34                  -0.118                       281   \n",
       "\n",
       "    contact area without mucus (mm2)  \\\n",
       "0                                 70   \n",
       "1                                 94   \n",
       "2                                 79   \n",
       "3                                158   \n",
       "5                                106   \n",
       "7                                178   \n",
       "8                                224   \n",
       "9                                176   \n",
       "10                                33   \n",
       "11                               112   \n",
       "12                                92   \n",
       "13                               129   \n",
       "14                               148   \n",
       "15                               105   \n",
       "17                               134   \n",
       "18                               260   \n",
       "20                                15   \n",
       "25                                24   \n",
       "28                                 0   \n",
       "34                                 0   \n",
       "\n",
       "    contact area with mucus / contact area without mucus  \\\n",
       "0                                                0.82      \n",
       "1                                                0.07      \n",
       "2                                                0.05      \n",
       "3                                                0.52      \n",
       "5                                                0.69      \n",
       "7                                                0.28      \n",
       "8                                                0.17      \n",
       "9                                                0.34      \n",
       "10                                               0.92      \n",
       "11                                               0.21      \n",
       "12                                               0.80      \n",
       "13                                               0.31      \n",
       "14                                               0.03      \n",
       "15                                               0.64      \n",
       "17                                               0.09      \n",
       "18                                               0.28      \n",
       "20                                               0.96      \n",
       "25                                               0.72      \n",
       "28                                               1.00      \n",
       "34                                               1.00      \n",
       "\n",
       "    contact pressure (Pa)  adhesive strength (Pa)  \n",
       "0                    3117                   -2030  \n",
       "1                   24923                   -9695  \n",
       "2                   21020                  -10239  \n",
       "3                    4718                   -1381  \n",
       "5                    6676                   -1737  \n",
       "7                    7832                   -3266  \n",
       "8                    9824                   -2568  \n",
       "9                    7122                   -1733  \n",
       "10                   4638                   -1879  \n",
       "11                  10947                   -5064  \n",
       "12                   2874                   -1348  \n",
       "13                   9089                   -3636  \n",
       "14                  10095                   -3453  \n",
       "15                   4419                   -1557  \n",
       "17                  13784                   -4425  \n",
       "18                   3406                   -1901  \n",
       "20                   4633                   -1881  \n",
       "25                  18073                   -7802  \n",
       "28                  10645                    -678  \n",
       "34                   4213                   -1860  "
      ]
     },
     "execution_count": 6,
     "metadata": {},
     "output_type": "execute_result"
    }
   ],
   "source": [
    "# Generate True/False array of rows for indexing\n",
    "inds = df['impact force (mN)'] > 1000.0\n",
    "\n",
    "# Slice out rows we want (big force rows)\n",
    "df_big_force = df.loc[inds, :]\n",
    "\n",
    "# Let's look at it; there will be only a few high-force values\n",
    "df_big_force"
   ]
  },
  {
   "cell_type": "code",
   "execution_count": 7,
   "metadata": {
    "collapsed": false
   },
   "outputs": [
    {
     "data": {
      "text/plain": [
       "date                                                    2013_05_27\n",
       "ID                                                             III\n",
       "trial number                                                     3\n",
       "impact force (mN)                                              324\n",
       "impact time (ms)                                               105\n",
       "impact force / body weight                                    2.61\n",
       "adhesive force (mN)                                           -172\n",
       "time frog pulls on target (ms)                                 619\n",
       "adhesive force / body weight                                  1.38\n",
       "adhesive impulse (N-s)                                      -0.079\n",
       "total contact area (mm2)                                        55\n",
       "contact area without mucus (mm2)                                23\n",
       "contact area with mucus / contact area without mucus          0.37\n",
       "contact pressure (Pa)                                         5946\n",
       "adhesive strength (Pa)                                       -3149\n",
       "Name: 42, dtype: object"
      ]
     },
     "execution_count": 7,
     "metadata": {},
     "output_type": "execute_result"
    }
   ],
   "source": [
    "# Let's slice out experiment with index 42\n",
    "exp_42 = df.loc[42, :]\n",
    "\n",
    "# And now let's look at it\n",
    "exp_42"
   ]
  },
  {
   "cell_type": "code",
   "execution_count": 8,
   "metadata": {
    "collapsed": false
   },
   "outputs": [
    {
     "data": {
      "text/html": [
       "<div>\n",
       "<table border=\"1\" class=\"dataframe\">\n",
       "  <thead>\n",
       "    <tr style=\"text-align: right;\">\n",
       "      <th></th>\n",
       "      <th>date</th>\n",
       "      <th>ID</th>\n",
       "      <th>trial number</th>\n",
       "      <th>impact force (mN)</th>\n",
       "      <th>impact time (ms)</th>\n",
       "      <th>impact force / body weight</th>\n",
       "      <th>adhesive force (mN)</th>\n",
       "      <th>time frog pulls on target (ms)</th>\n",
       "      <th>adhesive force / body weight</th>\n",
       "      <th>adhesive impulse (N-s)</th>\n",
       "      <th>total contact area (mm2)</th>\n",
       "      <th>contact area without mucus (mm2)</th>\n",
       "      <th>contact area with mucus / contact area without mucus</th>\n",
       "      <th>contact pressure (Pa)</th>\n",
       "      <th>adhesive strength (Pa)</th>\n",
       "    </tr>\n",
       "  </thead>\n",
       "  <tbody>\n",
       "    <tr>\n",
       "      <th>42</th>\n",
       "      <td>2013_05_27</td>\n",
       "      <td>III</td>\n",
       "      <td>3</td>\n",
       "      <td>324.0</td>\n",
       "      <td>105</td>\n",
       "      <td>2.61</td>\n",
       "      <td>-172</td>\n",
       "      <td>619</td>\n",
       "      <td>1.38</td>\n",
       "      <td>-0.079</td>\n",
       "      <td>55</td>\n",
       "      <td>23</td>\n",
       "      <td>0.37</td>\n",
       "      <td>5946</td>\n",
       "      <td>-3149</td>\n",
       "    </tr>\n",
       "  </tbody>\n",
       "</table>\n",
       "</div>"
      ],
      "text/plain": [
       "          date   ID  trial number  impact force (mN)  impact time (ms)  \\\n",
       "42  2013_05_27  III             3              324.0               105   \n",
       "\n",
       "    impact force / body weight  adhesive force (mN)  \\\n",
       "42                        2.61                 -172   \n",
       "\n",
       "    time frog pulls on target (ms)  adhesive force / body weight  \\\n",
       "42                             619                          1.38   \n",
       "\n",
       "    adhesive impulse (N-s)  total contact area (mm2)  \\\n",
       "42                  -0.079                        55   \n",
       "\n",
       "    contact area without mucus (mm2)  \\\n",
       "42                                23   \n",
       "\n",
       "    contact area with mucus / contact area without mucus  \\\n",
       "42                                               0.37      \n",
       "\n",
       "    contact pressure (Pa)  adhesive strength (Pa)  \n",
       "42                   5946                   -3149  "
      ]
     },
     "execution_count": 8,
     "metadata": {},
     "output_type": "execute_result"
    }
   ],
   "source": [
    "# Set up Boolean slicing\n",
    "date = df['date'] == '2013_05_27'\n",
    "trial = df['trial number'] == 3\n",
    "ID = df['ID'] == 'III'\n",
    "\n",
    "# Slide out the row\n",
    "df.loc[date & trial & ID, :]"
   ]
  },
  {
   "cell_type": "code",
   "execution_count": 9,
   "metadata": {
    "collapsed": false
   },
   "outputs": [
    {
     "data": {
      "text/plain": [
       "date                                                    2013_05_27\n",
       "ID                                                             III\n",
       "trial number                                                     3\n",
       "impact force (mN)                                              324\n",
       "impact time (ms)                                               105\n",
       "impact force / body weight                                    2.61\n",
       "adhesive force (mN)                                           -172\n",
       "time frog pulls on target (ms)                                 619\n",
       "adhesive force / body weight                                  1.38\n",
       "adhesive impulse (N-s)                                      -0.079\n",
       "total contact area (mm2)                                        55\n",
       "contact area without mucus (mm2)                                23\n",
       "contact area with mucus / contact area without mucus          0.37\n",
       "contact pressure (Pa)                                         5946\n",
       "adhesive strength (Pa)                                       -3149\n",
       "Name: 42, dtype: object"
      ]
     },
     "execution_count": 9,
     "metadata": {},
     "output_type": "execute_result"
    }
   ],
   "source": [
    "df.loc[date & trial & ID, :].iloc[0]"
   ]
  },
  {
   "cell_type": "code",
   "execution_count": 10,
   "metadata": {
    "collapsed": false
   },
   "outputs": [
    {
     "data": {
      "text/plain": [
       "42    0.37\n",
       "Name: contact area with mucus / contact area without mucus, dtype: float64"
      ]
     },
     "execution_count": 10,
     "metadata": {},
     "output_type": "execute_result"
    }
   ],
   "source": [
    "# Set up criteria for our seach of the DataFrame\n",
    "date = df['date'] == '2013_05_27'\n",
    "trial = df['trial number'] == 3\n",
    "ID = df['ID'] == 'III'\n",
    "\n",
    "# When indexing DataFrames, use & for Boolean and (and | for or; ~ for not)\n",
    "df.loc[date & trial & ID, 'contact area with mucus / contact area without mucus']"
   ]
  },
  {
   "cell_type": "code",
   "execution_count": 11,
   "metadata": {
    "collapsed": false
   },
   "outputs": [
    {
     "data": {
      "text/plain": [
       "0    2013_02_26\n",
       "1    2013_02_26\n",
       "2    2013_03_01\n",
       "3    2013_03_01\n",
       "4    2013_03_01\n",
       "5    2013_03_01\n",
       "6    2013_03_05\n",
       "7    2013_03_05\n",
       "8    2013_03_05\n",
       "9    2013_03_05\n",
       "Name: date, dtype: object"
      ]
     },
     "execution_count": 11,
     "metadata": {},
     "output_type": "execute_result"
    }
   ],
   "source": [
    "# Attribute access\n",
    "df.date[:10]"
   ]
  },
  {
   "cell_type": "code",
   "execution_count": 12,
   "metadata": {
    "collapsed": false
   },
   "outputs": [
    {
     "data": {
      "text/plain": [
       "0.37"
      ]
     },
     "execution_count": 12,
     "metadata": {},
     "output_type": "execute_result"
    }
   ],
   "source": [
    "# Make a dictionary to rename columns\n",
    "rename_dict = {'trial number' : 'trial',\n",
    "        'contact area with mucus / contact area without mucus' : 'ca_ratio'}\n",
    "\n",
    "# Rename the columns\n",
    "df = df.rename(columns=rename_dict)\n",
    "\n",
    "# Try out our new column name\n",
    "df.ca_ratio[42]"
   ]
  },
  {
   "cell_type": "code",
   "execution_count": 13,
   "metadata": {
    "collapsed": false
   },
   "outputs": [
    {
     "data": {
      "text/plain": [
       "'trial'"
      ]
     },
     "execution_count": 13,
     "metadata": {},
     "output_type": "execute_result"
    }
   ],
   "source": [
    "# Indexing of dictionaries looks syntactially similar to cols in DataFrames\n",
    "rename_dict['trial number']"
   ]
  },
  {
   "cell_type": "code",
   "execution_count": 14,
   "metadata": {
    "collapsed": true
   },
   "outputs": [],
   "source": [
    "df = df.rename(columns={'impact force (mN)': 'impf'})"
   ]
  },
  {
   "cell_type": "code",
   "execution_count": 15,
   "metadata": {
    "collapsed": false
   },
   "outputs": [
    {
     "data": {
      "image/png": "[encoded data removed]",
      "text/plain": [
       "<matplotlib.figure.Figure at 0x1ba2fb44da0>"
      ]
     },
     "metadata": {},
     "output_type": "display_data"
    }
   ],
   "source": [
    "# Just make a scatter plot of forces\n",
    "plt.plot(df.impf, marker='.', linestyle='none')\n",
    "plt.margins(0.02)\n",
    "plt.xlabel('order in DataFrame')\n",
    "plt.ylabel('impact force (mN)');"
   ]
  },
  {
   "cell_type": "code",
   "execution_count": 16,
   "metadata": {
    "collapsed": false
   },
   "outputs": [
    {
     "data": {
      "image/png": "[encoded data removed]",
      "text/plain": [
       "<matplotlib.figure.Figure at 0x1ba2fb2fa20>"
      ]
     },
     "metadata": {},
     "output_type": "display_data"
    }
   ],
   "source": [
    "# Make a histogram plot; bins kwarg gives the number of bars\n",
    "_ = plt.hist(df.impf, bins=20, normed=False)\n",
    "plt.xlabel('impact force (mN)')\n",
    "plt.ylabel('number of observations');"
   ]
  },
  {
   "cell_type": "code",
   "execution_count": 17,
   "metadata": {
    "collapsed": false
   },
   "outputs": [
    {
     "data": {
      "image/png": "[encoded data removed]",
      "text/plain": [
       "<matplotlib.figure.Figure at 0x1ba3004fba8>"
      ]
     },
     "metadata": {},
     "output_type": "display_data"
    }
   ],
   "source": [
    "# Use Seaborn to quickly make bar graph\n",
    "sns.barplot(data=df, x='ID', y='impf')\n",
    "plt.xlabel('Frog')\n",
    "plt.ylabel('impact force (mN)');"
   ]
  },
  {
   "cell_type": "code",
   "execution_count": 18,
   "metadata": {
    "collapsed": false
   },
   "outputs": [
    {
     "data": {
      "image/png": "[encoded data removed]",
      "text/plain": [
       "<matplotlib.figure.Figure at 0x1ba2fbba470>"
      ]
     },
     "metadata": {},
     "output_type": "display_data"
    }
   ],
   "source": [
    "# Use Seaborn to make box plot\n",
    "ax = sns.boxplot(x='ID', y='impf', data=df, width=0.5)\n",
    "\n",
    "# Relabel axes\n",
    "ax.set_xlabel('Frog')\n",
    "ax.set_ylabel('Impact force (mN)');"
   ]
  },
  {
   "cell_type": "code",
   "execution_count": 19,
   "metadata": {
    "collapsed": false
   },
   "outputs": [
    {
     "data": {
      "image/png": "[encoded data removed]",
      "text/plain": [
       "<matplotlib.figure.Figure at 0x1ba30112550>"
      ]
     },
     "metadata": {},
     "output_type": "display_data"
    }
   ],
   "source": [
    "# Make the jitter plot\n",
    "ax = sns.stripplot(x='ID', y='impf', data=df, jitter=True, alpha=0.6)\n",
    "\n",
    "# Relabel axes\n",
    "ax.set_xlabel('Frog')\n",
    "ax.set_ylabel('Impact force (mN)');"
   ]
  },
  {
   "cell_type": "code",
   "execution_count": 20,
   "metadata": {
    "collapsed": false
   },
   "outputs": [
    {
     "data": {
      "image/png": "[encoded data removed]",
      "text/plain": [
       "<matplotlib.figure.Figure at 0x1ba30136358>"
      ]
     },
     "metadata": {},
     "output_type": "display_data"
    }
   ],
   "source": [
    "# Use Seaborn to make box plot\n",
    "ax = sns.boxplot(x='ID', y='impf', data=df, width=0.5)\n",
    "\n",
    "# Make the jitter plot\n",
    "ax = sns.stripplot(x='ID', y='impf', data=df, jitter=True, marker='o', \n",
    "                   alpha=0.8, color=(0.7, 0.7, 0.7))\n",
    "\n",
    "# Relabel axes\n",
    "ax.set_xlabel('Frog')\n",
    "ax.set_ylabel('Impact force (mN)');"
   ]
  },
  {
   "cell_type": "code",
   "execution_count": 21,
   "metadata": {
    "collapsed": false
   },
   "outputs": [
    {
     "data": {
      "image/png": "[encoded data removed]",
      "text/plain": [
       "<matplotlib.figure.Figure at 0x1ba30136cc0>"
      ]
     },
     "metadata": {},
     "output_type": "display_data"
    }
   ],
   "source": [
    "# Make the jitter plot\n",
    "ax = sns.swarmplot(x='ID', y='impf', data=df)\n",
    "\n",
    "# Relabel axes\n",
    "ax.set_xlabel('Frog')\n",
    "ax.set_ylabel('Impact force (mN)');"
   ]
  },
  {
   "cell_type": "code",
   "execution_count": 22,
   "metadata": {
    "collapsed": false
   },
   "outputs": [
    {
     "data": {
      "image/png": "[encoded data removed]",
      "text/plain": [
       "<matplotlib.figure.Figure at 0x1ba302a96a0>"
      ]
     },
     "metadata": {},
     "output_type": "display_data"
    }
   ],
   "source": [
    "# Make the jitter plot\n",
    "ax = sns.swarmplot(x='ID', y='impf', data=df, hue='date')\n",
    "\n",
    "# Remove legend because it gets in the way\n",
    "ax.legend_.remove()\n",
    "\n",
    "# Relabel axes\n",
    "ax.set_xlabel('Frog')\n",
    "ax.set_ylabel('Impact force (mN)');"
   ]
  },
  {
   "cell_type": "markdown",
   "metadata": {},
   "source": [
    "Eyeballing it, it does not look like they come from the same distribution. Frog A, the adult, has three or four very hard strikes, and Frog B, the juvenile, has a couple weak ones. However, it is possible that with only 20 samples it might be too difficult to tell if they have difference distributions, so we should proceed with the hypothesis test."
   ]
  },
  {
   "cell_type": "code",
   "execution_count": 23,
   "metadata": {
    "collapsed": false
   },
   "outputs": [
    {
     "data": {
      "image/png": "[encoded data removed]",
      "text/plain": [
       "<matplotlib.figure.Figure at 0x1ba302c4780>"
      ]
     },
     "metadata": {},
     "output_type": "display_data"
    }
   ],
   "source": [
    "# Rename the column for convenience in future use\n",
    "df = df.rename(columns={'adhesive force (mN)' : 'adhf'})\n",
    "\n",
    "# Plot adhesive force vs. impact force\n",
    "plt.plot(df.impf, df.adhf, marker='.', linestyle='none', alpha=0.6)\n",
    "plt.xlabel('impact force (mN)')\n",
    "plt.ylabel('adhesive force (mN)');"
   ]
  },
  {
   "cell_type": "code",
   "execution_count": 44,
   "metadata": {
    "collapsed": false
   },
   "outputs": [],
   "source": [
    "force_a = df[df.ID =='II']\n",
    "force_b = df[df.ID == 'IV']\n",
    "\n",
    "\n",
    "def permutation_sample(data1, data2):\n",
    "    \"\"\"Generate a permutation sample from two data sets.\"\"\"\n",
    "\n",
    "    # Concatenate the data sets: data\n",
    "    data = np.concatenate((data1, data2))\n",
    "\n",
    "    # Permute the concatenated array: permuted_data\n",
    "    permuted_data = np.random.permutation(data)\n",
    "\n",
    "    # Split the permuted array into two: perm_sample_1, perm_sample_2\n",
    "    perm_sample_1 = permuted_data[:len(data1)]\n",
    "    perm_sample_2 = permuted_data[len(data1):]\n",
    "\n",
    "    return perm_sample_1, perm_sample_2\n",
    "\n",
    "def draw_perm_reps(data_1, data_2, func, size=1):\n",
    "    \"\"\"Generate multiple permutation replicates.\"\"\"\n",
    "\n",
    "    # Initialize array of replicates: perm_replicates\n",
    "    perm_replicates = np.empty(size)\n",
    "\n",
    "    for i in range(size):\n",
    "        # Generate permutation sample\n",
    "        perm_sample_1, perm_sample_2 = permutation_sample(data_1, data_2)\n",
    "\n",
    "        # Compute the test statistic\n",
    "        perm_replicates[i] = func(perm_sample_1, perm_sample_2)\n",
    "\n",
    "    return perm_replicates"
   ]
  },
  {
   "cell_type": "code",
   "execution_count": 60,
   "metadata": {
    "collapsed": false
   },
   "outputs": [
    {
     "name": "stdout",
     "output_type": "stream",
     "text": [
      "p-value = 0.0051\n"
     ]
    }
   ],
   "source": [
    "def diff_of_means(data_1, data_2):\n",
    "    \"\"\"Difference in means of two arrays.\"\"\"\n",
    "\n",
    "    # The difference of means of data_1, data_2: diff\n",
    "    diff = np.mean(data_1) - np.mean(data_2)\n",
    "    return diff\n",
    "\n",
    "\n",
    "# Compute difference of mean impact force from experiment: empirical_diff_means\n",
    "empirical_diff_means = diff_of_means(force_a['impf']/1000, force_b['impf']/1000)\n",
    "\n",
    "# Draw 10,000 permutation replicates: perm_replicates\n",
    "perm_replicates = draw_perm_reps(force_a['impf']/1000, force_b['impf']/1000, diff_of_means , size=10000)\n",
    "\n",
    "# Compute p-value: p\n",
    "p = np.sum( perm_replicates >= empirical_diff_means) / len(perm_replicates)\n",
    "\n",
    "# Print the result\n",
    "print('p-value =', p)\n",
    "\n"
   ]
  },
  {
   "cell_type": "markdown",
   "metadata": {},
   "source": [
    "The p-value tells you that there is about a 0.6% chance that you would get the difference of means observed in the experiment if frogs were exactly the same. A p-value below 0.01 is typically said to be \"statistically significant,\", but: warning! warning! warning! You have computed a p-value; it is a number. I encourage you not to distill it to a yes-or-no phrase. p = 0.006 and p = 0.000000006 are both said to be \"statistically significant,\" but they are definitely not the same!"
   ]
  },
  {
   "cell_type": "code",
   "execution_count": 59,
   "metadata": {
    "collapsed": false
   },
   "outputs": [
    {
     "name": "stdout",
     "output_type": "stream",
     "text": [
      "p =  0.006\n"
     ]
    }
   ],
   "source": [
    "def bootstrap_replicate_1d(data, func):\n",
    "    return func(np.random.choice(data, size=len(data)))\n",
    "\n",
    "def draw_bs_reps(data, func, size=1):\n",
    "    \"\"\"Draw bootstrap replicates.\"\"\"\n",
    "\n",
    "    # Initialize array of replicates: bs_replicates\n",
    "    bs_replicates = np.empty(size)\n",
    "\n",
    "    # Generate replicates\n",
    "    for i in range(size):\n",
    "        bs_replicates[i] = bootstrap_replicate_1d(data, func)\n",
    "\n",
    "    return bs_replicates\n",
    "\n",
    "# Make an array of translated impact forces: translated_force_b\n",
    "translated_force_b = force_b ['impf']/1000 - np.mean(force_b['impf']/1000) + 0.55\n",
    "\n",
    "# Take bootstrap replicates of Frog B's translated impact forces: bs_replicates\n",
    "bs_replicates = draw_bs_reps(translated_force_b, np.mean, 10000)\n",
    "\n",
    "# Compute fraction of replicates that are less than the observed Frog B force: p\n",
    "p = np.sum(bs_replicates <= np.mean(force_b['impf']/1000)) / 10000\n",
    "\n",
    "# Print the p-value\n",
    "print('p = ', p)\n"
   ]
  },
  {
   "cell_type": "markdown",
   "metadata": {},
   "source": [
    "Great work! The low p-value suggests that the null hypothesis that Frog B and Frog C have the same mean impact force is false."
   ]
  },
  {
   "cell_type": "code",
   "execution_count": 57,
   "metadata": {
    "collapsed": false
   },
   "outputs": [
    {
     "name": "stdout",
     "output_type": "stream",
     "text": [
      "p-value = 0.0062\n"
     ]
    }
   ],
   "source": [
    "\n",
    "# Compute difference of mean impact force from experiment: empirical_diff_means\n",
    "empirical_diff_means = diff_of_means(force_a['impf']/1000, force_b['impf']/1000)\n",
    "\n",
    "# Concatenate forces: forces_concat\n",
    "forces_concat = np.concatenate((force_a['impf']/1000, force_b['impf']/1000))\n",
    "\n",
    "# Initialize bootstrap replicates: bs_replicates\n",
    "bs_replicates = np.empty(10000)\n",
    "\n",
    "for i in range(10000):\n",
    "    # Generate bootstrap sample\n",
    "    bs_sample = np.random.choice(forces_concat, size=len(forces_concat))\n",
    "\n",
    "    # Compute replicate\n",
    "    bs_replicates[i] = diff_of_means(bs_sample[:len(force_a['impf'])], bs_sample[len(force_a['impf']):])\n",
    "\n",
    "# Compute and print p-value: p\n",
    "p = np.sum(bs_replicates >= empirical_diff_means) / len(bs_replicates)\n",
    "print('p-value =', p)\n",
    "\n"
   ]
  },
  {
   "cell_type": "markdown",
   "metadata": {},
   "source": [
    "Great work! You may remember that we got p = 0.0063 from the permutation test, and here we got p = 0.0055. These are very close, and indeed the tests are testing the same thing. However, the permutation test exactly simulates the null hypothesis that the data come from the same distribution, whereas the bootstrap test approximately simulates it. As we will see, though, the bootstrap hypothesis test, while approximate, is more versatile."
   ]
  },
  {
   "cell_type": "code",
   "execution_count": 56,
   "metadata": {
    "collapsed": false
   },
   "outputs": [
    {
     "name": "stdout",
     "output_type": "stream",
     "text": [
      "p-value = 0.0046\n"
     ]
    }
   ],
   "source": [
    "# Compute mean of all forces: mean_force\n",
    "mean_force = np.mean(forces_concat)\n",
    "\n",
    "# Generate shifted arrays\n",
    "force_a_shifted = force_a['impf']/1000 - np.mean(force_a['impf'])/1000 + mean_force\n",
    "force_b_shifted = force_b['impf']/1000 - np.mean(force_b['impf'])/1000 + mean_force\n",
    "\n",
    "# Compute 10,000 bootstrap replicates from shifted arrays\n",
    "bs_replicates_a = draw_bs_reps(force_a_shifted, np.mean, size=10000)\n",
    "bs_replicates_b = draw_bs_reps(force_b_shifted, np.mean, size=10000)\n",
    "\n",
    "# Get replicates of difference of means: bs_replicates\n",
    "bs_replicates = bs_replicates_a - bs_replicates_b\n",
    "\n",
    "# Compute and print p-value: p\n",
    "p = np.sum(bs_replicates >= empirical_diff_means) / len(bs_replicates)\n",
    "print('p-value =', p)"
   ]
  },
  {
   "cell_type": "markdown",
   "metadata": {},
   "source": [
    "Nice work! Not surprisingly, the more forgiving hypothesis, only that the means are equal as opposed to having identical distributions, gives a higher p-value. Again, it is important to carefully think about what question you want to ask. Are you only interested in the mean impact force, or the distribution of impact forces?"
   ]
  },
  {
   "cell_type": "code",
   "execution_count": null,
   "metadata": {
    "collapsed": true
   },
   "outputs": [],
   "source": []
  }
 ],
 "metadata": {
  "anaconda-cloud": {},
  "kernelspec": {
   "display_name": "Python [Root]",
   "language": "python",
   "name": "Python [Root]"
  },
  "language_info": {
   "codemirror_mode": {
    "name": "ipython",
    "version": 3
   },
   "file_extension": ".py",
   "mimetype": "text/x-python",
   "name": "python",
   "nbconvert_exporter": "python",
   "pygments_lexer": "ipython3",
   "version": "3.5.2"
  }
 },
 "nbformat": 4,
 "nbformat_minor": 0
}
