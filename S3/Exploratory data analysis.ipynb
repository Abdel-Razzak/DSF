{
 "cells": [
  {
   "cell_type": "markdown",
   "metadata": {},
   "source": [
    "# Exploratory Data Analysis (EDA 8 hours) \n",
    "\n",
    "This session presents the assumptions, principles, and techniques necessary to gain insight into data via EDA--exploratory data analysis.\n",
    "\n",
    "we will be covering the essential exploratory techniques for summarizing data. These techniques are typically applied before formal modeling commences and can help inform the development of more complex statistical models. Exploratory techniques are also important for eliminating or sharpening potential hypotheses about the world that can be addressed by the data. \n",
    "\n",
    "## Objectives \n",
    "Upon completion of the subject, students will be able to:\n",
    "* Use a variety of basic techniques in understanding and interpreting data;\n",
    "* Apply elementary statistical methods in analyzing business scenarios and problems;\n",
    "* Think critically and creatively about the uses and limitations of statistical methods in business;\n",
    "* Use statistical package and interpret the output, appreciate the applications of information technology for statistical analysis in business."
   ]
  },
  {
   "cell_type": "markdown",
   "metadata": {},
   "source": [
    "## Session Outline\n",
    "\n",
    "* ### EDA Introduction\n",
    "    * Introduction to statistics: Thniking like data sience\n",
    "    \n",
    "* ### EDA Techniques and Data Visualization \n",
    "    * catagorical variable and Numerical variable, \n",
    "    * summative statiscis: Normal distributions, mean, variance\n",
    "    * Association \n",
    "    * Some important distributions: \n",
    "        * Central Limit Theorem\n",
    "        * Correcting distributions\n",
    "        * Other important distributions\n",
    "    * Hypothesis Testing: T-test, Chi-squared test, Fisher test, etc… \n",
    "* ### Data Science Projects: weather forecasting, "
   ]
  },
  {
   "cell_type": "markdown",
   "metadata": {
    "collapsed": true
   },
   "source": [
    "## Learning Methods\n",
    "\n",
    "> ** Mini lectures:** \n",
    "Throught out this session implementation, the facilitator will give several presentations **(total estimate time 1:30 hours)** to introduce and higlight why its important to know how to apply EDA to your data project.\n",
    "> ** hands on practices & problem solving:**\n",
    "after   lectures the participants will go through implementing some lab exercises and projcet challenges to capture technical techniques and methods used in python for working with data. the activites will be divided as follows:\n",
    "* technical labs exercises on python **(2:30 hours)**\n",
    "* 2 Case studies **(2 hours)**\n",
    "* implementing data scienct micro projects **(2 hours)**\n",
    "    "
   ]
  },
  {
   "cell_type": "markdown",
   "metadata": {},
   "source": [
    "## Sessions\n",
    "### [Introduction to statistics: Thniking like data sience](Statistical_Thinking_likeDataScience.ipynb)\n",
    "\n",
    "What is exploratory data analysis? How did it begin? How and where did it originate? How is it differentiated from other data analysis approaches, such as classical and Bayesian? Is EDA the same as statistical graphics? What role does statistical graphics play in EDA? Is statistical graphics identical to EDA?\n",
    "\n",
    "These questions and related questions are dealt with in this session. This session answers these questions and provides the necessary frame of reference for EDA assumptions, principles, and techniques. [Introduction](http://www.itl.nist.gov/div898/handbook/eda/section1/eda1.htm) \n",
    "\n",
    "* What is EDA?\n",
    "* EDA vs Classical & Bayesian\n",
    "* EDA vs Summary\n",
    "* EDA Goals\n",
    "* The Role of Graphics\n",
    "\n",
    "#### lab exercises using python (30 min)\n",
    "EDA, which comes before formal hypothesis testing and modeling, makes use of visual methods to analyze and summarize data sets. python will be our tool for generating those visuals and conducting analyses. a quick overview of python capabilities will be demonstrated in this [lab sheet](Statistical_Thinking_likeDataScience.ipynb)\n",
    "\n",
    "#### case studies:  (30 min)\n",
    "The following case studies will be presented to workshop participants to highlight the importance and impact that  EDA have on data modeling and data science in general.\n",
    "* [Soccer – Exploratory Data Analysis](http://ucanalytics.com/blogs/exploratory-data-analysis-retail-case-study-example-part-3/)\n",
    "* [Exploratory Data Analysis – Retail Case Study Example](http://ucanalytics.com/blogs/exploratory-data-analysis-retail-case-study-example-part-3/)\n",
    "\n",
    "\n"
   ]
  },
  {
   "cell_type": "markdown",
   "metadata": {},
   "source": [
    "###  Working with Data: EDA Techniques and visualization\n",
    "\n",
    "* #### mini lectures: EDA Techniques and Data Visualization \n",
    "    * [Data: catagorical variable and Numerical variable](working_with_data_1.pptx)\n",
    "    * [summative statiscis: Normal distributions, mean, variance](working_with_data_2.pptx)\n",
    "    * [Association](working_with_data_3.pptx)\n",
    "    * [Some important distributions:](4_5.pptx)\n",
    "        Central Limit Theorem\n",
    "        Correcting distributions\n",
    "        Other important distributions\n",
    "    * [Hypothesis Testing: T-test, Chi-squared test, Fisher test, etc…](4_5.pptx)\n",
    "\n",
    "#### lab exercises using python \n",
    "Participants will be able to use EDA techniques and visulaization methods in python by going through the following lab sheets examples \n",
    "* [lab examples](lab)**(2 hours)** \n",
    "\n",
    "#### micro-project\n",
    "then they will start applying what they have learned on real life examples and challenges such as the following:\n",
    "* [Weather forecasting challenge](project/1) **(1 hour)**\n",
    "* [Baby name analysis challenge](project/2) **(1 hour)**\n",
    "\n",
    "#### case studies: (1:30 hours)\n",
    "The following case studies will be presented to workshop participants to highlight the importance and impact that  EDA have on data modeling and data science in general.\n",
    "* During session presentation [Americans More Optimistic About Job Market in September](http://www.gallup.com/poll/185483/americans-optimistic-job-market-september.aspx)\n",
    "* Group discussion activity : [How President Obama’s campaign used big data to rally individual voters.](https://www.technologyreview.com/s/509026/how-obamas-team-used-big-data-to-rally-voters/)\n"
   ]
  }
 ],
 "metadata": {
  "anaconda-cloud": {},
  "kernelspec": {
   "display_name": "Python [default]",
   "language": "python",
   "name": "python3"
  },
  "language_info": {
   "codemirror_mode": {
    "name": "ipython",
    "version": 3
   },
   "file_extension": ".py",
   "mimetype": "text/x-python",
   "name": "python",
   "nbconvert_exporter": "python",
   "pygments_lexer": "ipython3",
   "version": "3.5.2"
  }
 },
 "nbformat": 4,
 "nbformat_minor": 0
}
