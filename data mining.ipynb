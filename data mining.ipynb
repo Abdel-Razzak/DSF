{
 "cells": [
  {
   "cell_type": "markdown",
   "metadata": {},
   "source": [
    "### Data preprocessing\n",
    "\n",
    "* #### Why preprocessing ?\n",
    "\n",
    "    * Real world data are generally\n",
    "        * Incomplete: lacking attribute values, lacking certain attributes of interest, or containing only aggregate data\n",
    "        *  Noisy: containing errors or outliers\n",
    "        * Inconsistent: containing discrepancies in codes or names\n",
    "* #### Tasks in data preprocessing\n",
    "        * Data cleaning: fill in missing values, smooth noisy data, identify or remove outliers, and resolve inconsistencies.\n",
    "        * Data integration: using multiple databases, data cubes, or files.\n",
    "        * Data transformation: normalization and aggregation.\n",
    "        * Data reduction: reducing the volume but producing the same or similar analytical results.\n",
    "        * Data discretization: part of data reduction, replacing numerical attributes with nominal ones.\n",
    "\n",
    "* #### Data cleaning\n",
    "\n",
    "    Fill in missing values (attribute or class value):\n",
    "        Ignore the tuple: usually done when class label is missing.\n",
    "        Use the attribute mean (or majority nominal value) to fill in the missing value.\n",
    "        Use the attribute mean (or majority nominal value) for all samples belonging to the same class.\n",
    "        Predict the missing value by using a learning algorithm: consider the attribute with the missing value as a dependent (class) variable and run a learning algorithm (usually Bayes or decision tree) to predict the missing value.\n",
    "    Identify outliers and smooth out noisy data:\n",
    "        Binning\n",
    "            Sort the attribute values and partition them into bins (see \"Unsupervised discretization\" below);\n",
    "            Then smooth by bin means,  bin median, or  bin boundaries.\n",
    "        Clustering: group values in clusters and then detect and remove outliers (automatic or manual)\n",
    "        Regression: smooth by fitting the data into regression functions.\n",
    "    Correct inconsistent data: use domain knowledge or expert decision.\n",
    "\n",
    "* #### Data transformation\n",
    "\n",
    "    Normalization:\n",
    "        Scaling attribute values to fall within a specified range.\n",
    "            Example: to transform V in [min, max] to V' in [0,1], apply V'=(V-Min)/(Max-Min)\n",
    "        Scaling by using mean and standard deviation (useful when min and max are unknown or when there are outliers): V'=(V-Mean)/StDev\n",
    "    Aggregation: moving up in the concept hierarchy on numeric attributes.\n",
    "    Generalization: moving up in the concept hierarchy on nominal attributes.\n",
    "    Attribute construction: replacing or adding new attributes inferred by existing attributes.\n",
    "\n",
    "* #### Data reduction\n",
    "\n",
    "    Reducing the number of attributes\n",
    "        Data cube aggregation: applying roll-up, slice or dice operations.\n",
    "        Removing irrelevant attributes: attribute selection (filtering and wrapper methods), searching the attribute space (see Lecture 5: Attribute-oriented analysis).\n",
    "        Principle component analysis (numeric attributes only): searching for a lower dimensional space that can best represent the data..\n",
    "    Reducing the number of attribute values\n",
    "        Binning (histograms): reducing the number of attributes by grouping them into intervals (bins).\n",
    "        Clustering: grouping values in clusters.\n",
    "        Aggregation or generalization\n",
    "    Reducing the number of tuples\n",
    "        Sampling\n"
   ]
  },
  {
   "cell_type": "code",
   "execution_count": null,
   "metadata": {
    "collapsed": true
   },
   "outputs": [],
   "source": []
  }
 ],
 "metadata": {
  "anaconda-cloud": {},
  "kernelspec": {
   "display_name": "Python [Root]",
   "language": "python",
   "name": "Python [Root]"
  },
  "language_info": {
   "codemirror_mode": {
    "name": "ipython",
    "version": 3
   },
   "file_extension": ".py",
   "mimetype": "text/x-python",
   "name": "python",
   "nbconvert_exporter": "python",
   "pygments_lexer": "ipython3",
   "version": "3.5.2"
  }
 },
 "nbformat": 4,
 "nbformat_minor": 0
}
