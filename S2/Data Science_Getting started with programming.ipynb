{
 "cells": [
  {
   "cell_type": "markdown",
   "metadata": {},
   "source": [
    "# Session 2: Introduction to Data Science with Python (4 hours)\n",
    "\n",
    "> Data science has been described as intersection of programming, statistics and topical expertise. Python is an excellent programming tool for data analysis because it's friendly, pragmatic, mature and because it's complemented by excellent third party packages that were designed to deal with large amounts of data. \n",
    "through this session I will show you how to set up your analysis environment and provides a refresher on the basics of working with data containers in Python. Then he jumps into the big stuff: the power of arrays, indexing, and DataFrames in NumPy and Pandas so We will start this session by reviewing Python data containers which are useful on their own and which set the model for the more powerful data objects of NumPy and Pandas. \n",
    "\n",
    "## Key Issues\n",
    "* [setup and packages](https://docs.continuum.io/anaconda/install)\n",
    "* [Writing and running Python in iPython](https://docs.continuum.io/anaconda/install)\n",
    "* [Using Python lists](https://github.com/Abdel-Razzak/DSF/blob/master/S2/iPython%20notes/Python%20Data%20Containers_%20lists%20and%20slices.ipynb) \n",
    "* [and dictionaries](https://github.com/Abdel-Razzak/DSF/blob/master/S2/iPython%20notes/Using%20Python_Dictionaries.ipynb)\n",
    "* [Learning Numpy -Creating Arrays-](https://github.com/Abdel-Razzak/DSF/blob/master/S2/iPython%20notes/Learning%20Numpy/1-Creating%20Arrays.ipynb)\n",
    "\n"
   ]
  },
  {
   "cell_type": "markdown",
   "metadata": {
    "collapsed": true
   },
   "source": [
    "## Proposed Training Strategy:\n",
    "* ### Intro: **(10 min)**\n",
    "In order to give the participants an idea on what they will be doing through our workshop implementation, the facilitator will start the session by  presenting a [quick overview on how python is used as data analysis tool](intro.ipynb), during the prsentation examples on exploratory data analysis mehtods and data visulization techniques are shown and explored by  workshop participants \n",
    "* ### install working invironment **(20 min)**\n",
    "Participants will be able to setup and configure their working environment by installing python packages.\n",
    "* ### mini lecture prsentation **(30 min)**\n",
    "The goal of the presentation is to provide a [quick review of a well known data science tools](Python_Data_Science_Stack.pdf) to participants before starting writing and coding on ipython\n",
    "\n",
    "* Individual activities: after the presentation participants will start working on labsheets inorder to get ready for anagrams challenge [lab sheets](iPython notes)**(1 hour)**\n",
    "\n",
    "* group activity: participants will be divide into groups in order to solve [anagrams challenge](iPython notes/Word Anagrams_Project Overview.ipynb)**(2 hours)**"
   ]
  },
  {
   "cell_type": "code",
   "execution_count": null,
   "metadata": {
    "collapsed": true
   },
   "outputs": [],
   "source": []
  }
 ],
 "metadata": {
  "anaconda-cloud": {},
  "kernelspec": {
   "display_name": "Python [Root]",
   "language": "python",
   "name": "Python [Root]"
  },
  "language_info": {
   "codemirror_mode": {
    "name": "ipython",
    "version": 3
   },
   "file_extension": ".py",
   "mimetype": "text/x-python",
   "name": "python",
   "nbconvert_exporter": "python",
   "pygments_lexer": "ipython3",
   "version": "3.5.2"
  }
 },
 "nbformat": 4,
 "nbformat_minor": 0
}
