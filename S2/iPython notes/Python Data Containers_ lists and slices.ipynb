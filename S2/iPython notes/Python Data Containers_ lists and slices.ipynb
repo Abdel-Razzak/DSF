{
 "cells": [
  {
   "cell_type": "markdown",
   "metadata": {},
   "source": [
    "# Introduction to Data Analysis with Python\n",
    "## Python Refresher: Data Containers\n",
    "## Learning Objectives\n",
    "at the end of this session, participants will abe to apply:\n",
    "* Python lists, indexing and slicing\n",
    "* Python dictionaries (dicts)\n",
    "* Python list and dict comprehensions\n"
   ]
  },
  {
   "cell_type": "code",
   "execution_count": 12,
   "metadata": {
    "collapsed": true
   },
   "outputs": [],
   "source": [
    "nephews = [\"ALi\",\"Abed\",\"Moe\"]"
   ]
  },
  {
   "cell_type": "markdown",
   "metadata": {},
   "source": [
    "Lists in Python are denoted by brackets, and their elements are separated by commas. Let's look at the list that we just created."
   ]
  },
  {
   "cell_type": "markdown",
   "metadata": {},
   "source": [
    "Individual list elements can be accessed by index. Starting with zero for the first element. For instance, the first nephew is Ali. This convention of starting from zero comes from C. The language that inspired Python, and that was used to write the standard Python interpreter which is known as CPython for this reason. "
   ]
  },
  {
   "cell_type": "code",
   "execution_count": 3,
   "metadata": {
    "collapsed": false
   },
   "outputs": [
    {
     "data": {
      "text/plain": [
       "'ALi'"
      ]
     },
     "execution_count": 3,
     "metadata": {},
     "output_type": "execute_result"
    }
   ],
   "source": [
    "nephews[0]"
   ]
  },
  {
   "cell_type": "code",
   "execution_count": 4,
   "metadata": {
    "collapsed": false
   },
   "outputs": [
    {
     "data": {
      "text/plain": [
       "'Moe'"
      ]
     },
     "execution_count": 4,
     "metadata": {},
     "output_type": "execute_result"
    }
   ],
   "source": [
    "nephews[2]"
   ]
  },
  {
   "cell_type": "code",
   "execution_count": 5,
   "metadata": {
    "collapsed": false
   },
   "outputs": [
    {
     "ename": "IndexError",
     "evalue": "list index out of range",
     "output_type": "error",
     "traceback": [
      "\u001b[1;31m---------------------------------------------------------------------------\u001b[0m",
      "\u001b[1;31mIndexError\u001b[0m                                Traceback (most recent call last)",
      "\u001b[1;32m<ipython-input-5-87f31bbc3422>\u001b[0m in \u001b[0;36m<module>\u001b[1;34m()\u001b[0m\n\u001b[1;32m----> 1\u001b[1;33m \u001b[0mnephews\u001b[0m\u001b[1;33m[\u001b[0m\u001b[1;36m3\u001b[0m\u001b[1;33m]\u001b[0m\u001b[1;33m\u001b[0m\u001b[0m\n\u001b[0m",
      "\u001b[1;31mIndexError\u001b[0m: list index out of range"
     ]
    }
   ],
   "source": [
    "nephews[3]"
   ]
  },
  {
   "cell_type": "markdown",
   "metadata": {},
   "source": [
    "So we can also look for the last nephew, and we can even look for a nephew beyond the end of list, which in this case will yield an error. The list index is out of range. The length of a list is obtained with len."
   ]
  },
  {
   "cell_type": "code",
   "execution_count": 6,
   "metadata": {
    "collapsed": false
   },
   "outputs": [
    {
     "data": {
      "text/plain": [
       "3"
      ]
     },
     "execution_count": 6,
     "metadata": {},
     "output_type": "execute_result"
    }
   ],
   "source": [
    "len(nephews)"
   ]
  },
  {
   "cell_type": "markdown",
   "metadata": {},
   "source": [
    "This bracket indexing notation can also be used to reassign elements. Let's do it for all of them with a simple loop. lets have a look. "
   ]
  },
  {
   "cell_type": "code",
   "execution_count": 13,
   "metadata": {
    "collapsed": true
   },
   "outputs": [],
   "source": [
    "for i in range(3):\n",
    "    nephews[i] = nephews[i] + ' natsheh'"
   ]
  },
  {
   "cell_type": "code",
   "execution_count": 14,
   "metadata": {
    "collapsed": false
   },
   "outputs": [
    {
     "name": "stdout",
     "output_type": "stream",
     "text": [
      "['ALi natsheh', 'Abed natsheh', 'Moe natsheh']\n"
     ]
    }
   ],
   "source": [
    "print(nephews)"
   ]
  },
  {
   "cell_type": "markdown",
   "metadata": {},
   "source": [
    "An important point is that lists do not need to have homogeneous content, such as all strings of all numbers. We could mix it up. In all these cases, the output representation of our Python object is very similar to our input. To add a single element to a list, we use the append method."
   ]
  },
  {
   "cell_type": "code",
   "execution_count": 15,
   "metadata": {
    "collapsed": true
   },
   "outputs": [],
   "source": [
    "mix_it_up = [1,[2,3],'alpha']"
   ]
  },
  {
   "cell_type": "code",
   "execution_count": 16,
   "metadata": {
    "collapsed": false
   },
   "outputs": [
    {
     "data": {
      "text/plain": [
       "[1, [2, 3], 'alpha']"
      ]
     },
     "execution_count": 16,
     "metadata": {},
     "output_type": "execute_result"
    }
   ],
   "source": [
    "mix_it_up"
   ]
  },
  {
   "cell_type": "code",
   "execution_count": 18,
   "metadata": {
    "collapsed": false
   },
   "outputs": [
    {
     "name": "stdout",
     "output_type": "stream",
     "text": [
      "['ALi natsheh', 'Abed natsheh', 'Moe natsheh', 'Masa Natsheh', 'Masa Natsheh']\n"
     ]
    }
   ],
   "source": [
    "nephews.append('Masa Natsheh')\n",
    "print(nephews)"
   ]
  },
  {
   "cell_type": "markdown",
   "metadata": {},
   "source": [
    "In the same cell, we're going to write a second statement to print out our list. To concatenate two lists, we can use the extend method or just a plus. For instance, let's add the missing two nieces. Or let's side the other way with a plus sign."
   ]
  },
  {
   "cell_type": "code",
   "execution_count": 19,
   "metadata": {
    "collapsed": false
   },
   "outputs": [
    {
     "name": "stdout",
     "output_type": "stream",
     "text": [
      "['ALi natsheh', 'Abed natsheh', 'Moe natsheh', 'Masa Natsheh', 'Masa Natsheh', 'zenah Natsheh', 'Maya Natsheh']\n"
     ]
    }
   ],
   "source": [
    "nephews.extend(['zenah Natsheh', \"Maya Natsheh\"])\n",
    "print (nephews)"
   ]
  },
  {
   "cell_type": "code",
   "execution_count": 20,
   "metadata": {
    "collapsed": false
   },
   "outputs": [
    {
     "name": "stdout",
     "output_type": "stream",
     "text": [
      "['ALi natsheh', 'Abed natsheh', 'Moe natsheh', 'Masa Natsheh', 'Masa Natsheh', 'zenah Natsheh', 'Maya Natsheh', 'Nawal Natsheh', 'Eman Natsheh']\n"
     ]
    }
   ],
   "source": [
    "Natsheh = nephews + ['Nawal Natsheh', 'Eman Natsheh']\n",
    "print(Natsheh)"
   ]
  },
  {
   "cell_type": "markdown",
   "metadata": {},
   "source": [
    "We could also insert elements at any position in the list using the insert method."
   ]
  },
  {
   "cell_type": "code",
   "execution_count": 21,
   "metadata": {
    "collapsed": false
   },
   "outputs": [
    {
     "name": "stdout",
     "output_type": "stream",
     "text": [
      "['Noor Natsheh', 'ALi natsheh', 'Abed natsheh', 'Moe natsheh', 'Masa Natsheh', 'Masa Natsheh', 'zenah Natsheh', 'Maya Natsheh', 'Nawal Natsheh', 'Eman Natsheh']\n"
     ]
    }
   ],
   "source": [
    "Natsheh.insert(0, 'Noor Natsheh')\n",
    "print(Natsheh)"
   ]
  },
  {
   "cell_type": "markdown",
   "metadata": {},
   "source": [
    "we can delete elements either by their index, or by their value"
   ]
  },
  {
   "cell_type": "code",
   "execution_count": 24,
   "metadata": {
    "collapsed": false
   },
   "outputs": [
    {
     "name": "stdout",
     "output_type": "stream",
     "text": [
      "['Moe natsheh', 'Masa Natsheh', 'Masa Natsheh', 'zenah Natsheh', 'Maya Natsheh', 'Nawal Natsheh']\n",
      "['Moe natsheh', 'Masa Natsheh', 'Masa Natsheh', 'zenah Natsheh', 'Maya Natsheh']\n"
     ]
    }
   ],
   "source": [
    "del Natsheh[0]\n",
    "print(Natsheh)\n",
    "Natsheh.remove('Nawal Natsheh')\n",
    "print (Natsheh)"
   ]
  },
  {
   "cell_type": "markdown",
   "metadata": {},
   "source": [
    "Last, we can sort the elements. The default sorting order is what's known as Lexicographic. For strings with standard characters, this just means alphabetic. The sorting is in place, so it modifies a list that already exists. This should all be very basic to you if you've worked with Python in the past. "
   ]
  },
  {
   "cell_type": "code",
   "execution_count": 25,
   "metadata": {
    "collapsed": false
   },
   "outputs": [
    {
     "name": "stdout",
     "output_type": "stream",
     "text": [
      "['Masa Natsheh', 'Masa Natsheh', 'Maya Natsheh', 'Moe natsheh', 'zenah Natsheh']\n"
     ]
    }
   ],
   "source": [
    "Natsheh.sort()\n",
    "print(Natsheh)"
   ]
  },
  {
   "cell_type": "markdown",
   "metadata": {},
   "source": [
    "Let's move a little further. Beyond working with individual elements, we can manipulate them collective in contiguous groups."
   ]
  },
  {
   "cell_type": "code",
   "execution_count": 26,
   "metadata": {
    "collapsed": true
   },
   "outputs": [],
   "source": [
    "squares = [0,1,4,9,16,25,36,49]"
   ]
  },
  {
   "cell_type": "markdown",
   "metadata": {},
   "source": [
    "These are known as slices. For instance, let's use numbers now. Let's have a list of the first few squares. Zero is the square of zero, one is the square of one, and so on. For instance, if we wish to have a sublist of the first two elements, we will write it as a slice going from zero to two. If we want the sublist of the second and third element, we will write it as a slice of elements one through index three."
   ]
  },
  {
   "cell_type": "code",
   "execution_count": 27,
   "metadata": {
    "collapsed": false
   },
   "outputs": [
    {
     "data": {
      "text/plain": [
       "[0, 1]"
      ]
     },
     "execution_count": 27,
     "metadata": {},
     "output_type": "execute_result"
    }
   ],
   "source": [
    "squares[0:2]"
   ]
  },
  {
   "cell_type": "code",
   "execution_count": 28,
   "metadata": {
    "collapsed": false
   },
   "outputs": [
    {
     "data": {
      "text/plain": [
       "[1, 4]"
      ]
     },
     "execution_count": 28,
     "metadata": {},
     "output_type": "execute_result"
    }
   ],
   "source": [
    "squares[1:3]"
   ]
  },
  {
   "cell_type": "markdown",
   "metadata": {},
   "source": [
    "This notation may look a little counterintuitive because the second index actually refers to an element that is not picked in the sublist. However, this is again a C inspired notation, and it has the advantage that the number of elements selected in a slice, is given by the difference of the two indices. So slice zero to two were selecting two elements, slice one to three will also select in two elements. There are a few more tricks that we can use in slicing."
   ]
  },
  {
   "cell_type": "markdown",
   "metadata": {},
   "source": [
    "For instance, we can omit the starting index to start at the beginning of a list. We can omit the ending index to go until the end. We can omit both indices to get the entire list. We can also use negative indices to count from the end. So minus one will yield the last element in the list, 49. "
   ]
  },
  {
   "cell_type": "code",
   "execution_count": 29,
   "metadata": {
    "collapsed": false
   },
   "outputs": [
    {
     "data": {
      "text/plain": [
       "[0, 1, 4, 9]"
      ]
     },
     "execution_count": 29,
     "metadata": {},
     "output_type": "execute_result"
    }
   ],
   "source": [
    "squares[:4]"
   ]
  },
  {
   "cell_type": "code",
   "execution_count": 30,
   "metadata": {
    "collapsed": false
   },
   "outputs": [
    {
     "data": {
      "text/plain": [
       "[1, 4, 9, 16, 25, 36, 49]"
      ]
     },
     "execution_count": 30,
     "metadata": {},
     "output_type": "execute_result"
    }
   ],
   "source": [
    "squares[1:]"
   ]
  },
  {
   "cell_type": "code",
   "execution_count": 31,
   "metadata": {
    "collapsed": false
   },
   "outputs": [
    {
     "data": {
      "text/plain": [
       "[0, 1, 4, 9, 16, 25, 36, 49]"
      ]
     },
     "execution_count": 31,
     "metadata": {},
     "output_type": "execute_result"
    }
   ],
   "source": [
    "squares[:]"
   ]
  },
  {
   "cell_type": "code",
   "execution_count": 32,
   "metadata": {
    "collapsed": false
   },
   "outputs": [
    {
     "data": {
      "text/plain": [
       "49"
      ]
     },
     "execution_count": 32,
     "metadata": {},
     "output_type": "execute_result"
    }
   ],
   "source": [
    "squares[-1]"
   ]
  },
  {
   "cell_type": "markdown",
   "metadata": {},
   "source": [
    "Such slicing is not limited to accessing sublists, but can also be used to reassign them by providing an object of the appropriate length on the right side of an assignment"
   ]
  },
  {
   "cell_type": "markdown",
   "metadata": {},
   "source": [
    "For instance, we may reassign elements two and three in this case to strings. Which will make a bit of a node list. We can also delete elements using the slicing syntax, which in this case we remove the last two. "
   ]
  },
  {
   "cell_type": "code",
   "execution_count": 33,
   "metadata": {
    "collapsed": false
   },
   "outputs": [
    {
     "name": "stdout",
     "output_type": "stream",
     "text": [
      "[0, 1, '4', '9', 16, 25, 36, 49]\n"
     ]
    }
   ],
   "source": [
    "squares[2:4] = ['4', '9']\n",
    "print(squares)"
   ]
  },
  {
   "cell_type": "code",
   "execution_count": 34,
   "metadata": {
    "collapsed": true
   },
   "outputs": [],
   "source": [
    "del squares[-2:]"
   ]
  },
  {
   "cell_type": "code",
   "execution_count": 35,
   "metadata": {
    "collapsed": false
   },
   "outputs": [
    {
     "name": "stdout",
     "output_type": "stream",
     "text": [
      "[0, 1, '4', '9', 16, 25]\n"
     ]
    }
   ],
   "source": [
    "print(squares)"
   ]
  },
  {
   "cell_type": "markdown",
   "metadata": {},
   "source": [
    "When we introduce NumPy arrays, which are a very useful extension to Python when we want to deal with bulk data, we will see that the basic slicing syntax carries over. Indeed the syntax is extended even further in NumPy.\n",
    "\n",
    "However, even the standard Python lists can be very useful in many applications. One sees them very often in loops. In this case, a loop is just printing each of the elements. In Python a for-loop amounts to a very simple statement.\n",
    "\n",
    "We're going to iterate over the values contained in this list, and assign them in turn to this variable.\n",
    "\n",
    "However, even the standard Python lists can be very useful in many applications. One sees them very often in loops. In this case, a loop is just printing each of the elements. In Python a for-loop amounts to a very simple statement.\n"
   ]
  },
  {
   "cell_type": "code",
   "execution_count": 37,
   "metadata": {
    "collapsed": false
   },
   "outputs": [
    {
     "name": "stdout",
     "output_type": "stream",
     "text": [
      "Element:  0\n",
      "Element:  1\n",
      "Element:  4\n",
      "Element:  9\n",
      "Element:  16\n",
      "Element:  25\n"
     ]
    }
   ],
   "source": [
    "for value in squares:\n",
    "    print(\"Element: \", value)"
   ]
  },
  {
   "cell_type": "markdown",
   "metadata": {},
   "source": [
    "Given a list, enumerate lets you loop through the list indices and elements together, like so.\n",
    "\n",
    "For index comma value in enumerate of my list. We can then write a statement that uses both the index and the value. "
   ]
  },
  {
   "cell_type": "code",
   "execution_count": 38,
   "metadata": {
    "collapsed": false
   },
   "outputs": [
    {
     "name": "stdout",
     "output_type": "stream",
     "text": [
      "Element 0 ->  0\n",
      "Element 1 ->  1\n",
      "Element 2 ->  4\n",
      "Element 3 ->  9\n",
      "Element 4 ->  16\n",
      "Element 5 ->  25\n"
     ]
    }
   ],
   "source": [
    "for index, value in enumerate(squares):\n",
    "    print(\"Element\", index, \"-> \", value)"
   ]
  },
  {
   "cell_type": "markdown",
   "metadata": {},
   "source": [
    "Python lists are very useful, and you'll find them everywhere in Python code. They're flexible and efficient, and they can contain any type of data. Not necessarily homogeneous. You would use them where the order of your data items matters, so that you can refer to them with a numeric index.\n",
    "\n",
    "Although, as we've seen lists of mixed data types are possible, lists are most appropriate where you're collecting data items of the same type."
   ]
  },
  {
   "cell_type": "code",
   "execution_count": null,
   "metadata": {
    "collapsed": true
   },
   "outputs": [],
   "source": []
  }
 ],
 "metadata": {
  "anaconda-cloud": {},
  "kernelspec": {
   "display_name": "Python [Root]",
   "language": "python",
   "name": "Python [Root]"
  },
  "language_info": {
   "codemirror_mode": {
    "name": "ipython",
    "version": 3
   },
   "file_extension": ".py",
   "mimetype": "text/x-python",
   "name": "python",
   "nbconvert_exporter": "python",
   "pygments_lexer": "ipython3",
   "version": "3.5.2"
  }
 },
 "nbformat": 4,
 "nbformat_minor": 0
}
