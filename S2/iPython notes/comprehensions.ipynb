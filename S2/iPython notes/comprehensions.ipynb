{
 "cells": [
  {
   "cell_type": "markdown",
   "metadata": {},
   "source": [
    "# Comprehensions\n",
    "## Session Background\n",
    "In Python programming, especially when you're dealing with data, there are many cases where you want to iterate over list or dict, perform an operation on every element, and then collect all the results in a new list or dict. You can certainly do that with a For Loop, but Python offers a great feature, comprehensions, that lets you write shorter and clearer code that achieves the same effect. In this session, we're going to review how to write loops as comprehensions, how to apply them only to select items, and how to do the same for lists and for dicts.\n",
    "## Learning Objectives:\n",
    "* Rewrite a loop as a comprhension\n",
    "* Filter items\n",
    "* Create a dict from a comprehension"
   ]
  },
  {
   "cell_type": "markdown",
   "metadata": {},
   "source": [
    "Let's look again at the scenario where we need comprehensions. Say for instance that we're building a list of squares. I'm going to start with an empty list, just empty brackets, and then keep appending to it throughout the loop. The result is the list that I desired."
   ]
  },
  {
   "cell_type": "code",
   "execution_count": 1,
   "metadata": {
    "collapsed": false
   },
   "outputs": [
    {
     "data": {
      "text/plain": [
       "[0, 1, 4, 9, 16, 25, 36, 49, 64, 81]"
      ]
     },
     "execution_count": 1,
     "metadata": {},
     "output_type": "execute_result"
    }
   ],
   "source": [
    "squares = []\n",
    "\n",
    "for i in range(10):\n",
    "    squares.append(i**2)\n",
    "\n",
    "squares"
   ]
  },
  {
   "cell_type": "markdown",
   "metadata": {},
   "source": [
    "A list comprehension achieves this in a single line with a rather intuitive syntax. We're going to write a list, so we have brackets. We're going to express the operation that we want to perform on every element, and then we're going to write an in line for loop. The result is the same, but we manage to write it in a very readable and very efficient way. "
   ]
  },
  {
   "cell_type": "code",
   "execution_count": 2,
   "metadata": {
    "collapsed": true
   },
   "outputs": [],
   "source": [
    "squares = [i**2 for i in range(10)]"
   ]
  },
  {
   "cell_type": "code",
   "execution_count": 3,
   "metadata": {
    "collapsed": false
   },
   "outputs": [
    {
     "data": {
      "text/plain": [
       "[0, 1, 4, 9, 16, 25, 36, 49, 64, 81]"
      ]
     },
     "execution_count": 3,
     "metadata": {},
     "output_type": "execute_result"
    }
   ],
   "source": [
    "squares"
   ]
  },
  {
   "cell_type": "markdown",
   "metadata": {},
   "source": [
    "Comprehensions also let you filter the list of elements that you are creating. For instance, we might want to compute only the squares of the numbers that are divisible by three."
   ]
  },
  {
   "cell_type": "code",
   "execution_count": 4,
   "metadata": {
    "collapsed": false
   },
   "outputs": [
    {
     "data": {
      "text/plain": [
       "[0, 9, 36, 81, 144, 225, 324, 441, 576, 729]"
      ]
     },
     "execution_count": 4,
     "metadata": {},
     "output_type": "execute_result"
    }
   ],
   "source": [
    "squares3 = [i**2 for i in range(30) if i % 3 == 0]\n",
    "squares3"
   ]
  },
  {
   "cell_type": "markdown",
   "metadata": {},
   "source": [
    "So again, squares3, but this time a dictionary. We're going to need to braces to denote a dictionary, and we're going to write t: value and again the looping construct. And the close, if we want it, and let's look at the result. One common use of a dictionary comprehension is to transpose an existing dictionary. Let me demonstrate"
   ]
  },
  {
   "cell_type": "code",
   "execution_count": 5,
   "metadata": {
    "collapsed": false
   },
   "outputs": [
    {
     "data": {
      "text/plain": [
       "{0: 0,\n",
       " 3: 9,\n",
       " 6: 36,\n",
       " 9: 81,\n",
       " 12: 144,\n",
       " 15: 225,\n",
       " 18: 324,\n",
       " 21: 441,\n",
       " 24: 576,\n",
       " 27: 729}"
      ]
     },
     "execution_count": 5,
     "metadata": {},
     "output_type": "execute_result"
    }
   ],
   "source": [
    "squares3_dict = {i: i**2 for i in range(30) if i % 3 == 0}\n",
    "squares3_dict"
   ]
  },
  {
   "cell_type": "code",
   "execution_count": 6,
   "metadata": {
    "collapsed": true
   },
   "outputs": [],
   "source": [
    "capitals = {'United States': 'Washington, DC','France': 'Paris','Italy': 'Rome'}"
   ]
  },
  {
   "cell_type": "markdown",
   "metadata": {},
   "source": [
    "The new dictionary would have capitals as keys and countries as the value."
   ]
  },
  {
   "cell_type": "code",
   "execution_count": 7,
   "metadata": {
    "collapsed": true
   },
   "outputs": [],
   "source": [
    "capitals_bycapital = {capitals[key]: key for key in capitals}"
   ]
  },
  {
   "cell_type": "code",
   "execution_count": 8,
   "metadata": {
    "collapsed": false
   },
   "outputs": [
    {
     "data": {
      "text/plain": [
       "{'Paris': 'France', 'Rome': 'Italy', 'Washington, DC': 'United States'}"
      ]
     },
     "execution_count": 8,
     "metadata": {},
     "output_type": "execute_result"
    }
   ],
   "source": [
    "capitals_bycapital"
   ]
  },
  {
   "cell_type": "markdown",
   "metadata": {},
   "source": [
    "I should also mention that you see a naked comprehension, so to speak, without brackets. That's actually a slightly different Python construct known as generator expression. It's useful when you want to generate a sequence and pass the elements, one by one, to a function, but not save the elements in a new list or dict. For instance, if we wanted to take the sum of the first 10 squares, we may first write the list i ** 2 for i in range [10], and then feed the list to the Python function sum."
   ]
  },
  {
   "cell_type": "code",
   "execution_count": 9,
   "metadata": {
    "collapsed": false
   },
   "outputs": [
    {
     "data": {
      "text/plain": [
       "285"
      ]
     },
     "execution_count": 9,
     "metadata": {},
     "output_type": "execute_result"
    }
   ],
   "source": [
    "sum([i**2 for i in range(10)])"
   ]
  },
  {
   "cell_type": "code",
   "execution_count": 10,
   "metadata": {
    "collapsed": false
   },
   "outputs": [
    {
     "data": {
      "text/plain": [
       "285"
      ]
     },
     "execution_count": 10,
     "metadata": {},
     "output_type": "execute_result"
    }
   ],
   "source": [
    "sum(i**2 for i in range(10))"
   ]
  },
  {
   "cell_type": "markdown",
   "metadata": {
    "collapsed": true
   },
   "source": [
    "## use lots of comprehensions!\n",
    "* Comprehensions are a concise and expressive way to write a data transformation.\n",
    "* They are quick to write,easy to prase, and surprisingly powerful."
   ]
  },
  {
   "cell_type": "code",
   "execution_count": null,
   "metadata": {
    "collapsed": true
   },
   "outputs": [],
   "source": []
  }
 ],
 "metadata": {
  "anaconda-cloud": {},
  "kernelspec": {
   "display_name": "Python [Root]",
   "language": "python",
   "name": "Python [Root]"
  },
  "language_info": {
   "codemirror_mode": {
    "name": "ipython",
    "version": 3
   },
   "file_extension": ".py",
   "mimetype": "text/x-python",
   "name": "python",
   "nbconvert_exporter": "python",
   "pygments_lexer": "ipython3",
   "version": "3.5.2"
  }
 },
 "nbformat": 4,
 "nbformat_minor": 0
}
