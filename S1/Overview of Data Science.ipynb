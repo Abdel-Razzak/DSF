{
 "cells": [
  {
   "cell_type": "markdown",
   "metadata": {},
   "source": [
    "# Overview of Data Science (6 hours)\n",
    "\n",
    "During this session you'll learn about Data Science, the goals and objectives of the Data Science Specialization and each of its components. You'll also get to know why data scientists are now in such demand, and the skills required to succeed in different jobs. Different business cases are presented during session implementation as case studies to view and discuss the data science economical potential.   \n",
    "\n",
    "## Key Issues\n",
    "* What is Data Science and its History\n",
    "* Data science demand\n",
    "* Business cases and economical potential \n",
    "* the impact of data size \n",
    "* Big data vs. Data Science\n",
    "* The role of a data scientist and their impact on this field\n",
    "* Data science life cycel\n",
    "* Data types: structured, ustructured and everything in between\n",
    "\n"
   ]
  },
  {
   "cell_type": "markdown",
   "metadata": {
    "collapsed": true
   },
   "source": [
    "## Proposed Training Strategy:\n",
    "During session implementation the facilitator will start the session by asking questions that identifies major problems in which data science filed try to solve, by doing this the facilitator will engage trainers to think and reason to try and solve proposed question."
   ]
  },
  {
   "cell_type": "markdown",
   "metadata": {},
   "source": [
    "## Getting to know participants : Knowledge check questions (5-10 minutes)\n",
    "### Ice Breaker session [cards](activities/cards.pptx)\n",
    "   * The facilitator will divide participants in two sets in order to pick one from each to form a group. A simple way to maximize group success\n",
    "   * The session will start by asking the participants  to  introduce themselves to each other and by asking them to distribute i-cards to each other. We made pairs by asking them to randomly pick a card which had either a name of a famous  scientist or his invention and then they had to pair up with their counter part.\n",
    "\n",
    "## Mini lessons: Discussions: questions raised during session implementation  \n",
    "\n",
    "### What do we mean by data science? (15 min)\n",
    "> Describing Data Science is like trying to describe a sunset – it should be easy, but somehow capturing the words is impossible. Can you please Explain what is meant by that.\n",
    "#### Group work (10 min)\n",
    "\n",
    "***Q1*** *Try to define what is meant by data science through interpreting the follwoing questions*\n",
    "\n",
    "> \"Which of my products should I advertise more heavily to increase profit? How can I improve my compliance program, while reducing costs? What manufacturing process change will allow me to build a better product?” \n",
    "\n",
    "\n",
    "***Q2*** *give examples on data science products*\n",
    "\n",
    "####  Data science history (5 min)**\n",
    "\n",
    "##### Example: Causality and Experiments: [John Snow and the Broad Street Pump](https://www.inferentialthinking.com/chapters/02/causality-and-experiments.html)\n",
    "\n",
    "![Snow](images/SnowMap_Points.png)\n",
    "\n",
    "### What makes data science different? (30 min)\n",
    "\n",
    "#### Group work \n",
    "***Q1*** *why it is different from traditional data analysis?*\n",
    "\n",
    "***Q2*** *Compare Business intelligence to data science*\n",
    "\n",
    "**mini lecturing is presented** (20 min) \n",
    "\n",
    "### What is the impact of data science? (50 min)\n",
    "\n",
    ">If you have perfect information or zero information then your task is easy – it is in between those two extremes that the trouble begins.\n",
    "\n",
    "***Q1*** *what is he trying to highlight*\n",
    "\n",
    "***Q2*** *list value awaiting orgranizations that embrace data science*\n",
    "\n",
    "#### Individual work (30 min) Read and Discuss economical potential of data science for business industry\n",
    "* Read the following article: [Data Scientist: The Sexiest Job of the 21st Century](https://hbr.org/2012/10/data-scientist-the-sexiest-job-of-the-21st-century)\n",
    "* Present data science scussess stories( Money Ball, [Netflex challenge](https://www.youtube.com/watch?v=ImpV70uLxyw), [success stories](https://channels.theinnovationenterprise.com/articles/80-top-5-analytics-success-stories), [presidential  election race 2013](https://www.youtube.com/watch?v=C2kq91P_jqc) )\n",
    "* [What Digital Health Learned From Netflix: How Data Science Is Creating Self-Learning Healthcare](https://www.omadahealth.com/news/what-digital-health-learned-from-netflix-how-data-science-is-creating-self-learning-healthcare)\n",
    "* After reading and watching above articles and videos tell me how you can benfit from this workshop? \n",
    "* list business problems in our local market that applying data science can help in solving, highlight challanges to implement such systems.\n",
    "\n",
    "\n",
    "### What is different now? (30 min)\n",
    "* Read the following article: [Data science is still white hot, but nothing lasts forever](http://fortune.com/2015/05/21/data-science-white-hot/)[check it](http://www.kdnuggets.com/2016/08/cartoon-data-scientist-sexiest-job-21st-century.html) \n",
    "* [six very clear signs that your job is due to be automated soon](https://www.fastcompany.com/3062739/the-future-of-work/six-very-clear-signs-that-your-job-is-due-to-be-automated)\n",
    "* how the usage concept of data is transformed now?\n",
    "    * [machine learning: Microsoft CEO Satya Nadella speech on MSIgnite 2016 ](https://www.youtube.com/watch?v=QalClXJRgMA)\n",
    "    * [Microsoft Machine Learning & Data Science Summit 2016](https://channel9.msdn.com/Events/Machine-Learning-and-Data-Sciences-Conference/Data-Science-Summit-2016)\n",
    "    * [Data Science for Absolutely Everybody](https://channel9.msdn.com/Events/Machine-Learning-and-Data-Sciences-Conference/Data-Science-Summit-2016/MSDSS02)\n",
    "    \n",
    "* impact of data size (Data science vs big data)\n",
    "\n",
    "    * [Data Science and Big Data: Two very Different Beasts](http://www.kdnuggets.com/2015/07/data-science-big-data-different-beasts.html)\n",
    "![3 Vs](http://www.ibmbigdatahub.com/sites/default/files/infographic_file/4-Vs-of-big-data.jpg)\n",
    "\n",
    "> Collecting Does Not Mean Discovering\n",
    "\n",
    "\n",
    "* list main issues that data science is different from big data\n",
    "\n",
    "### What Does it Take to Create a Data Science Capability?(30 min)\n",
    "mini lecture  \n",
    "* Building Your Data Science Team [salaries](https://www.glassdoor.com/Salaries/data-scientist-salary-SRCH_KO0,14.htm)\n",
    "![data science team](images/1.png)\n",
    "\n",
    "\n",
    "* Balancing the data science team equation\n",
    "* Data scientist competency framework\n",
    "* Selecting Your Operating Model\n",
    "\n",
    "### The data exercise\n",
    "* The aim of the exercise is to introduce to the participants an idea of the whole cycle of data science\n",
    "* exercise idea : Every participant will get [a set of 48 faces with names and their hobbies](flash_cards.pdf). The participants had to give a rating of 5 if they will make the person a friend, 1 if not and could choose other numbers in between.[worksheet](worksheet .xlsx)\n",
    "    * Introdcuing features\n",
    "    * Making and validating a super simple predictor\n",
    "    * Reflection on experiment\n",
    "\n",
    "### THE GOAL IS DATA PRODUCTS: NOW HOW DO WE GET THERE? (2 hours)\n",
    "* [mini lecturing](http://101.datascience.community/tag/lifecycle/) is presented to introduce the four key activities of a data science endeavor\n",
    "    * Data Science is not Software Engineering\n",
    "    * Existing Data Science Workflows\n",
    "    \n",
    "        * [The Data Science Project life cycle](Data Science Workflow1.ipynb)\n",
    "\n",
    "\n",
    "* ##### [Computer vision project: Data Science and Manchine learning project](projects/Example Machine Learning Notebook.ipynb)\n",
    "     * create a demo machine learning model that takes four measurements from the flowers (sepal length, sepal width, petal length, and petal width) and identifies the species based on those measurements alone\n",
    "        \n",
    "\n",
    "\n",
    "\n",
    "### Data types: (1 hour)\n",
    "**Group Discussion:** \n",
    "\n",
    "> Through this section we will be approaching the varied and sundry types of data that make up the data economy, explore their meanining in depth, and consider whether or not each type of raw resource is inherently valuable or would provide the strongest value for organizations if paired with a complementary data set.[mini lecture](Data Formats.pptx)\n",
    "\n",
    "### Teaser\n",
    "* [little women example](https://www.youtube.com/watch?v=wejN-g5IIF0&feature=youtu.be&t=1760)\n"
   ]
  },
  {
   "cell_type": "markdown",
   "metadata": {},
   "source": [
    "## Readings\n",
    "* [Field Guide to Data Science](Material/2015-FIeld-Guide-To-Data-Science.pdf) \n",
    "* [Data types](Material/structured unstructured big data ebook.pdf)\n",
    "* [case study](Material/casestudy.pptx)"
   ]
  },
  {
   "cell_type": "markdown",
   "metadata": {
    "collapsed": true
   },
   "source": [
    "## References\n",
    "\n",
    "* powerpoint slides from \n",
    "    * Presentation: https://bcourses.berkeley.edu/courses/1267848\n",
    "    * case study: http://www.csis.pace.edu/~ctappert/cs816-15fall/slides/datascience02.pptx\n"
   ]
  },
  {
   "cell_type": "code",
   "execution_count": null,
   "metadata": {
    "collapsed": true
   },
   "outputs": [],
   "source": []
  },
  {
   "cell_type": "code",
   "execution_count": null,
   "metadata": {
    "collapsed": true
   },
   "outputs": [],
   "source": []
  },
  {
   "cell_type": "code",
   "execution_count": null,
   "metadata": {
    "collapsed": true
   },
   "outputs": [],
   "source": []
  }
 ],
 "metadata": {
  "anaconda-cloud": {},
  "kernelspec": {
   "display_name": "Python [Root]",
   "language": "python",
   "name": "Python [Root]"
  },
  "language_info": {
   "codemirror_mode": {
    "name": "ipython",
    "version": 3
   },
   "file_extension": ".py",
   "mimetype": "text/x-python",
   "name": "python",
   "nbconvert_exporter": "python",
   "pygments_lexer": "ipython3",
   "version": "3.5.2"
  }
 },
 "nbformat": 4,
 "nbformat_minor": 0
}
