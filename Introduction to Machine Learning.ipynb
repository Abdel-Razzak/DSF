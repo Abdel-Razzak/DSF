{
 "cells": [
  {
   "cell_type": "markdown",
   "metadata": {},
   "source": [
    "# Introduction to Machine Learning (6 hours)"
   ]
  },
  {
   "cell_type": "markdown",
   "metadata": {},
   "source": [
    "In this session we will be focusing on very practical hands on applications of machine learning using the [SciKit Learn](http://scikit-learn.org/stable/) module for Python.\n",
    "\n",
    "Install it using either *pip install scikit-learn* or *conda install scikit-learn* depending on your installation.\n",
    "\n",
    "You can treat each session almost like a micro-project. In each lecture we'll get a brief overview of the mathematics behind the model we'll work with and then dive into the code.\n",
    "\n",
    "------------"
   ]
  },
  {
   "cell_type": "markdown",
   "metadata": {},
   "source": [
    "### What you can expect to learn from the machine learning section of this course:\n",
    "\n",
    "I've geared this section of the workshop with one main goal in mind: you having a basic understanding of the mathematics behind some machine learning techniques and more importantly: being able to use the scikit learn library with Python to implement those techniques. \n",
    "\n",
    "##### Once you're done with this workshop you should feel comfortable putting SciKit Learn on your resume.\n",
    "\n",
    "Machine Learning is a very broad topic and we relistically won't be able to cover every thing, especially the higher level mathematics of some methods, but you should have enough material presented here to feel confident in your ability to look at a dataset, choose a model, and then know how to apply SciKit Learn to analyze your data.\n",
    "\n",
    "There are many free online resources to further expand your knowledge on Machine Learning. I've listed a few of the ones I personally recommend here:"
   ]
  },
  {
   "cell_type": "markdown",
   "metadata": {},
   "source": [
    "### Free Additional Online Resource for Machine Learning:\n",
    "\n",
    "1.) SciKit Learn's own Documentation is fantastic! They have their own basic tutorial:\n",
    "\n",
    "   [SciKit Learn Tutorial](http://www.astroml.org/sklearn_tutorial/general_concepts.html)\n",
    "   \n",
    "2.) Nice Introduction Overview from [Toptal](http://www.toptal.com/machine-learning/machine-learning-theory-an-introductory-primer)\n",
    "\n",
    "3.) This [free online book](http://robotics.stanford.edu/people/nilsson/MLBOOK.pdf) by Stanford professor Nils J. Nilsson.\n",
    "\n",
    "3.) Andrew Ng's Machine Learning Class\n",
    "* [notes](http://cs229.stanford.edu/materials.html)\n",
    "\n",
    "* [Coursera Video](https://www.coursera.org/learn/machine-learning)\n",
    "\n",
    "Andrew Ng's class delves very nicely into the mathematics of a lot of machine learning. They are also available on youtube for free. Note: He does not use the scikit learn library or the Python language. \n",
    "\n",
    "##### How I suggest you proceed throughout the machine learning section of this course:\n",
    "\n",
    "follow instractions in given examples and micro-projects\n",
    " * [linear regression](Supervised Learning -  Linear Regression.ipynb)**(3 hours)**\n",
    " * [Decision trees](Decision Trees and Random Forests.ipynb)**(1 hour)**\n",
    " * [K-Means](Multi-Class Classification.ipynb)**(1 hour)**\n",
    " * [Neural Networks](http://www.toptal.com/machine-learning/machine-learning-theory-an-introductory-primer)**(1 hour)**\n",
    "\n",
    "\n",
    "\n",
    "\n"
   ]
  },
  {
   "cell_type": "code",
   "execution_count": null,
   "metadata": {
    "collapsed": true
   },
   "outputs": [],
   "source": []
  }
 ],
 "metadata": {
  "anaconda-cloud": {},
  "kernelspec": {
   "display_name": "Python [Root]",
   "language": "python",
   "name": "Python [Root]"
  },
  "language_info": {
   "codemirror_mode": {
    "name": "ipython",
    "version": 3
   },
   "file_extension": ".py",
   "mimetype": "text/x-python",
   "name": "python",
   "nbconvert_exporter": "python",
   "pygments_lexer": "ipython3",
   "version": "3.5.2"
  }
 },
 "nbformat": 4,
 "nbformat_minor": 0
}
