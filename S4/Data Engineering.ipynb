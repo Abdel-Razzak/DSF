{
 "cells": [
  {
   "cell_type": "markdown",
   "metadata": {},
   "source": [
    "## Data Engineering:  (10 hours)\n",
    "\n",
    "During this session we hightlight the importance and role of data Engineering (Data Infrastructure or Data Architecture) process in data analysis. The data engineer gathers and collects the data, stores it, does batch processing or real-time processing on it, and serves it via an API to a data scientist who can easily query it.\n",
    "\n",
    "One important part of this session is data preprocessing where The quality of the data and the amount of useful information that it contains are key factors that determine how well a machine learning algorithm can learn. Therefore, it is absolutely critical that we make sure to examine and preprocess a dataset before we feed it to a learning algorithm. In this session, we will discuss the essential data preprocessing techniques that will help us to build good machine learning models.\n",
    " \n",
    "### Objectives: Data preprocessing\n",
    "During this session participants will be able to:\n",
    "\n",
    "* understand importance role of data Engineering \n",
    "* implement and apply several data aquistion  and preporcessing techniques using python\n",
    "* understand Data Preprocessing stages and its role in developing data process model\n",
    "* apply learned techniques to develop a data science model\n",
    "\n",
    "### The topics that we will cover in this session are as follows:\n",
    "* Removing and imputing missing values from the dataset\n",
    "* Getting categorical data into shape for machine learning algorithms\n",
    "* Selecting relevant features for the model construction\n",
    "\n"
   ]
  },
  {
   "cell_type": "markdown",
   "metadata": {},
   "source": [
    "## Learning Methods\n",
    "\n",
    "> ** Mini lectures:** \n",
    "Throught out  session implementation, the facilitator will give 2 presentations **(total estimate time 2 hours)** to introduce and higlight main role that data collection and preprocessing methods have on creating data science model. topics such as web scraping, data types, data cleaning, data transformation and data reduction are focused on through given lectures.\n",
    "\n",
    "> ** hands on practices & problem solving:**\n",
    "after   lectures the participants will go through implementing some lab exercises and projcet challenges to capture technical techniques and methods used in python for working with data. the activites will be divided as follows:\n",
    "* technical labs exercises on python **(3 hours)**\n",
    "* 2 Case studies **(2 hours)**\n",
    "* implementing data scienct micro projects **(3 hours)**\n",
    "    "
   ]
  },
  {
   "cell_type": "markdown",
   "metadata": {},
   "source": [
    "## Sessions\n",
    "\n",
    "### Introduction to Data Engineering: why its important\n",
    "\n",
    "#### mini lectures: \n",
    "> During this session we will be highlighting the role that data engineering is playing in creating  processing data models in data science. different techniques in python is presented in how to read and write data from text file, json, html and database files. [presentation 1](2.pptx)\n",
    "\n",
    "![Data Engineering](1.jpg)\n",
    "\n",
    "> data preprocessing (data mining) techniques are introduced during the implementation of this session by presenting main techniques for Data cleaning, data transformation and data reduction. [presentation 2](data mining.ipynb)\n",
    " \n",
    "#### lab exercises using python \n",
    "During  session implementation, participants will be introduced to the scikit-learn package where they will be able to use python methods  to collect,  and pre-process data.\n",
    "\n",
    "Different level of lab sheets and exercises are given to workshop participants to make them grasp basic principles and knowledge need to present and analyze data with python. topics such Merge on Index, Concatenate, Combining, DataFrames, Reshaping, Pivoting, Duplicates in DataFrames, Mapping, Replace, Rename Index, Binning, Outliers and Permutation.\n",
    "* [data collection](Lab and Exercises/data collection)\n",
    "* [data preprocessing](Lab and Exercises/data preprocessing)\n",
    "   \n",
    "* [Practical Guide on Data Preprocessing in Python using Scikit Learn](https://www.analyticsvidhya.com/blog/2016/07/practical-guide-data-preprocessing-python-scikit-learn/)\n",
    "    \n",
    "* [The Comprehensive Guide for Feature Engineering](http://adataanalyst.com/machine-learning/comprehensive-guide-feature-engineering/)\n",
    "\n",
    "#### Data Projects: Predict survival on the Titanic using Excel, Python & Random Forests\n",
    "If you're new to data science and machine learning, or looking for a simple intro to the Kaggle competitions platform, this is the best place to start. Continue reading below the competition description to discover a number of tutorials, benchmark models, and more. take on the challenge [titanic challenge](https://www.kaggle.com/c/titanic)\n",
    "\n",
    "* [titanic challenge project](project.ipynb)\n",
    "\n",
    "\n"
   ]
  }
 ],
 "metadata": {
  "anaconda-cloud": {},
  "kernelspec": {
   "display_name": "Python [Root]",
   "language": "python",
   "name": "Python [Root]"
  },
  "language_info": {
   "codemirror_mode": {
    "name": "ipython",
    "version": 3
   },
   "file_extension": ".py",
   "mimetype": "text/x-python",
   "name": "python",
   "nbconvert_exporter": "python",
   "pygments_lexer": "ipython3",
   "version": "3.5.2"
  }
 },
 "nbformat": 4,
 "nbformat_minor": 0
}
