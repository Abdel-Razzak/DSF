








<!DOCTYPE html>
<html lang="en">

<head>
  <meta charset="utf-8">
  <title>Jupyter Notebook Viewer</title>
  <meta name="viewport" content="width=device-width, initial-scale=1.0">
  <meta name="description" content="">
  <meta name="author" content="">
  
  <meta name="robots" content="noindex,nofollow">
  

  <!--NEW RELIC Start Perf Measurement-->
  
  <!--NREND-->

  <!-- Le styles -->
  <script type="text/javascript">
//<![CDATA[
try{if (!window.CloudFlare) {var CloudFlare=[{verbose:0,p:0,byc:0,owlid:"cf",bag2:1,mirage2:0,oracle:0,paths:{cloudflare:"/cdn-cgi/nexp/dok3v=1613a3a185/"},atok:"7b26474c0098b083aa164f7c7406863d",petok:"ee433d86f2a267d4ed37f8272225734f617b70d2-1475322718-1800",zone:"jupyter.org",rocket:"0",apps:{"ga_key":{"ua":"UA-52617120-5","ga_bs":"2"}}}];!function(a,b){a=document.createElement("script"),b=document.getElementsByTagName("script")[0],a.async=!0,a.src="//ajax.cloudflare.com/cdn-cgi/nexp/dok3v=0489c402f5/cloudflare.min.js",b.parentNode.insertBefore(a,b)}()}}catch(e){};
//]]>
</script>
<link href="/static/build/styles.css" rel="stylesheet">

  <!-- Le HTML5 shim, for IE6-8 support of HTML5 elements -->
  <!--[if lt IE 9]>
    <script src="http://html5shim.googlecode.com/svn/trunk/html5.js"></script>
  <![endif]-->

  <!-- Le fav and touch icons -->
  <link rel="shortcut icon" href="/static/ico/ipynb_icon_16x16.png">
  <link rel="apple-touch-icon-precomposed" sizes="144x144"
        href="/static/ico/apple-touch-icon-144-precomposed.png">
  <link rel="apple-touch-icon-precomposed" sizes="114x114"
        href="/static/ico/apple-touch-icon-114-precomposed.png">
  <link rel="apple-touch-icon-precomposed" sizes="72x72"
        href="/static/ico/apple-touch-icon-72-precomposed.png">
  <link rel="apple-touch-icon-precomposed"
        href="/static/ico/apple-touch-icon-57-precomposed.png">
  
  

  

  
  <meta name="twitter:card" content="summary">
  <meta name="twitter:title" content="Notebook on nbviewer">
  <meta name="twitter:description" content="Check out this Jupyter notebook!">

  
  <meta name="twitter:domain" content="nbviewer.ipython.org">
  <meta name="twitter:image:src" content="http://ipython.org/ipython-doc/dev/_images/ipynb_icon_128x128.png">

  
    <link href="/static/build/notebook.css" rel="stylesheet">
  

  

  
    <script src="https://cdn.mathjax.org/mathjax/latest/MathJax.js?config=TeX-AMS_HTML" type="text/javascript">
    </script>
    <script type="text/javascript">
      init_mathjax = function() {
        if (window.MathJax) {
          // MathJax loaded
          MathJax.Hub.Config({
            TeX: {
              equationNumbers: {
                autoNumber: "AMS",
                useLabelIds: true
              }
            },
            tex2jax: {
              inlineMath: [ ['$','$'], ["\\(","\\)"] ],
              displayMath: [ ['$$','$$'], ["\\[","\\]"] ],
              processEscapes: true,
              processEnvironments: true
            },
            displayAlign: 'center',
            "HTML-CSS": {
              styles: {'.MathJax_Display': {"margin": 0}},
              linebreaks: { automatic: true }
            }
          });
          MathJax.Hub.Queue(["Typeset", MathJax.Hub]);
        }
      }
      init_mathjax();
    </script>
  

<script type="text/javascript">
/* <![CDATA[ */
var _gaq = _gaq || [];
_gaq.push(['_setAccount', 'UA-52617120-5']);
_gaq.push(['_trackPageview']);

(function() {
var ga = document.createElement('script'); ga.type = 'text/javascript'; ga.async = true;
ga.src = ('https:' == document.location.protocol ? 'https://ssl' : 'http://www') + '.google-analytics.com/ga.js';
var s = document.getElementsByTagName('script')[0]; s.parentNode.insertBefore(ga, s);
})();

(function(b){(function(a){"__CF"in b&&"DJS"in b.__CF?b.__CF.DJS.push(a):"addEventListener"in b?b.addEventListener("load",a,!1):b.attachEvent("onload",a)})(function(){"FB"in b&&"Event"in FB&&"subscribe"in FB.Event&&(FB.Event.subscribe("edge.create",function(a){_gaq.push(["_trackSocial","facebook","like",a])}),FB.Event.subscribe("edge.remove",function(a){_gaq.push(["_trackSocial","facebook","unlike",a])}),FB.Event.subscribe("message.send",function(a){_gaq.push(["_trackSocial","facebook","send",a])}));"twttr"in b&&"events"in twttr&&"bind"in twttr.events&&twttr.events.bind("tweet",function(a){if(a){var b;if(a.target&&a.target.nodeName=="IFRAME")a:{if(a=a.target.src){a=a.split("#")[0].match(/[^?=&]+=([^&]*)?/g);b=0;for(var c;c=a[b];++b)if(c.indexOf("url")===0){b=unescape(c.split("=")[1]);break a}}b=void 0}_gaq.push(["_trackSocial","twitter","tweet",b])}})})})(window);
/* ]]> */
</script>
</head>

<body class="nbviewer">

  <!-- These are loaded at the top of the body so they are available to
       notebook cells when they are loaded below. -->
  <script src="/static/components/jquery/dist/jquery.min.js"></script>
  <script src="/static/components/requirejs/require.js"></script>
  <script src="/static/components/moment/min/moment.min.js"></script>

<!-- Navbar
================================================== -->
  <nav id="menubar" class="navbar navbar-default navbar-fixed-top" data-spy="affix">
    <div class="container">
      <div class="navbar-header">
        <button type="button" class="navbar-toggle collapsed" data-toggle="collapse" data-target=".navbar-collapse">
          <span class="sr-only">Toggle navigation</span>
          <i class="fa fa-bars"></i>
        </button>
        <a class="navbar-brand" href="/">
          <img src="/static/img/nav_logo.svg" width="159"/>
        </a>
      </div>

      <div class="collapse navbar-collapse">
        <ul class="nav navbar-nav navbar-right">
          <li>
            <a class="active" href="http://jupyter.org">JUPYTER</a>
          </li>
          <li>
    <a href="/faq" title="FAQ" >
      
        <span>FAQ</span>
      
    </a>
  </li>

          
  
    
  
    
      
        <li>
    <a href="/format/script/github/jmportilla/Udemy-notes/blob/master/Intro%20to%20Data%20Projects%20-%20Titanic.ipynb" title="View as Code" >
      <span class="fa fa- fa-2x menu-icon"></span>
      <span class="menu-text">View as Code</span>
    </a>
  </li>
      
    
  

  
    <li>
    <a href="#" title="Python 2 Kernel" >
      <span class="fa fa-server fa-2x menu-icon"></span>
      <span class="menu-text">Python 2 Kernel</span>
    </a>
  </li>
  

  
    <li>
    <a href="https://github.com/jmportilla/Udemy-notes/blob/master/Intro%20to%20Data%20Projects%20-%20Titanic.ipynb" title="View on GitHub" >
      <span class="fa fa-github fa-2x menu-icon"></span>
      <span class="menu-text">View on GitHub</span>
    </a>
  </li>
  

  <li>
    <a href="https://raw.githubusercontent.com/jmportilla/Udemy-notes/master/Intro%20to%20Data%20Projects%20-%20Titanic.ipynb" title="Download Notebook" download>
      <span class="fa fa-download fa-2x menu-icon"></span>
      <span class="menu-text">Download Notebook</span>
    </a>
  </li>

        </ul>
      </div><!-- /.navbar-collapse -->
      
      
    </div>
  </nav>

  <div class="container container-main">
    
  
  <ol class="breadcrumb">
    
      <li>
        <a href="/github/jmportilla/Udemy-notes/tree/master">Udemy-notes</a>
      </li>
    
      <li>
        <a href="/github/jmportilla/Udemy-notes/tree/master/Intro to Data Projects - Titanic.ipynb">Intro to Data Projects - Titanic.ipynb</a>
      </li>
    
  </ol>
  
  <div id="notebook">
    <div id="notebook-container">
      
<div class="cell border-box-sizing text_cell rendered">
<div class="prompt input_prompt">
</div>
<div class="inner_cell">
<div class="text_cell_render border-box-sizing rendered_html">
<h2 id="Welcome-to-your-first-Data-Project!">Welcome to your first Data Project!<a class="anchor-link" href="#Welcome-to-your-first-Data-Project!">&#182;</a></h2>
</div>
</div>
</div>
<div class="cell border-box-sizing text_cell rendered">
<div class="prompt input_prompt">
</div>
<div class="inner_cell">
<div class="text_cell_render border-box-sizing rendered_html">
<p>Check out the Kaggle Titanic Challenge at the following link:</p>
<p><a href="https://www.kaggle.com/c/titanic-gettingStarted">https://www.kaggle.com/c/titanic-gettingStarted</a></p>
<p>Note: You'll need to make an account to access the data.</p>

</div>
</div>
</div>
<div class="cell border-box-sizing text_cell rendered">
<div class="prompt input_prompt">
</div>
<div class="inner_cell">
<div class="text_cell_render border-box-sizing rendered_html">
<p>Download the train.csv file and save it to the same location as your iPython Notebooks.</p>

</div>
</div>
</div>
<div class="cell border-box-sizing code_cell rendered">
<div class="input">
<div class="prompt input_prompt">In&nbsp;[119]:</div>
<div class="inner_cell">
    <div class="input_area">
<div class=" highlight hl-ipython2"><pre><span></span><span class="c1">#Now let&#39;s open it with pandas</span>
<span class="kn">import</span> <span class="nn">pandas</span> <span class="kn">as</span> <span class="nn">pd</span>
<span class="kn">from</span> <span class="nn">pandas</span> <span class="kn">import</span> <span class="n">Series</span><span class="p">,</span><span class="n">DataFrame</span>

<span class="c1"># Set up the Titanic csv file as a DataFrame</span>
<span class="n">titanic_df</span> <span class="o">=</span> <span class="n">pd</span><span class="o">.</span><span class="n">read_csv</span><span class="p">(</span><span class="s1">&#39;train.csv&#39;</span><span class="p">)</span>

<span class="c1"># Let&#39;s see a preview of the data</span>
<span class="n">titanic_df</span><span class="o">.</span><span class="n">head</span><span class="p">()</span>
</pre></div>

</div>
</div>
</div>

<div class="output_wrapper">
<div class="output">


<div class="output_area"><div class="prompt output_prompt">Out[119]:</div>

<div class="output_html rendered_html output_subarea output_execute_result">
<div style="max-height:1000px;max-width:1500px;overflow:auto;">
<table border="1" class="dataframe">
  <thead>
    <tr style="text-align: right;">
      <th></th>
      <th>PassengerId</th>
      <th>Survived</th>
      <th>Pclass</th>
      <th>Name</th>
      <th>Sex</th>
      <th>Age</th>
      <th>SibSp</th>
      <th>Parch</th>
      <th>Ticket</th>
      <th>Fare</th>
      <th>Cabin</th>
      <th>Embarked</th>
    </tr>
  </thead>
  <tbody>
    <tr>
      <th>0</th>
      <td> 1</td>
      <td> 0</td>
      <td> 3</td>
      <td>                           Braund, Mr. Owen Harris</td>
      <td>   male</td>
      <td> 22</td>
      <td> 1</td>
      <td> 0</td>
      <td>        A/5 21171</td>
      <td>  7.2500</td>
      <td>  NaN</td>
      <td> S</td>
    </tr>
    <tr>
      <th>1</th>
      <td> 2</td>
      <td> 1</td>
      <td> 1</td>
      <td> Cumings, Mrs. John Bradley (Florence Briggs Th...</td>
      <td> female</td>
      <td> 38</td>
      <td> 1</td>
      <td> 0</td>
      <td>         PC 17599</td>
      <td> 71.2833</td>
      <td>  C85</td>
      <td> C</td>
    </tr>
    <tr>
      <th>2</th>
      <td> 3</td>
      <td> 1</td>
      <td> 3</td>
      <td>                            Heikkinen, Miss. Laina</td>
      <td> female</td>
      <td> 26</td>
      <td> 0</td>
      <td> 0</td>
      <td> STON/O2. 3101282</td>
      <td>  7.9250</td>
      <td>  NaN</td>
      <td> S</td>
    </tr>
    <tr>
      <th>3</th>
      <td> 4</td>
      <td> 1</td>
      <td> 1</td>
      <td>      Futrelle, Mrs. Jacques Heath (Lily May Peel)</td>
      <td> female</td>
      <td> 35</td>
      <td> 1</td>
      <td> 0</td>
      <td>           113803</td>
      <td> 53.1000</td>
      <td> C123</td>
      <td> S</td>
    </tr>
    <tr>
      <th>4</th>
      <td> 5</td>
      <td> 0</td>
      <td> 3</td>
      <td>                          Allen, Mr. William Henry</td>
      <td>   male</td>
      <td> 35</td>
      <td> 0</td>
      <td> 0</td>
      <td>           373450</td>
      <td>  8.0500</td>
      <td>  NaN</td>
      <td> S</td>
    </tr>
  </tbody>
</table>
</div>
</div>

</div>

</div>
</div>

</div>
<div class="cell border-box-sizing code_cell rendered">
<div class="input">
<div class="prompt input_prompt">In&nbsp;[120]:</div>
<div class="inner_cell">
    <div class="input_area">
<div class=" highlight hl-ipython2"><pre><span></span><span class="c1"># We could also get overall info for the dataset</span>
<span class="n">titanic_df</span><span class="o">.</span><span class="n">info</span><span class="p">()</span>
</pre></div>

</div>
</div>
</div>

<div class="output_wrapper">
<div class="output">


<div class="output_area"><div class="prompt"></div>
<div class="output_subarea output_stream output_stdout output_text">
<pre>&lt;class &#39;pandas.core.frame.DataFrame&#39;&gt;
Int64Index: 891 entries, 0 to 890
Data columns (total 12 columns):
PassengerId    891 non-null int64
Survived       891 non-null int64
Pclass         891 non-null int64
Name           891 non-null object
Sex            891 non-null object
Age            714 non-null float64
SibSp          891 non-null int64
Parch          891 non-null int64
Ticket         891 non-null object
Fare           891 non-null float64
Cabin          204 non-null object
Embarked       889 non-null object
dtypes: float64(2), int64(5), object(5)
memory usage: 90.5+ KB
</pre>
</div>
</div>

</div>
</div>

</div>
<div class="cell border-box-sizing text_cell rendered">
<div class="prompt input_prompt">
</div>
<div class="inner_cell">
<div class="text_cell_render border-box-sizing rendered_html">
<p>All good data analysis projects begin with trying to answer questions. Now that we know what column category data we have let's think of some questions or insights we would like to obtain from the data. So here's a list of questions we'll try to answer using our new data analysis skills!</p>
<p>First some basic questions:</p>

<pre><code>1.) Who were the passengers on the Titanic? (Ages,Gender,Class,..etc)
2.) What deck were the passengers on and how does that relate to their class?
3.) Where did the passengers come from?
4.) Who was alone and who was with family?

</code></pre>
<p>Then we'll dig deeper, with a broader question:</p>

<pre><code>5.) What factors helped someone survive the sinking?</code></pre>

</div>
</div>
</div>
<div class="cell border-box-sizing text_cell rendered">
<div class="prompt input_prompt">
</div>
<div class="inner_cell">
<div class="text_cell_render border-box-sizing rendered_html">
<p>So let's start with the first question: Who were the passengers on the titanic?</p>

</div>
</div>
</div>
<div class="cell border-box-sizing code_cell rendered">
<div class="input">
<div class="prompt input_prompt">In&nbsp;[121]:</div>
<div class="inner_cell">
    <div class="input_area">
<div class=" highlight hl-ipython2"><pre><span></span><span class="c1"># Let&#39;s import what we&#39;ll need for the analysis and visualization</span>
<span class="kn">import</span> <span class="nn">numpy</span> <span class="kn">as</span> <span class="nn">np</span>
<span class="kn">import</span> <span class="nn">matplotlib.pyplot</span> <span class="kn">as</span> <span class="nn">plt</span>
<span class="kn">import</span> <span class="nn">seaborn</span> <span class="kn">as</span> <span class="nn">sns</span>
<span class="o">%</span><span class="k">matplotlib</span> inline
</pre></div>

</div>
</div>
</div>

</div>
<div class="cell border-box-sizing code_cell rendered">
<div class="input">
<div class="prompt input_prompt">In&nbsp;[122]:</div>
<div class="inner_cell">
    <div class="input_area">
<div class=" highlight hl-ipython2"><pre><span></span><span class="c1"># Let&#39;s first check gender</span>
<span class="n">sns</span><span class="o">.</span><span class="n">factorplot</span><span class="p">(</span><span class="s1">&#39;Sex&#39;</span><span class="p">,</span><span class="n">data</span><span class="o">=</span><span class="n">titanic_df</span><span class="p">)</span>
</pre></div>

</div>
</div>
</div>

<div class="output_wrapper">
<div class="output">


<div class="output_area"><div class="prompt output_prompt">Out[122]:</div>


<div class="output_text output_subarea output_execute_result">
<pre>&lt;seaborn.axisgrid.FacetGrid at 0x23bd6fd0&gt;</pre>
</div>

</div>

<div class="output_area"><div class="prompt"></div>


<div class="output_png output_subarea ">
<img src="data:image/png;base64,iVBORw0KGgoAAAANSUhEUgAAAWEAAAFhCAYAAACh/xvXAAAABHNCSVQICAgIfAhkiAAAAAlwSFlz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"
>
</div>

</div>

</div>
</div>

</div>
<div class="cell border-box-sizing code_cell rendered">
<div class="input">
<div class="prompt input_prompt">In&nbsp;[123]:</div>
<div class="inner_cell">
    <div class="input_area">
<div class=" highlight hl-ipython2"><pre><span></span><span class="c1"># Now let&#39;s seperate the genders by classes, remember we can use the &#39;hue&#39; arguement here!</span>
<span class="n">sns</span><span class="o">.</span><span class="n">factorplot</span><span class="p">(</span><span class="s1">&#39;Pclass&#39;</span><span class="p">,</span><span class="n">data</span><span class="o">=</span><span class="n">titanic_df</span><span class="p">,</span><span class="n">hue</span><span class="o">=</span><span class="s1">&#39;Sex&#39;</span><span class="p">)</span>
</pre></div>

</div>
</div>
</div>

<div class="output_wrapper">
<div class="output">


<div class="output_area"><div class="prompt output_prompt">Out[123]:</div>


<div class="output_text output_subarea output_execute_result">
<pre>&lt;seaborn.axisgrid.FacetGrid at 0x236b9048&gt;</pre>
</div>

</div>

<div class="output_area"><div class="prompt"></div>


<div class="output_png output_subarea ">
<img src="data:image/png;base64,iVBORw0KGgoAAAANSUhEUgAAAaAAAAFhCAYAAAA2gn5IAAAABHNCSVQICAgIfAhkiAAAAAlwSFlz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"
>
</div>

</div>

</div>
</div>

</div>
<div class="cell border-box-sizing text_cell rendered">
<div class="prompt input_prompt">
</div>
<div class="inner_cell">
<div class="text_cell_render border-box-sizing rendered_html">
<p>Wow, quite a few more males in the 3rd class than females, an interesting find. However, it might be useful to know the split between males,females,and children. How can we go about this?</p>

</div>
</div>
</div>
<div class="cell border-box-sizing code_cell rendered">
<div class="input">
<div class="prompt input_prompt">In&nbsp;[124]:</div>
<div class="inner_cell">
    <div class="input_area">
<div class=" highlight hl-ipython2"><pre><span></span><span class="c1"># We&#39;ll treat anyone as under 16 as a child, and then use the apply technique with a function to create a new column</span>

<span class="c1"># Revisit Lecture 45 for a refresher on how to do this.</span>

<span class="c1"># First let&#39;s make a function to sort through the sex </span>
<span class="k">def</span> <span class="nf">male_female_child</span><span class="p">(</span><span class="n">passenger</span><span class="p">):</span>
    <span class="c1"># Take the Age and Sex</span>
    <span class="n">age</span><span class="p">,</span><span class="n">sex</span> <span class="o">=</span> <span class="n">passenger</span>
    <span class="c1"># Compare the age, otherwise leave the sex</span>
    <span class="k">if</span> <span class="n">age</span> <span class="o">&lt;</span> <span class="mi">16</span><span class="p">:</span>
        <span class="k">return</span> <span class="s1">&#39;child&#39;</span>
    <span class="k">else</span><span class="p">:</span>
        <span class="k">return</span> <span class="n">sex</span>
    

<span class="c1"># We&#39;ll define a new column called &#39;person&#39;, remember to specify axis=1 for columns and not index</span>
<span class="n">titanic_df</span><span class="p">[</span><span class="s1">&#39;person&#39;</span><span class="p">]</span> <span class="o">=</span> <span class="n">titanic_df</span><span class="p">[[</span><span class="s1">&#39;Age&#39;</span><span class="p">,</span><span class="s1">&#39;Sex&#39;</span><span class="p">]]</span><span class="o">.</span><span class="n">apply</span><span class="p">(</span><span class="n">male_female_child</span><span class="p">,</span><span class="n">axis</span><span class="o">=</span><span class="mi">1</span><span class="p">)</span>
</pre></div>

</div>
</div>
</div>

</div>
<div class="cell border-box-sizing code_cell rendered">
<div class="input">
<div class="prompt input_prompt">In&nbsp;[125]:</div>
<div class="inner_cell">
    <div class="input_area">
<div class=" highlight hl-ipython2"><pre><span></span><span class="c1"># Let&#39;s see if this worked, check out the first ten rows</span>
<span class="n">titanic_df</span><span class="p">[</span><span class="mi">0</span><span class="p">:</span><span class="mi">10</span><span class="p">]</span>
</pre></div>

</div>
</div>
</div>

<div class="output_wrapper">
<div class="output">


<div class="output_area"><div class="prompt output_prompt">Out[125]:</div>

<div class="output_html rendered_html output_subarea output_execute_result">
<div style="max-height:1000px;max-width:1500px;overflow:auto;">
<table border="1" class="dataframe">
  <thead>
    <tr style="text-align: right;">
      <th></th>
      <th>PassengerId</th>
      <th>Survived</th>
      <th>Pclass</th>
      <th>Name</th>
      <th>Sex</th>
      <th>Age</th>
      <th>SibSp</th>
      <th>Parch</th>
      <th>Ticket</th>
      <th>Fare</th>
      <th>Cabin</th>
      <th>Embarked</th>
      <th>person</th>
    </tr>
  </thead>
  <tbody>
    <tr>
      <th>0</th>
      <td>  1</td>
      <td> 0</td>
      <td> 3</td>
      <td>                           Braund, Mr. Owen Harris</td>
      <td>   male</td>
      <td> 22</td>
      <td> 1</td>
      <td> 0</td>
      <td>        A/5 21171</td>
      <td>  7.2500</td>
      <td>  NaN</td>
      <td> S</td>
      <td>   male</td>
    </tr>
    <tr>
      <th>1</th>
      <td>  2</td>
      <td> 1</td>
      <td> 1</td>
      <td> Cumings, Mrs. John Bradley (Florence Briggs Th...</td>
      <td> female</td>
      <td> 38</td>
      <td> 1</td>
      <td> 0</td>
      <td>         PC 17599</td>
      <td> 71.2833</td>
      <td>  C85</td>
      <td> C</td>
      <td> female</td>
    </tr>
    <tr>
      <th>2</th>
      <td>  3</td>
      <td> 1</td>
      <td> 3</td>
      <td>                            Heikkinen, Miss. Laina</td>
      <td> female</td>
      <td> 26</td>
      <td> 0</td>
      <td> 0</td>
      <td> STON/O2. 3101282</td>
      <td>  7.9250</td>
      <td>  NaN</td>
      <td> S</td>
      <td> female</td>
    </tr>
    <tr>
      <th>3</th>
      <td>  4</td>
      <td> 1</td>
      <td> 1</td>
      <td>      Futrelle, Mrs. Jacques Heath (Lily May Peel)</td>
      <td> female</td>
      <td> 35</td>
      <td> 1</td>
      <td> 0</td>
      <td>           113803</td>
      <td> 53.1000</td>
      <td> C123</td>
      <td> S</td>
      <td> female</td>
    </tr>
    <tr>
      <th>4</th>
      <td>  5</td>
      <td> 0</td>
      <td> 3</td>
      <td>                          Allen, Mr. William Henry</td>
      <td>   male</td>
      <td> 35</td>
      <td> 0</td>
      <td> 0</td>
      <td>           373450</td>
      <td>  8.0500</td>
      <td>  NaN</td>
      <td> S</td>
      <td>   male</td>
    </tr>
    <tr>
      <th>5</th>
      <td>  6</td>
      <td> 0</td>
      <td> 3</td>
      <td>                                  Moran, Mr. James</td>
      <td>   male</td>
      <td>NaN</td>
      <td> 0</td>
      <td> 0</td>
      <td>           330877</td>
      <td>  8.4583</td>
      <td>  NaN</td>
      <td> Q</td>
      <td>   male</td>
    </tr>
    <tr>
      <th>6</th>
      <td>  7</td>
      <td> 0</td>
      <td> 1</td>
      <td>                           McCarthy, Mr. Timothy J</td>
      <td>   male</td>
      <td> 54</td>
      <td> 0</td>
      <td> 0</td>
      <td>            17463</td>
      <td> 51.8625</td>
      <td>  E46</td>
      <td> S</td>
      <td>   male</td>
    </tr>
    <tr>
      <th>7</th>
      <td>  8</td>
      <td> 0</td>
      <td> 3</td>
      <td>                    Palsson, Master. Gosta Leonard</td>
      <td>   male</td>
      <td>  2</td>
      <td> 3</td>
      <td> 1</td>
      <td>           349909</td>
      <td> 21.0750</td>
      <td>  NaN</td>
      <td> S</td>
      <td>  child</td>
    </tr>
    <tr>
      <th>8</th>
      <td>  9</td>
      <td> 1</td>
      <td> 3</td>
      <td> Johnson, Mrs. Oscar W (Elisabeth Vilhelmina Berg)</td>
      <td> female</td>
      <td> 27</td>
      <td> 0</td>
      <td> 2</td>
      <td>           347742</td>
      <td> 11.1333</td>
      <td>  NaN</td>
      <td> S</td>
      <td> female</td>
    </tr>
    <tr>
      <th>9</th>
      <td> 10</td>
      <td> 1</td>
      <td> 2</td>
      <td>               Nasser, Mrs. Nicholas (Adele Achem)</td>
      <td> female</td>
      <td> 14</td>
      <td> 1</td>
      <td> 0</td>
      <td>           237736</td>
      <td> 30.0708</td>
      <td>  NaN</td>
      <td> C</td>
      <td>  child</td>
    </tr>
  </tbody>
</table>
</div>
</div>

</div>

</div>
</div>

</div>
<div class="cell border-box-sizing text_cell rendered">
<div class="prompt input_prompt">
</div>
<div class="inner_cell">
<div class="text_cell_render border-box-sizing rendered_html">
<p>Excellent! Now we have seperated the passengers between female,male,and child. This will be important later on beacuse of the famous "Women and children first policy"!</p>

</div>
</div>
</div>
<div class="cell border-box-sizing code_cell rendered">
<div class="input">
<div class="prompt input_prompt">In&nbsp;[126]:</div>
<div class="inner_cell">
    <div class="input_area">
<div class=" highlight hl-ipython2"><pre><span></span><span class="c1"># Let&#39;s try the factorplot again!</span>
<span class="n">sns</span><span class="o">.</span><span class="n">factorplot</span><span class="p">(</span><span class="s1">&#39;Pclass&#39;</span><span class="p">,</span><span class="n">data</span><span class="o">=</span><span class="n">titanic_df</span><span class="p">,</span><span class="n">hue</span><span class="o">=</span><span class="s1">&#39;person&#39;</span><span class="p">)</span>
</pre></div>

</div>
</div>
</div>

<div class="output_wrapper">
<div class="output">


<div class="output_area"><div class="prompt output_prompt">Out[126]:</div>


<div class="output_text output_subarea output_execute_result">
<pre>&lt;seaborn.axisgrid.FacetGrid at 0x23e2f0f0&gt;</pre>
</div>

</div>

<div class="output_area"><div class="prompt"></div>


<div class="output_png output_subarea ">
<img src="data:image/png;base64,iVBORw0KGgoAAAANSUhEUgAAAaAAAAFhCAYAAAA2gn5IAAAABHNCSVQICAgIfAhkiAAAAAlwSFlz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"
>
</div>

</div>

</div>
</div>

</div>
<div class="cell border-box-sizing text_cell rendered">
<div class="prompt input_prompt">
</div>
<div class="inner_cell">
<div class="text_cell_render border-box-sizing rendered_html">
<p>Interesting, quite a bit of children in 3rd class and not so many in 1st! How about we create a distribution of the ages to get a more precise picture of the who the passengers were.</p>

</div>
</div>
</div>
<div class="cell border-box-sizing code_cell rendered">
<div class="input">
<div class="prompt input_prompt">In&nbsp;[127]:</div>
<div class="inner_cell">
    <div class="input_area">
<div class=" highlight hl-ipython2"><pre><span></span><span class="c1"># Quick way to create a histogram using pandas</span>
<span class="n">titanic_df</span><span class="p">[</span><span class="s1">&#39;Age&#39;</span><span class="p">]</span><span class="o">.</span><span class="n">hist</span><span class="p">(</span><span class="n">bins</span><span class="o">=</span><span class="mi">70</span><span class="p">)</span>
</pre></div>

</div>
</div>
</div>

<div class="output_wrapper">
<div class="output">


<div class="output_area"><div class="prompt output_prompt">Out[127]:</div>


<div class="output_text output_subarea output_execute_result">
<pre>&lt;matplotlib.axes._subplots.AxesSubplot at 0x23da5518&gt;</pre>
</div>

</div>

<div class="output_area"><div class="prompt"></div>


<div class="output_png output_subarea ">
<img src="data:image/png;base64,iVBORw0KGgoAAAANSUhEUgAAAXMAAAECCAYAAAAMxDf2AAAABHNCSVQICAgIfAhkiAAAAAlwSFlz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"
>
</div>

</div>

</div>
</div>

</div>
<div class="cell border-box-sizing code_cell rendered">
<div class="input">
<div class="prompt input_prompt">In&nbsp;[128]:</div>
<div class="inner_cell">
    <div class="input_area">
<div class=" highlight hl-ipython2"><pre><span></span><span class="c1"># We could also get a quick overall comparison of male,female,child</span>
<span class="n">titanic_df</span><span class="p">[</span><span class="s1">&#39;person&#39;</span><span class="p">]</span><span class="o">.</span><span class="n">value_counts</span><span class="p">()</span>
</pre></div>

</div>
</div>
</div>

<div class="output_wrapper">
<div class="output">


<div class="output_area"><div class="prompt output_prompt">Out[128]:</div>


<div class="output_text output_subarea output_execute_result">
<pre>male      537
female    271
child      83
dtype: int64</pre>
</div>

</div>

</div>
</div>

</div>
<div class="cell border-box-sizing code_cell rendered">
<div class="input">
<div class="prompt input_prompt">In&nbsp;[129]:</div>
<div class="inner_cell">
    <div class="input_area">
<div class=" highlight hl-ipython2"><pre><span></span><span class="c1"># Another way to visualize the data is to use FacetGrid to plot multiple kedplots on one plot</span>

<span class="c1"># Set the figure equal to a facetgrid with the pandas dataframe as its data source, set the hue, and change the aspect ratio.</span>
<span class="n">fig</span> <span class="o">=</span> <span class="n">sns</span><span class="o">.</span><span class="n">FacetGrid</span><span class="p">(</span><span class="n">titanic_df</span><span class="p">,</span> <span class="n">hue</span><span class="o">=</span><span class="s2">&quot;Sex&quot;</span><span class="p">,</span><span class="n">aspect</span><span class="o">=</span><span class="mi">4</span><span class="p">)</span>

<span class="c1"># Next use map to plot all the possible kdeplots for the &#39;Age&#39; column by the hue choice</span>
<span class="n">fig</span><span class="o">.</span><span class="n">map</span><span class="p">(</span><span class="n">sns</span><span class="o">.</span><span class="n">kdeplot</span><span class="p">,</span><span class="s1">&#39;Age&#39;</span><span class="p">,</span><span class="n">shade</span><span class="o">=</span> <span class="bp">True</span><span class="p">)</span>

<span class="c1"># Set the x max limit by the oldest passenger</span>
<span class="n">oldest</span> <span class="o">=</span> <span class="n">titanic_df</span><span class="p">[</span><span class="s1">&#39;Age&#39;</span><span class="p">]</span><span class="o">.</span><span class="n">max</span><span class="p">()</span>

<span class="c1">#Since we know no one can be negative years old set the x lower limit at 0</span>
<span class="n">fig</span><span class="o">.</span><span class="n">set</span><span class="p">(</span><span class="n">xlim</span><span class="o">=</span><span class="p">(</span><span class="mi">0</span><span class="p">,</span><span class="n">oldest</span><span class="p">))</span>

<span class="c1">#Finally add a legend</span>
<span class="n">fig</span><span class="o">.</span><span class="n">add_legend</span><span class="p">()</span>
</pre></div>

</div>
</div>
</div>

<div class="output_wrapper">
<div class="output">


<div class="output_area"><div class="prompt"></div>


<div class="output_png output_subarea ">
<img src="data:image/png;base64,iVBORw0KGgoAAAANSUhEUgAAA5wAAADRCAYAAACgnL3+AAAABHNCSVQICAgIfAhkiAAAAAlwSFlz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"
>
</div>

</div>

</div>
</div>

</div>
<div class="cell border-box-sizing code_cell rendered">
<div class="input">
<div class="prompt input_prompt">In&nbsp;[130]:</div>
<div class="inner_cell">
    <div class="input_area">
<div class=" highlight hl-ipython2"><pre><span></span><span class="c1"># We could have done the same thing for the &#39;person&#39; column to include children:</span>

<span class="n">fig</span> <span class="o">=</span> <span class="n">sns</span><span class="o">.</span><span class="n">FacetGrid</span><span class="p">(</span><span class="n">titanic_df</span><span class="p">,</span> <span class="n">hue</span><span class="o">=</span><span class="s2">&quot;person&quot;</span><span class="p">,</span><span class="n">aspect</span><span class="o">=</span><span class="mi">4</span><span class="p">)</span>
<span class="n">fig</span><span class="o">.</span><span class="n">map</span><span class="p">(</span><span class="n">sns</span><span class="o">.</span><span class="n">kdeplot</span><span class="p">,</span><span class="s1">&#39;Age&#39;</span><span class="p">,</span><span class="n">shade</span><span class="o">=</span> <span class="bp">True</span><span class="p">)</span>
<span class="n">oldest</span> <span class="o">=</span> <span class="n">titanic_df</span><span class="p">[</span><span class="s1">&#39;Age&#39;</span><span class="p">]</span><span class="o">.</span><span class="n">max</span><span class="p">()</span>
<span class="n">fig</span><span class="o">.</span><span class="n">set</span><span class="p">(</span><span class="n">xlim</span><span class="o">=</span><span class="p">(</span><span class="mi">0</span><span class="p">,</span><span class="n">oldest</span><span class="p">))</span>
<span class="n">fig</span><span class="o">.</span><span class="n">add_legend</span><span class="p">()</span>
</pre></div>

</div>
</div>
</div>

<div class="output_wrapper">
<div class="output">


<div class="output_area"><div class="prompt"></div>


<div class="output_png output_subarea ">
<img src="data:image/png;base64,iVBORw0KGgoAAAANSUhEUgAAA50AAADRCAYAAABPXtbAAAAABHNCSVQICAgIfAhkiAAAAAlwSFlz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"
>
</div>

</div>

</div>
</div>

</div>
<div class="cell border-box-sizing code_cell rendered">
<div class="input">
<div class="prompt input_prompt">In&nbsp;[131]:</div>
<div class="inner_cell">
    <div class="input_area">
<div class=" highlight hl-ipython2"><pre><span></span><span class="c1"># Let&#39;s do the same for class by changing the hue argument:</span>
<span class="n">fig</span> <span class="o">=</span> <span class="n">sns</span><span class="o">.</span><span class="n">FacetGrid</span><span class="p">(</span><span class="n">titanic_df</span><span class="p">,</span> <span class="n">hue</span><span class="o">=</span><span class="s2">&quot;Pclass&quot;</span><span class="p">,</span><span class="n">aspect</span><span class="o">=</span><span class="mi">4</span><span class="p">)</span>
<span class="n">fig</span><span class="o">.</span><span class="n">map</span><span class="p">(</span><span class="n">sns</span><span class="o">.</span><span class="n">kdeplot</span><span class="p">,</span><span class="s1">&#39;Age&#39;</span><span class="p">,</span><span class="n">shade</span><span class="o">=</span> <span class="bp">True</span><span class="p">)</span>
<span class="n">oldest</span> <span class="o">=</span> <span class="n">titanic_df</span><span class="p">[</span><span class="s1">&#39;Age&#39;</span><span class="p">]</span><span class="o">.</span><span class="n">max</span><span class="p">()</span>
<span class="n">fig</span><span class="o">.</span><span class="n">set</span><span class="p">(</span><span class="n">xlim</span><span class="o">=</span><span class="p">(</span><span class="mi">0</span><span class="p">,</span><span class="n">oldest</span><span class="p">))</span>
<span class="n">fig</span><span class="o">.</span><span class="n">add_legend</span><span class="p">()</span>
</pre></div>

</div>
</div>
</div>

<div class="output_wrapper">
<div class="output">


<div class="output_area"><div class="prompt"></div>


<div class="output_png output_subarea ">
<img src="data:image/png;base64,iVBORw0KGgoAAAANSUhEUgAAA4UAAADRCAYAAAB7JxfcAAAABHNCSVQICAgIfAhkiAAAAAlwSFlz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"
>
</div>

</div>

</div>
</div>

</div>
<div class="cell border-box-sizing text_cell rendered">
<div class="prompt input_prompt">
</div>
<div class="inner_cell">
<div class="text_cell_render border-box-sizing rendered_html">
<p>We've gotten a pretty good picture of who the passengers were based on Sex, Age, and Class. So let's move on to our 2nd question: What deck were the passengers on and how does that relate to their class?</p>

</div>
</div>
</div>
<div class="cell border-box-sizing code_cell rendered">
<div class="input">
<div class="prompt input_prompt">In&nbsp;[132]:</div>
<div class="inner_cell">
    <div class="input_area">
<div class=" highlight hl-ipython2"><pre><span></span><span class="c1"># Let&#39;s get a quick look at our dataset again</span>
<span class="n">titanic_df</span><span class="o">.</span><span class="n">head</span><span class="p">()</span>
</pre></div>

</div>
</div>
</div>

<div class="output_wrapper">
<div class="output">


<div class="output_area"><div class="prompt output_prompt">Out[132]:</div>

<div class="output_html rendered_html output_subarea output_execute_result">
<div style="max-height:1000px;max-width:1500px;overflow:auto;">
<table border="1" class="dataframe">
  <thead>
    <tr style="text-align: right;">
      <th></th>
      <th>PassengerId</th>
      <th>Survived</th>
      <th>Pclass</th>
      <th>Name</th>
      <th>Sex</th>
      <th>Age</th>
      <th>SibSp</th>
      <th>Parch</th>
      <th>Ticket</th>
      <th>Fare</th>
      <th>Cabin</th>
      <th>Embarked</th>
      <th>person</th>
    </tr>
  </thead>
  <tbody>
    <tr>
      <th>0</th>
      <td> 1</td>
      <td> 0</td>
      <td> 3</td>
      <td>                           Braund, Mr. Owen Harris</td>
      <td>   male</td>
      <td> 22</td>
      <td> 1</td>
      <td> 0</td>
      <td>        A/5 21171</td>
      <td>  7.2500</td>
      <td>  NaN</td>
      <td> S</td>
      <td>   male</td>
    </tr>
    <tr>
      <th>1</th>
      <td> 2</td>
      <td> 1</td>
      <td> 1</td>
      <td> Cumings, Mrs. John Bradley (Florence Briggs Th...</td>
      <td> female</td>
      <td> 38</td>
      <td> 1</td>
      <td> 0</td>
      <td>         PC 17599</td>
      <td> 71.2833</td>
      <td>  C85</td>
      <td> C</td>
      <td> female</td>
    </tr>
    <tr>
      <th>2</th>
      <td> 3</td>
      <td> 1</td>
      <td> 3</td>
      <td>                            Heikkinen, Miss. Laina</td>
      <td> female</td>
      <td> 26</td>
      <td> 0</td>
      <td> 0</td>
      <td> STON/O2. 3101282</td>
      <td>  7.9250</td>
      <td>  NaN</td>
      <td> S</td>
      <td> female</td>
    </tr>
    <tr>
      <th>3</th>
      <td> 4</td>
      <td> 1</td>
      <td> 1</td>
      <td>      Futrelle, Mrs. Jacques Heath (Lily May Peel)</td>
      <td> female</td>
      <td> 35</td>
      <td> 1</td>
      <td> 0</td>
      <td>           113803</td>
      <td> 53.1000</td>
      <td> C123</td>
      <td> S</td>
      <td> female</td>
    </tr>
    <tr>
      <th>4</th>
      <td> 5</td>
      <td> 0</td>
      <td> 3</td>
      <td>                          Allen, Mr. William Henry</td>
      <td>   male</td>
      <td> 35</td>
      <td> 0</td>
      <td> 0</td>
      <td>           373450</td>
      <td>  8.0500</td>
      <td>  NaN</td>
      <td> S</td>
      <td>   male</td>
    </tr>
  </tbody>
</table>
</div>
</div>

</div>

</div>
</div>

</div>
<div class="cell border-box-sizing text_cell rendered">
<div class="prompt input_prompt">
</div>
<div class="inner_cell">
<div class="text_cell_render border-box-sizing rendered_html">
<p>So we can see that the Cabin column has information on the deck, but it has several NaN values, so we'll have to drop them.</p>

</div>
</div>
</div>
<div class="cell border-box-sizing code_cell rendered">
<div class="input">
<div class="prompt input_prompt">In&nbsp;[133]:</div>
<div class="inner_cell">
    <div class="input_area">
<div class=" highlight hl-ipython2"><pre><span></span><span class="c1"># First we&#39;ll drop the NaN values and create a new object, deck</span>
<span class="n">deck</span> <span class="o">=</span> <span class="n">titanic_df</span><span class="p">[</span><span class="s1">&#39;Cabin&#39;</span><span class="p">]</span><span class="o">.</span><span class="n">dropna</span><span class="p">()</span>
</pre></div>

</div>
</div>
</div>

</div>
<div class="cell border-box-sizing code_cell rendered">
<div class="input">
<div class="prompt input_prompt">In&nbsp;[134]:</div>
<div class="inner_cell">
    <div class="input_area">
<div class=" highlight hl-ipython2"><pre><span></span><span class="c1"># Quick preview of the decks</span>
<span class="n">deck</span><span class="o">.</span><span class="n">head</span><span class="p">()</span>
</pre></div>

</div>
</div>
</div>

<div class="output_wrapper">
<div class="output">


<div class="output_area"><div class="prompt output_prompt">Out[134]:</div>


<div class="output_text output_subarea output_execute_result">
<pre>1      C85
3     C123
6      E46
10      G6
11    C103
Name: Cabin, dtype: object</pre>
</div>

</div>

</div>
</div>

</div>
<div class="cell border-box-sizing text_cell rendered">
<div class="prompt input_prompt">
</div>
<div class="inner_cell">
<div class="text_cell_render border-box-sizing rendered_html">
<p>Notice we only need the first letter of the deck to classify its level (e.g. A,B,C,D,E,F,G)</p>

</div>
</div>
</div>
<div class="cell border-box-sizing code_cell rendered">
<div class="input">
<div class="prompt input_prompt">In&nbsp;[135]:</div>
<div class="inner_cell">
    <div class="input_area">
<div class=" highlight hl-ipython2"><pre><span></span><span class="c1"># So let&#39;s grab that letter for the deck level with a simple for loop</span>

<span class="c1"># Set empty list</span>
<span class="n">levels</span> <span class="o">=</span> <span class="p">[]</span>

<span class="c1"># Loop to grab first letter</span>
<span class="k">for</span> <span class="n">level</span> <span class="ow">in</span> <span class="n">deck</span><span class="p">:</span>
    <span class="n">levels</span><span class="o">.</span><span class="n">append</span><span class="p">(</span><span class="n">level</span><span class="p">[</span><span class="mi">0</span><span class="p">])</span>    

<span class="c1"># Reset DataFrame and use factor plot</span>
<span class="n">cabin_df</span> <span class="o">=</span> <span class="n">DataFrame</span><span class="p">(</span><span class="n">levels</span><span class="p">)</span>
<span class="n">cabin_df</span><span class="o">.</span><span class="n">columns</span> <span class="o">=</span> <span class="p">[</span><span class="s1">&#39;Cabin&#39;</span><span class="p">]</span>
<span class="n">sns</span><span class="o">.</span><span class="n">factorplot</span><span class="p">(</span><span class="s1">&#39;Cabin&#39;</span><span class="p">,</span><span class="n">data</span><span class="o">=</span><span class="n">cabin_df</span><span class="p">,</span><span class="n">palette</span><span class="o">=</span><span class="s1">&#39;winter_d&#39;</span><span class="p">)</span>
</pre></div>

</div>
</div>
</div>

<div class="output_wrapper">
<div class="output">


<div class="output_area"><div class="prompt output_prompt">Out[135]:</div>


<div class="output_text output_subarea output_execute_result">
<pre>&lt;seaborn.axisgrid.FacetGrid at 0x247686d8&gt;</pre>
</div>

</div>

<div class="output_area"><div class="prompt"></div>


<div class="output_png output_subarea ">
<img src="data:image/png;base64,iVBORw0KGgoAAAANSUhEUgAAAWEAAAFhCAYAAACh/xvXAAAABHNCSVQICAgIfAhkiAAAAAlwSFlz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"
>
</div>

</div>

</div>
</div>

</div>
<div class="cell border-box-sizing text_cell rendered">
<div class="prompt input_prompt">
</div>
<div class="inner_cell">
<div class="text_cell_render border-box-sizing rendered_html">
<p>Interesting to note we have a 'T' deck value there which doesn't make sense, we  can drop it out with the following code:</p>

</div>
</div>
</div>
<div class="cell border-box-sizing code_cell rendered">
<div class="input">
<div class="prompt input_prompt">In&nbsp;[136]:</div>
<div class="inner_cell">
    <div class="input_area">
<div class=" highlight hl-ipython2"><pre><span></span><span class="c1"># Redefine cabin_df as everything but where the row was equal to &#39;T&#39;</span>
<span class="n">cabin_df</span> <span class="o">=</span> <span class="n">cabin_df</span><span class="p">[</span><span class="n">cabin_df</span><span class="o">.</span><span class="n">Cabin</span> <span class="o">!=</span> <span class="s1">&#39;T&#39;</span><span class="p">]</span>
<span class="c1">#Replot</span>
<span class="n">sns</span><span class="o">.</span><span class="n">factorplot</span><span class="p">(</span><span class="s1">&#39;Cabin&#39;</span><span class="p">,</span><span class="n">data</span><span class="o">=</span><span class="n">cabin_df</span><span class="p">,</span><span class="n">palette</span><span class="o">=</span><span class="s1">&#39;summer&#39;</span><span class="p">)</span>
</pre></div>

</div>
</div>
</div>

<div class="output_wrapper">
<div class="output">


<div class="output_area"><div class="prompt output_prompt">Out[136]:</div>


<div class="output_text output_subarea output_execute_result">
<pre>&lt;seaborn.axisgrid.FacetGrid at 0x249cf6d8&gt;</pre>
</div>

</div>

<div class="output_area"><div class="prompt"></div>


<div class="output_png output_subarea ">
<img src="data:image/png;base64,iVBORw0KGgoAAAANSUhEUgAAAWEAAAFhCAYAAACh/xvXAAAABHNCSVQICAgIfAhkiAAAAAlwSFlz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"
>
</div>

</div>

</div>
</div>

</div>
<div class="cell border-box-sizing text_cell rendered">
<div class="prompt input_prompt">
</div>
<div class="inner_cell">
<div class="text_cell_render border-box-sizing rendered_html">
<p>Quick note: I used 'winter_d' and 'summer' as my palettes, but you can choose any palette you want. Check out this link for more palette names, you can add '_d' to the end of any palette name to make it darker.</p>
<p>Link: <a href="http://matplotlib.org/users/colormaps.html">http://matplotlib.org/users/colormaps.html</a></p>

</div>
</div>
</div>
<div class="cell border-box-sizing text_cell rendered">
<div class="prompt input_prompt">
</div>
<div class="inner_cell">
<div class="text_cell_render border-box-sizing rendered_html">
<p>Great now that we've analyzed the distribution by decks, let's go ahead and answer our third question:</p>

<pre><code>3.) Where did the passengers come from?</code></pre>

</div>
</div>
</div>
<div class="cell border-box-sizing code_cell rendered">
<div class="input">
<div class="prompt input_prompt">In&nbsp;[137]:</div>
<div class="inner_cell">
    <div class="input_area">
<div class=" highlight hl-ipython2"><pre><span></span><span class="c1"># Let&#39;s take another look at our original data</span>
<span class="n">titanic_df</span><span class="o">.</span><span class="n">head</span><span class="p">()</span>
</pre></div>

</div>
</div>
</div>

<div class="output_wrapper">
<div class="output">


<div class="output_area"><div class="prompt output_prompt">Out[137]:</div>

<div class="output_html rendered_html output_subarea output_execute_result">
<div style="max-height:1000px;max-width:1500px;overflow:auto;">
<table border="1" class="dataframe">
  <thead>
    <tr style="text-align: right;">
      <th></th>
      <th>PassengerId</th>
      <th>Survived</th>
      <th>Pclass</th>
      <th>Name</th>
      <th>Sex</th>
      <th>Age</th>
      <th>SibSp</th>
      <th>Parch</th>
      <th>Ticket</th>
      <th>Fare</th>
      <th>Cabin</th>
      <th>Embarked</th>
      <th>person</th>
    </tr>
  </thead>
  <tbody>
    <tr>
      <th>0</th>
      <td> 1</td>
      <td> 0</td>
      <td> 3</td>
      <td>                           Braund, Mr. Owen Harris</td>
      <td>   male</td>
      <td> 22</td>
      <td> 1</td>
      <td> 0</td>
      <td>        A/5 21171</td>
      <td>  7.2500</td>
      <td>  NaN</td>
      <td> S</td>
      <td>   male</td>
    </tr>
    <tr>
      <th>1</th>
      <td> 2</td>
      <td> 1</td>
      <td> 1</td>
      <td> Cumings, Mrs. John Bradley (Florence Briggs Th...</td>
      <td> female</td>
      <td> 38</td>
      <td> 1</td>
      <td> 0</td>
      <td>         PC 17599</td>
      <td> 71.2833</td>
      <td>  C85</td>
      <td> C</td>
      <td> female</td>
    </tr>
    <tr>
      <th>2</th>
      <td> 3</td>
      <td> 1</td>
      <td> 3</td>
      <td>                            Heikkinen, Miss. Laina</td>
      <td> female</td>
      <td> 26</td>
      <td> 0</td>
      <td> 0</td>
      <td> STON/O2. 3101282</td>
      <td>  7.9250</td>
      <td>  NaN</td>
      <td> S</td>
      <td> female</td>
    </tr>
    <tr>
      <th>3</th>
      <td> 4</td>
      <td> 1</td>
      <td> 1</td>
      <td>      Futrelle, Mrs. Jacques Heath (Lily May Peel)</td>
      <td> female</td>
      <td> 35</td>
      <td> 1</td>
      <td> 0</td>
      <td>           113803</td>
      <td> 53.1000</td>
      <td> C123</td>
      <td> S</td>
      <td> female</td>
    </tr>
    <tr>
      <th>4</th>
      <td> 5</td>
      <td> 0</td>
      <td> 3</td>
      <td>                          Allen, Mr. William Henry</td>
      <td>   male</td>
      <td> 35</td>
      <td> 0</td>
      <td> 0</td>
      <td>           373450</td>
      <td>  8.0500</td>
      <td>  NaN</td>
      <td> S</td>
      <td>   male</td>
    </tr>
  </tbody>
</table>
</div>
</div>

</div>

</div>
</div>

</div>
<div class="cell border-box-sizing text_cell rendered">
<div class="prompt input_prompt">
</div>
<div class="inner_cell">
<div class="text_cell_render border-box-sizing rendered_html">
<p>Note here that the Embarked column has C,Q,and S values. Reading about the project on Kaggle you'll note that these stand for Cherbourg, Queenstown, Southhampton.</p>

</div>
</div>
</div>
<div class="cell border-box-sizing code_cell rendered">
<div class="input">
<div class="prompt input_prompt">In&nbsp;[138]:</div>
<div class="inner_cell">
    <div class="input_area">
<div class=" highlight hl-ipython2"><pre><span></span><span class="c1"># Now we can make a quick factorplot to check out the results, note the x_order argument, used to deal with NaN values</span>
<span class="n">sns</span><span class="o">.</span><span class="n">factorplot</span><span class="p">(</span><span class="s1">&#39;Embarked&#39;</span><span class="p">,</span><span class="n">data</span><span class="o">=</span><span class="n">titanic_df</span><span class="p">,</span><span class="n">hue</span><span class="o">=</span><span class="s1">&#39;Pclass&#39;</span><span class="p">,</span><span class="n">x_order</span><span class="o">=</span><span class="p">[</span><span class="s1">&#39;C&#39;</span><span class="p">,</span><span class="s1">&#39;Q&#39;</span><span class="p">,</span><span class="s1">&#39;S&#39;</span><span class="p">])</span>
</pre></div>

</div>
</div>
</div>

<div class="output_wrapper">
<div class="output">


<div class="output_area"><div class="prompt output_prompt">Out[138]:</div>


<div class="output_text output_subarea output_execute_result">
<pre>&lt;seaborn.axisgrid.FacetGrid at 0x247290b8&gt;</pre>
</div>

</div>

<div class="output_area"><div class="prompt"></div>


<div class="output_png output_subarea ">
<img src="data:image/png;base64,iVBORw0KGgoAAAANSUhEUgAAAYoAAAFhCAYAAABu/e1RAAAABHNCSVQICAgIfAhkiAAAAAlwSFlz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"
>
</div>

</div>

</div>
</div>

</div>
<div class="cell border-box-sizing text_cell rendered">
<div class="prompt input_prompt">
</div>
<div class="inner_cell">
<div class="text_cell_render border-box-sizing rendered_html">
<p>An interesting find here is that in Queenstown, almost all the passengers that boarded there were 3rd class. It would be intersting to look at the economics of that town in that time period for further investigation.</p>
<p>Now let's take a look at the 4th question:</p>

<pre><code>4.) Who was alone and who was with family?</code></pre>

</div>
</div>
</div>
<div class="cell border-box-sizing code_cell rendered">
<div class="input">
<div class="prompt input_prompt">In&nbsp;[139]:</div>
<div class="inner_cell">
    <div class="input_area">
<div class=" highlight hl-ipython2"><pre><span></span><span class="c1"># Let&#39;s start by adding a new column to define alone</span>

<span class="c1"># We&#39;ll add the parent/child column with the sibsp column</span>
<span class="n">titanic_df</span><span class="p">[</span><span class="s1">&#39;Alone&#39;</span><span class="p">]</span> <span class="o">=</span>  <span class="n">titanic_df</span><span class="o">.</span><span class="n">Parch</span> <span class="o">+</span> <span class="n">titanic_df</span><span class="o">.</span><span class="n">SibSp</span>
<span class="n">titanic_df</span><span class="p">[</span><span class="s1">&#39;Alone&#39;</span><span class="p">]</span>
</pre></div>

</div>
</div>
</div>

<div class="output_wrapper">
<div class="output">


<div class="output_area"><div class="prompt output_prompt">Out[139]:</div>


<div class="output_text output_subarea output_execute_result">
<pre>0     1
1     1
2     0
3     1
4     0
5     0
6     0
7     4
8     2
9     1
10    2
11    0
12    0
13    6
14    0
...
876    0
877    0
878    0
879    1
880    1
881    0
882    0
883    0
884    0
885    5
886    0
887    0
888    3
889    0
890    0
Name: Alone, Length: 891, dtype: int64</pre>
</div>

</div>

</div>
</div>

</div>
<div class="cell border-box-sizing text_cell rendered">
<div class="prompt input_prompt">
</div>
<div class="inner_cell">
<div class="text_cell_render border-box-sizing rendered_html">
<p>Now we know that if the Alone column is anything but 0, then the passenger had family aboard and wasn't alone. So let's change the column now so that if the value is greater than 0, we know the passenger was with his/her family, otherwise they were alone.</p>

</div>
</div>
</div>
<div class="cell border-box-sizing code_cell rendered">
<div class="input">
<div class="prompt input_prompt">In&nbsp;[140]:</div>
<div class="inner_cell">
    <div class="input_area">
<div class=" highlight hl-ipython2"><pre><span></span><span class="c1"># Look for &gt;0 or ==0 to set alone status</span>
<span class="n">titanic_df</span><span class="p">[</span><span class="s1">&#39;Alone&#39;</span><span class="p">]</span><span class="o">.</span><span class="n">loc</span><span class="p">[</span><span class="n">titanic_df</span><span class="p">[</span><span class="s1">&#39;Alone&#39;</span><span class="p">]</span> <span class="o">&gt;</span><span class="mi">0</span><span class="p">]</span> <span class="o">=</span> <span class="s1">&#39;With Family&#39;</span>
<span class="n">titanic_df</span><span class="p">[</span><span class="s1">&#39;Alone&#39;</span><span class="p">]</span><span class="o">.</span><span class="n">loc</span><span class="p">[</span><span class="n">titanic_df</span><span class="p">[</span><span class="s1">&#39;Alone&#39;</span><span class="p">]</span> <span class="o">==</span> <span class="mi">0</span><span class="p">]</span> <span class="o">=</span> <span class="s1">&#39;Alone&#39;</span>

<span class="c1"># Note it&#39;s okay to ignore an  error that sometimes pops up here. For more info check out this link</span>
<span class="n">url_info</span> <span class="o">=</span> <span class="s1">&#39;http://stackoverflow.com/questions/20625582/how-to-deal-with-this-pandas-warning&#39;</span>
</pre></div>

</div>
</div>
</div>

</div>
<div class="cell border-box-sizing code_cell rendered">
<div class="input">
<div class="prompt input_prompt">In&nbsp;[141]:</div>
<div class="inner_cell">
    <div class="input_area">
<div class=" highlight hl-ipython2"><pre><span></span><span class="c1"># Let&#39;s check to make sure it worked</span>
<span class="n">titanic_df</span><span class="o">.</span><span class="n">head</span><span class="p">()</span>
</pre></div>

</div>
</div>
</div>

<div class="output_wrapper">
<div class="output">


<div class="output_area"><div class="prompt output_prompt">Out[141]:</div>

<div class="output_html rendered_html output_subarea output_execute_result">
<div style="max-height:1000px;max-width:1500px;overflow:auto;">
<table border="1" class="dataframe">
  <thead>
    <tr style="text-align: right;">
      <th></th>
      <th>PassengerId</th>
      <th>Survived</th>
      <th>Pclass</th>
      <th>Name</th>
      <th>Sex</th>
      <th>Age</th>
      <th>SibSp</th>
      <th>Parch</th>
      <th>Ticket</th>
      <th>Fare</th>
      <th>Cabin</th>
      <th>Embarked</th>
      <th>person</th>
      <th>Alone</th>
    </tr>
  </thead>
  <tbody>
    <tr>
      <th>0</th>
      <td> 1</td>
      <td> 0</td>
      <td> 3</td>
      <td>                           Braund, Mr. Owen Harris</td>
      <td>   male</td>
      <td> 22</td>
      <td> 1</td>
      <td> 0</td>
      <td>        A/5 21171</td>
      <td>  7.2500</td>
      <td>  NaN</td>
      <td> S</td>
      <td>   male</td>
      <td> With Family</td>
    </tr>
    <tr>
      <th>1</th>
      <td> 2</td>
      <td> 1</td>
      <td> 1</td>
      <td> Cumings, Mrs. John Bradley (Florence Briggs Th...</td>
      <td> female</td>
      <td> 38</td>
      <td> 1</td>
      <td> 0</td>
      <td>         PC 17599</td>
      <td> 71.2833</td>
      <td>  C85</td>
      <td> C</td>
      <td> female</td>
      <td> With Family</td>
    </tr>
    <tr>
      <th>2</th>
      <td> 3</td>
      <td> 1</td>
      <td> 3</td>
      <td>                            Heikkinen, Miss. Laina</td>
      <td> female</td>
      <td> 26</td>
      <td> 0</td>
      <td> 0</td>
      <td> STON/O2. 3101282</td>
      <td>  7.9250</td>
      <td>  NaN</td>
      <td> S</td>
      <td> female</td>
      <td>       Alone</td>
    </tr>
    <tr>
      <th>3</th>
      <td> 4</td>
      <td> 1</td>
      <td> 1</td>
      <td>      Futrelle, Mrs. Jacques Heath (Lily May Peel)</td>
      <td> female</td>
      <td> 35</td>
      <td> 1</td>
      <td> 0</td>
      <td>           113803</td>
      <td> 53.1000</td>
      <td> C123</td>
      <td> S</td>
      <td> female</td>
      <td> With Family</td>
    </tr>
    <tr>
      <th>4</th>
      <td> 5</td>
      <td> 0</td>
      <td> 3</td>
      <td>                          Allen, Mr. William Henry</td>
      <td>   male</td>
      <td> 35</td>
      <td> 0</td>
      <td> 0</td>
      <td>           373450</td>
      <td>  8.0500</td>
      <td>  NaN</td>
      <td> S</td>
      <td>   male</td>
      <td>       Alone</td>
    </tr>
  </tbody>
</table>
</div>
</div>

</div>

</div>
</div>

</div>
<div class="cell border-box-sizing code_cell rendered">
<div class="input">
<div class="prompt input_prompt">In&nbsp;[142]:</div>
<div class="inner_cell">
    <div class="input_area">
<div class=" highlight hl-ipython2"><pre><span></span><span class="c1"># Now let&#39;s get a simple visualization!</span>
<span class="n">sns</span><span class="o">.</span><span class="n">factorplot</span><span class="p">(</span><span class="s1">&#39;Alone&#39;</span><span class="p">,</span><span class="n">data</span><span class="o">=</span><span class="n">titanic_df</span><span class="p">,</span><span class="n">palette</span><span class="o">=</span><span class="s1">&#39;Blues&#39;</span><span class="p">)</span>
</pre></div>

</div>
</div>
</div>

<div class="output_wrapper">
<div class="output">


<div class="output_area"><div class="prompt output_prompt">Out[142]:</div>


<div class="output_text output_subarea output_execute_result">
<pre>&lt;seaborn.axisgrid.FacetGrid at 0x227e22e8&gt;</pre>
</div>

</div>

<div class="output_area"><div class="prompt"></div>


<div class="output_png output_subarea ">
<img src="data:image/png;base64,iVBORw0KGgoAAAANSUhEUgAAAWEAAAFhCAYAAACh/xvXAAAABHNCSVQICAgIfAhkiAAAAAlwSFlz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"
>
</div>

</div>

</div>
</div>

</div>
<div class="cell border-box-sizing text_cell rendered">
<div class="prompt input_prompt">
</div>
<div class="inner_cell">
<div class="text_cell_render border-box-sizing rendered_html">
<p>Great work! Now that we've throughly analyzed the data let's go ahead and take a look at the most interesting (and open-ended) question: <em>What factors helped someone survive the sinking?</em></p>

</div>
</div>
</div>
<div class="cell border-box-sizing code_cell rendered">
<div class="input">
<div class="prompt input_prompt">In&nbsp;[143]:</div>
<div class="inner_cell">
    <div class="input_area">
<div class=" highlight hl-ipython2"><pre><span></span><span class="c1"># Let&#39;s start by creating a new column for legibility purposes through mapping (Lec 36)</span>
<span class="n">titanic_df</span><span class="p">[</span><span class="s2">&quot;Survivor&quot;</span><span class="p">]</span> <span class="o">=</span> <span class="n">titanic_df</span><span class="o">.</span><span class="n">Survived</span><span class="o">.</span><span class="n">map</span><span class="p">({</span><span class="mi">0</span><span class="p">:</span> <span class="s2">&quot;no&quot;</span><span class="p">,</span> <span class="mi">1</span><span class="p">:</span> <span class="s2">&quot;yes&quot;</span><span class="p">})</span>

<span class="c1"># Let&#39;s just get a quick overall view of survied vs died. </span>
<span class="n">sns</span><span class="o">.</span><span class="n">factorplot</span><span class="p">(</span><span class="s1">&#39;Survivor&#39;</span><span class="p">,</span><span class="n">data</span><span class="o">=</span><span class="n">titanic_df</span><span class="p">,</span><span class="n">palette</span><span class="o">=</span><span class="s1">&#39;Set1&#39;</span><span class="p">)</span>
</pre></div>

</div>
</div>
</div>

<div class="output_wrapper">
<div class="output">


<div class="output_area"><div class="prompt output_prompt">Out[143]:</div>


<div class="output_text output_subarea output_execute_result">
<pre>&lt;seaborn.axisgrid.FacetGrid at 0x24d9eda0&gt;</pre>
</div>

</div>

<div class="output_area"><div class="prompt"></div>


<div class="output_png output_subarea ">
<img src="data:image/png;base64,iVBORw0KGgoAAAANSUhEUgAAAWEAAAFhCAYAAACh/xvXAAAABHNCSVQICAgIfAhkiAAAAAlwSFlz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"
>
</div>

</div>

</div>
</div>

</div>
<div class="cell border-box-sizing text_cell rendered">
<div class="prompt input_prompt">
</div>
<div class="inner_cell">
<div class="text_cell_render border-box-sizing rendered_html">
<p>So quite a few more people died than those who survived. Let's see if the class of the passengers had an effect on their survival rate, since the movie Titanic popularized the notion that the 3rd class passengers did not do as well as their 1st and 2nd class counterparts.</p>

</div>
</div>
</div>
<div class="cell border-box-sizing code_cell rendered">
<div class="input">
<div class="prompt input_prompt">In&nbsp;[149]:</div>
<div class="inner_cell">
    <div class="input_area">
<div class=" highlight hl-ipython2"><pre><span></span><span class="c1"># Let&#39;s use a factor plot again, but now considering class</span>
<span class="n">sns</span><span class="o">.</span><span class="n">factorplot</span><span class="p">(</span><span class="s1">&#39;Pclass&#39;</span><span class="p">,</span><span class="s1">&#39;Survived&#39;</span><span class="p">,</span><span class="n">data</span><span class="o">=</span><span class="n">titanic_df</span><span class="p">)</span>
</pre></div>

</div>
</div>
</div>

<div class="output_wrapper">
<div class="output">


<div class="output_area"><div class="prompt output_prompt">Out[149]:</div>


<div class="output_text output_subarea output_execute_result">
<pre>&lt;seaborn.axisgrid.FacetGrid at 0x256b6c18&gt;</pre>
</div>

</div>

<div class="output_area"><div class="prompt"></div>


<div class="output_png output_subarea ">
<img src="data:image/png;base64,iVBORw0KGgoAAAANSUhEUgAAAWEAAAFhCAYAAACh/xvXAAAABHNCSVQICAgIfAhkiAAAAAlwSFlz
AAALEgAACxIB0t1+/AAAIABJREFUeJzt3XmUXFW5/vFvN5AwhAQZVEaN06vCjSAIIUFGB0g4nDCp
yGCiUZRBgSOX4XfFK87DERRETFSuE4oCcjgoAZUgECEIPyEGuC+CMwJiBAIIgSR9/9jV5qTpdLqT
PrWrqp/PWrVWau/q6rcJPOzetYeunp4eREQkju7YBYiIjGQKYRGRiBTCIiIRKYRFRCJSCIuIRKQQ
FhGJaN263tjMuoELgAnAEmCmu99f6T8YOBPoAb7p7hfWVYuISKuqcyQ8DRjl7pOA04G8T/8XgTcD
k4HMzMbVWIuISEuqM4QnA3MA3H0+sEuf/ueATYANgC7CiFhEZESpM4THAosrz5c1pih65cDtwEKg
dPfqa0VERoTa5oQJAbxx5Xm3uy8HMLPtgBOAlwD/Ar5rZoe5+6UDvN9CYPu6ihURqVlXf411hvA8
IAF+ZGYTgQWVvvWBZcASd19uZn8nTE0MZId6yhQRiaerrgN8zKyLFasjAGYAOwNj3H22mZ0MvBN4
BrgPeK+7L62lGBGRFlVbCIuIyOpps4aISEQKYRGRiBTCIiIRKYRFRCJSCIuIRKQQFhGJSCEsIhKR
QlhEJCKFsIhIRAphEZGIFMIiIhEphEVEIlIIi4hEpBAWEYlIISwiEpFCWEQkIoWwiEhECmERkYgU
wiIiESmERUQiUgiLiESkEBYRiUghLCISkUJYRCQihbCISEQKYRGRiBTCIiIRKYRFRCJSCIuIRKQQ
FhGJSCEsIhKRQlhEJCKFsIhIRAphEZGIFMIiIhEphEVEIlq3rjc2s27gAmACsASY6e73N/peBPyg
8vIdgdPcfVZd9YiItKLaQhiYBoxy90lmthuQN9pw94eBfQDMbHfg48DsGmsREWlJdU5HTAbmALj7
fGCXvi8wsy7gy8AH3L2nxlpERFpSnSPhscDiyvNlZtbt7ssrbQmw0N1/N4j3WwhsP5wFiog0UVd/
jXWG8GJg48rzvgEMcCRw7iDfb4dhqUpEpIXUOR0xD5gCYGYTgQX9vGYXd7+5xhqGXZIV5ydZ0ZNk
xfmxaxGR9tfV01PPVGxjvrd3dQTADGBnYIy7zzazLYBr3P31tRRQgyQrxhBG+F3AcmBcmadPxq1K
RNpZbdMRjQ/aPtCn+d5K/yNA2wRww2hWzOt0N54rhEVkjWmzhohIRAphEZGIFMIiIhEphEVEIlII
i4hEpBAWEYlIISwiEpFCWEQkIoWwiEhECmERkYgUwiIiESmERUQiUgiLiESkEBYRiUghLCISkUJY
RCQihbCISEQKYRGRiBTCIiIRKYRFRCJSCIuIRKQQFhGJSCE8SElWJMClfZrfGqMWEekcXT09PbFr
aHmNAL4I2KxP1z+B6WWels2vSkQ6gUbCg3Mizw9ggE2BE5pci4h0EI2EVyPJik2A+wmB25/HgZeW
efpY86oSkU6hkfDaGwd8OcmKF8YuRETaj0bCg5BkxbXAm1fzssXAx4Dzyzx9tv6qRKQTaCQ8OOcB
i/ppX17581ggBxYkWXFAU6oSkbankfAgNVZInAzsU2k+Bngx8BFg4z5f8hPg5DJPf9ecCkWkHSmE
hyDJis2Af1SaNi/zdFGSFS8GPg1M7/MlzwHnAp8o83Rxc6oUkXai6YhhUObpQ2WezgB2A+ZXutYD
TgU8yYrpSVbon7eIrEShMIzKPL0VmAS8C3io0vViwmaPm5Os2C1GbSLSmhTCw6zM0+Vlnn4beBXw
WaC6UmJX4JYkK76VZMWWUQoUkZaiEK5JmadPlHl6OrA9cGWf7mOAe5OsOC3JitHNr05EWkVtH8yZ
WTdwATABWALMdPf7K/1vICzp6gIeAI5x95ZeX7uqD+YG+bVvJXxI9+o+XfcBpwBXlXmqT0lFRpg6
R8LTgFHuPgk4nRC4AJhZFzALmO7ubwR+AYyvsZboyjy9hvA/pJMJW517vYIwUr46yYq+AS0iHa7O
EJ4MzAFw9/nALpW+VxE2P5xiZtcDm7i711hLSyjz9LkyT88l/PyzgerI963Ab5Os+GLjvAoRGQHq
DOGxhK28vZY1pigANiesIjgPeBOwn5ntwwhR5unfyzx9H+F/TPMqXesSRsr3JlkxM8mKdaIUKCJN
s26N772YlXeRdbt77zbfRcB9vaNfM5tDCKS5A7zfQsKHXNF87+wDOPKsq6vP/zHAy1erzFN6enq4
4TcPcNFVd7Ho8Wd6u7YAZr98m3Gz7/7DIl47vr9TNEWkzXT111jnSHgeMAXAzCYCCyp9vwfGmNnL
G8/fSAjZgexA+CGiPY486+rNqwU1nq/Ve3Z1dXXt9fptuhY9/swY4BOEDzEBuP+vj3Pa+TeRZMX3
k6zYNvbPr4ceeqzVo191ro7oYsXqCIAZwM7AGHef3Zh++EyjuHnufnIthQyjtVkdMYTvMR74AnBI
n65/EbZGf6HM02ee94Ui0pZ0dsQQNCOEK99rX+BLhN8Aqv4IZMCPtaRNpP1ps0aLKvP0OmAnwtVK
j1a6XgpcBvw8yYq+AS0ibUYh3MLKPF1a5un5wCuBr7Ly+cX7AnckWXFekhWrunpJRFqcQrgNlHm6
qMzT4wgj4+srXesQLhq9N8mKDyRZUedqFxGpgUK4jZR5uoAwAj4c+HOlazPCh6C3J1mxd4TSRGQN
KYTbTJmnPWWeXko4g+KjwNOV7gnA3CQrfpRkxUuiFCgiQ6IQblNlnj5d5unZhDC+pE/3YcD/Jlnx
sSQrNmx+dSIyWArhNlfm6Z/LPH0HsCdwR6VrfeAsQhi/PcmKVS4WF5F4FMIdoszTGwlbv49l5bXM
2wI/AK5PsmLHGLWJyKophDtImafLyjydRTil7UvAskr3noQP7i5MsmLzft9ARJpOIdyByjx9tMzT
kwgf1P2s0tVNGCn/LsmKDyZZsV6UAkXk3xTCHazM07sJ5xRPIxya1GsTwkj5jiQr3hSjNhEJFMJD
s4QVB7Evp3LiWatqLGkrCMeAngk8Vel+LfCzJCuuSLLiZVEKFBnhdIDPECVZcT5wPPCVMk9PiF3P
UCVZsTXh9Lqj+nQ9S7iC6lNlnj7Z9MJERiiF8AiVZMXuwJdZ+dopgL8BpwHf0yltIvVTCI9gSVZ0
A9MJ5xS/sE/3zcAHyzy9rdl1iYwkCmEhyYpxwEeAD7HylVc9wEXAmWWePhyjNpFOpxCWf0uywoBz
gAP6dC0GzgbOK/P02aYXJtLBFMLyPElWTAHOJZxjXOXAyWWeXv38r2pf7f5hq7Q3hbD0K8mKUcAH
CedPbNyn+yeEMP5d0wsbZklWjCGM9LsIyw7HaXWINJPWCUu/yjx9tszTLxC2QF/Up3sqcFeSFZ9L
smJs86sbVqNZcRNud+O5SNMohGVAZZ4+VObpu4FdgVsqXesBpxJu9ZjeWGkhIkOk/3BkUMo8/TUw
GTgGeLDS9SLCSPnmJCt2i1GbSDtTCMuglXm6vMzT7wBG2HVXXSmxK3BLkhXfTrJiqygFirQhhbAM
WZmnT5R5egbhPIor+3QfDXiSFacnWaH5VZHVUAjLGivz9L4yT1PCSW33VLrGEHbh3ZVkxUG61UNk
1RTCstbKPL0WeB1wMvB4pevlQAHMSbLiNTFqE2l1CmEZFmWePlfmae8Gj9msOPIT4C3AgiQrzkmy
YpMoBYq0KIWwDKsyTx8p8/R9hNPZbqp0rQucRFjS9t4kK9aJUqBIi1EISy3KPP3/hHvtjgD+Wuna
ApgF/DrJij1i1CbSShTCUpvGrR4/AF4NfJyVbyLZCbgxyYqLk6zYJkqBIi1AISy1K/P0qTJPzyKE
8WV9uo8gLGn7ryQrNmh+dSJxKYSlaco8/WOZp4cB+wELK10bEkbKdydZcaiWtMlIohCWpivz9DrC
dMQJwKOVrpcClwK/SLLiPyKUJtJ0CmGJoszTpWWefoWwpO0CwjGSvfYB7kiy4vwkKzaNUqBIkyiE
JaoyTxeVeXo8YWR8faWrm3DQ+u+SrDguyYp1+/t6kXZX26HuZtZNGOFMIHwqPtPd76/0nwy8B3ik
0XSsu99bSzHSFhpzwYcAOfCSPt2/JVw8ev0wf8/NgH9UmjYv83TRcH4PkYHUORKeBoxy90nA6YT/
sKpeDxzt7vs0HgrgEa6xpO0y4DWEGz2ernT/BzA3yYofJVnRN6BF2ladITwZmAPg7vMJO6iqdgbO
NLMbzez0GuuQNlPm6dNlnn6ccGTmD/p0Hwb8b5IVZydZsWHzqxMZXnWG8FjC3V29ljWmKHp9HzgW
2BfYw8ym1liLtKEyT/9S5ukRhJ13d1S61gc+Qlhf/A4taZN2VmcIL2blCyK73b36CfiX3P2f7v4c
4eLInVbzfgsJh8LoMcIeZZ7ecMXnD9rx+MNex9iNRlGxDfD97V+22fL7//rYGr33984+oDofTON5
9J9Zj4589KvOEJ4HTAEws4nAgt4OMxsH/NbMNjKzLsJo+LbVvN8OhAsZ9RiBj3W6u7r23/2lXYuf
enZT4EvAMhru+v0iTjrnlz1JVsxKsuKFQ3nfI8+6enMqGs+j/7x6dOSjX3WujuhixeoIgBmEeeAx
7j7bzI4gnD+7BPi5u3+slkKkIyVZ8VrgXODNfboeA/4buKDM0+cG8T5aHSFRrTKEzWwvBhhCu/sN
dRUlMhiNueCDgC8CL+vTfTdwUpmnP1vNeyiEJaqBFsCfSgjhLYFXAdcBS4G9CVML+9ZdnMhAyjzt
AYokK+YQfqv6L2CjRvdrgWuTrCiArMzT+1fxNiJRrXJO2N0PdPcEWARMcPdp7n4YYb1mPXMYImug
zNMlZZ5+hjBY+E6f7pRwMNCnkqwY0/zqRAY2mA/mtnP3P1aePwRsXU85ImuuzNO/lXl6DDCJlT/o
HQWcQVjSdpSWtEkrGUwI32pm3zWzA83sIOCHwNya6xJZY2We3gzsBrwbeLjStRVhpDwvyYq+m4dE
oljt6ggzG004cnBvwjTEz4CvuvvS2qsTWUtJVowlbOz4ELBepasH+DnhLOPJlfYjyzy9uHkVykg3
qCVqZjYe2B64BtjW3X9fd2EiwynJilcB59BYuz6AfwLTyzwt669KZBDTEWb2DuBKwgL5zYB5ZnZ0
3YWJDKcyT+8t83QqMBUY6LCoTQm/+Yk0xWDmhE8j/Lq22N0fIpx+dkatVYnUpMzTnwJ7AP8a4GW7
JFmxSZNKkhFuMCG8zN3/fRCPuz9IZcuoSBt6DnhmgP4N0YUH0iSD+RftLjM7ERhlZjua2SxWPtFK
pK2UefoYcPsAL1kf+EaSFRsN8BqRYTGYED6OsC74aeCbhNPRjquzKJEmOI+wEWlVpgG/TLJiqybV
IyPUYJaonQxc7O4PD/hCkTaTZEVC2O68T6V5IeHEvl5/BQ4s8/TOZtYmI8dgRsJbA7eY2RwzO8rM
dJuBdITGMrTD+zS/CZhdeb4NcFOSFatb2iayRlYbwu7+YcIJVZ8CJgJ3mtl36y5MJJKlhBtf/rPS
NgYok6w4Pk5J0smG8gnweoQ9+MsJZwCLdKTGhaOfBw5lxWWj3cD5SVacm2TFOvGqk04zmM0a5wF/
Bk4CfgG8zt3fU3dhIrGVeXo5sBcrnz/xIeAKncgmw2UwI+F7gde7e+Lul7j7QOsrRTpKmae/JhwG
tLDSfCBwY5IV28SpSjrJKkPYzI5t/HFT4ANmdpaZfbTxOKs55YnEV+bpnwi7Rq+pNO8IzE+yYnUX
1IoMaLBzwl19XqvzWGVEKfN0MWEEfGGleSvCiDiJU5V0Aq0TlhFtqHfMNQ6EPwnIWTEYWQ6cAny5
ceWSyKBpnbDIEDRWTpwDHMyKQ4C6CTc/n5dkxUD3Noo8j9YJi6yBMk8LYE/gwUrz8cCVSVZsHKcq
aUdaJyyyhso8vZ2wcmJBpfkAwg67beNUJe1G64RF1kKZp38hnE/800rzBMLKiZ3jVCXtZDAj4b+j
dcIiq1Tm6RNACpxfad4SuCHJimlxqpJ2MZgQPtLdH6m9EpE2Vubp0jJPTyTsqFveaN4QuDzJiqyx
qkLkeQZ7qPtZZvZWM9uz91F7ZSJtqMzTLxNGxU81mrqALwBf1coJ6c9gQngzwnmrpwMfqzxEpB9l
nl5FmCd+oNJ8LPCTJCvGxalKWtWgrrwX6VRD3awxxPfeGiiB6tbmu4Cpja3QIoPaMTe3n+Yed9+3
npJEmqfOEG68/xjgYqC6tflh4KAyT28dru8j7Wsw0xHVKYhPEf5PPq/OokQ6RZmnTxJ2151baX4R
4f66Q+NUJa1kjaYjzOxWd9+1hnpEmqrukXCf73Uc4YLR6uDnNODzOnNi5BrMZo3tKo+XmNlUwvGW
IjIEZZ5eQDiJ7clK82eBWUlWrBenKoltMNMRNwC/bDzmAh8FTqyzKJFOVebp1YSzif9SaZ4JXJ1k
xSZxqpKYBgxhM0uA/dx9PJAB9xAOtv5ZE2oT6Uhlni4gnDlxe6V5P+BXSVaMj1OVxDLQzRofJox6
R5vZBOC7wI8JN89+oTnliXSmMk8fJNxf9+NK82sIZ07sHqcqiWGgkfAxwF7ufjfwTqBw968TDq/e
f3VvbGbdZnahmf3KzOaa2ctX8bpZZvbpNSlepJ2VefoUcBgrD2q2AOYmWfG2OFVJsw0UwsvdvXfr
5T407tdy9x5gMJ/kTgNGufskwm67vO8LGvfY7TDI9xPpOGWeLi/z9FTCjrpljebRwCVJVpypMyc6
30AhvNTMXmBm2xB2/FwDYbUE8Nwg3nsyMAfA3ecDu1Q7zWwSsCvwNXRnnYxwZZ7OAqYAiyvNnwS+
mWTFqDhVSTMMFMKfAX4DzAe+7u4PmtnhwHUMbk54LCv/C7XMzLoBzGxL4CzgBBTAEtcSVvwmFvXC
gjJPryUMXqpbmqcDc5KseEGUoqR2qzzVyd0vNbObgc3d/c5G87+Ame5+/SDeezFQveal2917j/g7
DNiccBD2i4ENzewed//2AO+3ENh+EN9XZNDKPOXCyxfwk3l/YOrk8d3vP2TCE7HrefSJZ/jEN+dz
758f623eZ+stxvzzwX88xZabbxSzPFk7/Q44azvAx8wOARJ3n2FmE4GPuPvUfl73LuDV7n5GLYWI
tKEkKzYEvkUYsPRaBKRlnurYgA4ylDvmhurHwDNmNo/wodzJZnaEmb23n9fqgzmRijJP/wW8nTAt
2Gsz4LokK94Zpyqpg46yFGlxSVa8B7iQlacPPwp8XGdOtD+FsEgbSLJiP+AyoHoo/HeA95Z5qtvP
25hCWKRNJFnxGuAnQHVr8w3AIXWd/Cb1q3NOWESGUZmn9wATgZsrzXsCNydZ8co4VcnaUgiLtJEy
T/8O7AtcUml+JXBLkhW6gLcNKYRF2kyZp88QznP5ZKV5U+DnSVYcHacqWVOaExZpY0lWvAuYDVQP
hT8b+G+tnGgPCmGRNpdkxd7A5UB1a/P3gXc3Rs3SwhTCIh0gyQojrJyoHhk7Dzi4zNNH4lQlg6E5
YZEOUOapE1ZO3FRpnkz4wM7iVCWDoRAW6RBlnv4DeBNwcaX5ZYQg3idOVbI6CmGRDtLYPXcU8LFK
8ybAtUlWTI9SlAxIc8IiHSrJiqOAbwDVQ+E/BXykzNPl/X+VNJtCWKSDJVnxRsKJhptVmn8ITC/z
9Ok4VUmVQlikwyVZ8QrCBQrVrc23EM4m/nucqqSX5oRFOlyZp/cBuxMO++k1kfCB3WvjVCW9FMIi
I0DjlLW3ANUrxMYDv0qy4k1xqhJQCIuMGI2VE9OBj1SaxwFXJ1kxM0pRojlhkZEoyYojgIuA0ZXm
zwFnaOVEcymERUaoJCsmAQXh5vNelwHHNO64kyZQCIuMYElWvJxw5kR1a/OthJUTD8WpamTRnLDI
CFbm6f2ElRNzK827AvOTrNghTlUji0JYZIQr8/RRYH/gm5Xm7YB5SVa8JU5VI4dCWEQo8/RZYCZw
RqV5LPDTJCuOjVPVyKA5YRFZSZIVhxPWE69fac6B08o8XRanqs6lEBaR50myYiJh5cQLK81XAEeV
efpUnKo6k0JYRPqVZMV44CqgurX5duCgMk//FqeqzqM5YRHpV5mnfyDczvHzSvPOhJUTE+JU1XkU
wiKySmWePgZMIdzo3GsbwsqJKXGq6iwKYREZUJmnzwHHAqcCvfOXY4AyyYrjoxXWITQnLCKDlmTF
IcB3gQ0qzV8CMq2cWDMKYREZkiQr3gBcCby40nwVcESZp0/Gqap9KYRFZMiSrNiOcOZEdWvzb4Ck
zNMH4lTVnjQnLCJDVubpnwkrJ66pNO8E3JpkxU5xqmpPCmERWSNlni4GDgS+WmneCrgxyYokTlXt
RyEsImuszNOlwPHAKaxYObERcEWSFR+MVlgbqW1O2My6gQuACcASYKa731/pPxQ4jfAX9z13/3It
hYhIUyRZkQIXAxtWms8HTm6EtfSjzpHwNGCUu08CTiccAAKAma0DfBrYj3CW6XFmtmmNtYhIzco8
LYA9gQcrzScAVyZZsXGcqlpfnSE8GZgD4O7zgV16O9x9GfBqd38C2AJYB3i2xlpEpAnKPL0d2A1Y
UGk+ALgpyYpt41TV2uoM4bHA4srzZY0pCgDcfbmZHUJY1jIX0J1WIh2gzNO/AHsAP600TyCcObFz
nKpaV50hvBio/grS7e4r3eLq7pcDWxNufD1mNe+3kDB/rIceerT4o8zTxVd8Lply4B7jqdhy9Kh1
brtl4YPR64v06Ne6q+oYBvOABPiRmU2k8uuJmY0FSuDN7v6smT0FrG7Lo+67Emkj66zTzbEHT+Cq
m/5wInAu0L3k2WV88qJbe4APA+eUebrKcBop6lwd0cWK1REAMwjH4I1x99lm9l7gPcBzwJ3Aie4+
4v9CRDpRkhVTgUsIy9d6fQ04YaSvnNC2ZRFpiiQrdiScMbF1pfla4G1lnj4ep6r4FMIi0jRJVmxN
mIqsbm2+C5ha5umf4lQVl3bMiUjTNA732ZMQxL22J6yc2DVOVXEphEWkqRrHXR4MnFNpfhFwfZIV
h8apKh5NR4hINElWfICwtbk6IDwN+PzarJxIsuJ8wpkWXynz9IS1q7JeCmERiSrJigOAHxKuTOr1
deC4xtVKQ32/MYR9Cl3AcmBcKx82r+kIEYmqzNOrCccc/KXSPBO4OsmKTdbgLUcTAhhCxo1euwrr
pRAWkejKPF1AOHPitkrzfsCvkqwY3/9XdQaFsIi0hDJPHwT2Bn5caX4NYeXE7lGKagKFsIi0jDJP
nwIOA75Qad4CmJtkxdviVFUvhbCItJQyT5eXeXoqcCwrzpQZDVySZMWZSVZ0rfqr249CWERaUpmn
s4AprHwk7ieBbyRZMSpOVcNPISwiLavM02uBSUB1S/MMYE6SFS+IU9XwUgiLSEsr8/QuwsqJ+ZXm
fYCbk6x4eZyqho9CWERaXpmnDxOC99JKsxFWTkyOU9XwUAiLSFso8/Rp4O3AZyrNmwHXJVlxRJyq
1p62LYtI20my4j3Ahax8O9BZwCeATYF/VNo3L/N0URPLGxKNhEWk7ZR5+g1gf6B6GPzZwLeAtlo5
oRAWkbZU5ukvgN2BP1Sajwbu6fPStzatqDWg6QgRaWtJVmwBFIRA7s8/gellnpar6I9KI2ERaWtl
nj4C7As8tIqXbAq07JnCCmER6QTrM/Bc8C5reCxm7RTCIiIRKYRFpO2VefoYcPsAL7mt8ZqWoxAW
kU5xHtDfeuB/Eu6xa0kKYRHpCI3VDzOAuX26TmzVlRGgEBaRDtII28P7NF8To5bBUgiLiESkEBYR
iUghLCISkUJYRCQihbCISEQKYRGRiBTCIiIRKYRFRCJSCIuIRKQQFhGJaN3Vv2TNmFk3cAEwAVgC
zHT3+yv9RwAfApYCvwWOc3dd8yEiI0qdI+FpwCh3nwScDuS9HWa2AfBxYG933wMYBxxYYy0iMnIs
AXoHdMsbz1tWnSE8GZgD4O7zgV0qfc8Au7v7M43n6wJP11iLiIwQZZ4+SfgtHOCrjectq7aLPs1s
NnCZu89pPP8TMN7dl/d53YnA/u4+dTVvuRDYvpZiRUTq19VfY21zwsBiYOPK8+5qADfmjD8HvAI4
dBDvt8PwliciEl+d0xHzgCkAZjYRWNCn/2vAaODgyrSEiMiIUud0RBcrVkdAOPF+Z2AMcFvjcUPl
S77k7lfUUoyISIuqLYRFRGT1tFlDRCQihbCISEQKYRGRiBTCIiIRKYRFRCJSCIuIRKQQFhGJSCEs
IhKRQlhEJCKFsIhIRAphEZGIFMIiIhEphEVEIlIIi4hEpBAWEYlIISwiEpFCWEQkIoWwiEhECmER
kYgUwiIiESmERUQiUgiLiESkEBYRiUghLCISkUJYRCQihbCISEQKYRGRiBTCIiIRKYRFRCJSCIuI
RKQQFhGJSCEsIhKRQlhEJCKFsIhIRAphEZGI1q37G5hZN3ABMAFYAsx09/v7vGZD4GfAu93d665J
RKRVNGMkPA0Y5e6TgNOBvNppZrsANwDjgZ4m1CMi0jKaEcKTgTkA7j4f2KVP/yhCUGsELCIjTjNC
eCywuPJ8WWOKAgB3/5W7/7UJdYiItJxmhPBiYOPq93T35U34viIiLa8ZITwPmAJgZhOBBU34niIi
baH21RHAj4E3m9m8xvMZZnYEMMbdZzfh+4uItKyunh4tSBARiUWbNUREIlIIi4hEpBAWEYlIISwi
ElEzVkd0HDPbDfiMu+8TuxZZO2a2HvBN4CXAaOAT7l7GrUrWhpmtA8wGXkU4CuH97n5X3KpWTSPh
ITKz/yT8BY+OXYsMiyOBR9x9T2B/4PzI9cjaOxBY7u57AP8FfDJyPQNSCA/dfcAhQFfsQmRY/Ag4
q/HnbmBpxFpkGLh7ARzbePpS4NF41ayepiOGyN0vN7OXxq5Dhoe7PwVgZhsTAvn/xa1IhoO7LzOz
/wEOBg6LXM6ANBKWEc/MtgWuA77t7j+IXY8MD3efTpgXnm1mG0QuZ5U0EpYRzcxeBFwLHOfuc2PX
I2vPzI6A05UFAAACS0lEQVQGtnH3TwNPA8sbj5akEF5z2u/dGc4ExgFnmVnv3PAB7v5MxJpk7VwK
/I+Z/RJYD/iQuy+JXNMq6ewIEZGINCcsIhKRQlhEJCKFsIhIRAphEZGIFMIiIhEphEVEItI6YekY
je3k9wJ3EdZxjwL+Bsxw9wf6ef10YC93n9HEMkVWohCWTvOAu+/U+8TMPgWcRzh0qS8tkpfoFMLS
6W4EDjKzNwE54fS7PwHvpHISnpkdDpwCbNB4zHT3G83sFOAYwrbXW939/WY2Afga4b+fZwgj7fua
+DNJB9GcsHSsxoHtbwduBb4LHO3uE4AFwLtojITNrItw9OFUd98R+CxwauNw8NOBnRuPZWa2FXAS
kLv7Gwij7IlN/cGko2jbsnSMxpywA3c3mkYD84ELgAvdfec+r38XsLe7z2gcZXkQYMBewFJ338/M
riDculEAP3L3u8zsUOArwFWNx5Xu3rIHxEhr03SEdJq/VeeEAczsdX2ejwXGVp5vBNwGfAu4HrgT
OAHA3ac1rrOaAswxsyPd/TIzu5lwg8NJjb731fYTSUfTdISMBA5sYWavaTw/jRU3L0A4c3YZ8GlC
CE8B1jGzzczsbmChu3+UcOTlBDO7GNjV3WcRbuV4fXN+DOlECmHpNM+bX2scS3kU8G0zuxN4NSFw
e19/J3AHcA/wS8Kc8XbuvgiYBfzazG4DNgEuAj4DnGlmtwOfB06u9SeSjqY5YRGRiDQSFhGJSCEs
IhKRQlhEJCKFsIhIRAphEZGIFMIiIhEphEVEIvo/EVVC1zd82JQAAAAASUVORK5CYII=
"
>
</div>

</div>

</div>
</div>

</div>
<div class="cell border-box-sizing text_cell rendered">
<div class="prompt input_prompt">
</div>
<div class="inner_cell">
<div class="text_cell_render border-box-sizing rendered_html">
<p>Look like survival rates for the 3rd class are substantially lower! But maybe this effect is being caused by the large amount of men in the 3rd class in combination with the women and children first policy. Let's use 'hue' to get a clearer picture on this.</p>

</div>
</div>
</div>
<div class="cell border-box-sizing code_cell rendered">
<div class="input">
<div class="prompt input_prompt">In&nbsp;[150]:</div>
<div class="inner_cell">
    <div class="input_area">
<div class=" highlight hl-ipython2"><pre><span></span><span class="c1"># Let&#39;s use a factor plot again, but now considering class and gender</span>
<span class="n">sns</span><span class="o">.</span><span class="n">factorplot</span><span class="p">(</span><span class="s1">&#39;Pclass&#39;</span><span class="p">,</span><span class="s1">&#39;Survived&#39;</span><span class="p">,</span><span class="n">hue</span><span class="o">=</span><span class="s1">&#39;person&#39;</span><span class="p">,</span><span class="n">data</span><span class="o">=</span><span class="n">titanic_df</span><span class="p">)</span>
</pre></div>

</div>
</div>
</div>

<div class="output_wrapper">
<div class="output">


<div class="output_area"><div class="prompt output_prompt">Out[150]:</div>


<div class="output_text output_subarea output_execute_result">
<pre>&lt;seaborn.axisgrid.FacetGrid at 0x25bd0ac8&gt;</pre>
</div>

</div>

<div class="output_area"><div class="prompt"></div>


<div class="output_png output_subarea ">
<img src="data:image/png;base64,iVBORw0KGgoAAAANSUhEUgAAAZ8AAAFhCAYAAACveqf9AAAABHNCSVQICAgIfAhkiAAAAAlwSFlz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"
>
</div>

</div>

</div>
</div>

</div>
<div class="cell border-box-sizing text_cell rendered">
<div class="prompt input_prompt">
</div>
<div class="inner_cell">
<div class="text_cell_render border-box-sizing rendered_html">
<p>From this data it looks like being a male or being in 3rd class were both not favourable for survival. Even regardless of class the result of being a male in any class dramatically decreases your chances of survival.</p>
<p>But what about age? Did being younger or older have an effect on survival rate?</p>

</div>
</div>
</div>
<div class="cell border-box-sizing code_cell rendered">
<div class="input">
<div class="prompt input_prompt">In&nbsp;[160]:</div>
<div class="inner_cell">
    <div class="input_area">
<div class=" highlight hl-ipython2"><pre><span></span><span class="c1"># Let&#39;s use a linear plot on age versus survival</span>
<span class="n">sns</span><span class="o">.</span><span class="n">lmplot</span><span class="p">(</span><span class="s1">&#39;Age&#39;</span><span class="p">,</span><span class="s1">&#39;Survived&#39;</span><span class="p">,</span><span class="n">data</span><span class="o">=</span><span class="n">titanic_df</span><span class="p">)</span>
</pre></div>

</div>
</div>
</div>

<div class="output_wrapper">
<div class="output">


<div class="output_area"><div class="prompt output_prompt">Out[160]:</div>


<div class="output_text output_subarea output_execute_result">
<pre>&lt;seaborn.axisgrid.FacetGrid at 0x278ceef0&gt;</pre>
</div>

</div>

<div class="output_area"><div class="prompt"></div>


<div class="output_png output_subarea ">
<img src="data:image/png;base64,iVBORw0KGgoAAAANSUhEUgAAAWEAAAFhCAYAAACh/xvXAAAABHNCSVQICAgIfAhkiAAAAAlwSFlz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==
"
>
</div>

</div>

</div>
</div>

</div>
<div class="cell border-box-sizing text_cell rendered">
<div class="prompt input_prompt">
</div>
<div class="inner_cell">
<div class="text_cell_render border-box-sizing rendered_html">
<p>Looks like there is a general trend that the older the passenger was, the less likely they survived. Let's go ahead and use hue to take a look at the effect of class and age.</p>

</div>
</div>
</div>
<div class="cell border-box-sizing code_cell rendered">
<div class="input">
<div class="prompt input_prompt">In&nbsp;[171]:</div>
<div class="inner_cell">
    <div class="input_area">
<div class=" highlight hl-ipython2"><pre><span></span><span class="c1"># Let&#39;s use a linear plot on age versus survival using hue for class seperation</span>
<span class="n">sns</span><span class="o">.</span><span class="n">lmplot</span><span class="p">(</span><span class="s1">&#39;Age&#39;</span><span class="p">,</span><span class="s1">&#39;Survived&#39;</span><span class="p">,</span><span class="n">hue</span><span class="o">=</span><span class="s1">&#39;Pclass&#39;</span><span class="p">,</span><span class="n">data</span><span class="o">=</span><span class="n">titanic_df</span><span class="p">,</span><span class="n">palette</span><span class="o">=</span><span class="s1">&#39;winter&#39;</span><span class="p">)</span>
</pre></div>

</div>
</div>
</div>

<div class="output_wrapper">
<div class="output">


<div class="output_area"><div class="prompt output_prompt">Out[171]:</div>


<div class="output_text output_subarea output_execute_result">
<pre>&lt;seaborn.axisgrid.FacetGrid at 0x294b5400&gt;</pre>
</div>

</div>

<div class="output_area"><div class="prompt"></div>


<div class="output_png output_subarea ">
<img src="data:image/png;base64,iVBORw0KGgoAAAANSUhEUgAAAYoAAAFhCAYAAABu/e1RAAAABHNCSVQICAgIfAhkiAAAAAlwSFlz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"
>
</div>

</div>

</div>
</div>

</div>
<div class="cell border-box-sizing text_cell rendered">
<div class="prompt input_prompt">
</div>
<div class="inner_cell">
<div class="text_cell_render border-box-sizing rendered_html">
<p>We can also use the x_bin argument to clean up this figure and grab the data and bin it by age with a std attached!</p>

</div>
</div>
</div>
<div class="cell border-box-sizing code_cell rendered">
<div class="input">
<div class="prompt input_prompt">In&nbsp;[179]:</div>
<div class="inner_cell">
    <div class="input_area">
<div class=" highlight hl-ipython2"><pre><span></span><span class="c1"># Let&#39;s use a linear plot on age versus survival using hue for class seperation</span>
<span class="n">generations</span><span class="o">=</span><span class="p">[</span><span class="mi">10</span><span class="p">,</span><span class="mi">20</span><span class="p">,</span><span class="mi">40</span><span class="p">,</span><span class="mi">60</span><span class="p">,</span><span class="mi">80</span><span class="p">]</span>
<span class="n">sns</span><span class="o">.</span><span class="n">lmplot</span><span class="p">(</span><span class="s1">&#39;Age&#39;</span><span class="p">,</span><span class="s1">&#39;Survived&#39;</span><span class="p">,</span><span class="n">hue</span><span class="o">=</span><span class="s1">&#39;Pclass&#39;</span><span class="p">,</span><span class="n">data</span><span class="o">=</span><span class="n">titanic_df</span><span class="p">,</span><span class="n">palette</span><span class="o">=</span><span class="s1">&#39;winter&#39;</span><span class="p">,</span><span class="n">x_bins</span><span class="o">=</span><span class="n">generations</span><span class="p">)</span>
</pre></div>

</div>
</div>
</div>

<div class="output_wrapper">
<div class="output">


<div class="output_area"><div class="prompt output_prompt">Out[179]:</div>


<div class="output_text output_subarea output_execute_result">
<pre>&lt;seaborn.axisgrid.FacetGrid at 0x2abe3518&gt;</pre>
</div>

</div>

<div class="output_area"><div class="prompt"></div>


<div class="output_png output_subarea ">
<img src="data:image/png;base64,iVBORw0KGgoAAAANSUhEUgAAAYoAAAFhCAYAAABu/e1RAAAABHNCSVQICAgIfAhkiAAAAAlwSFlz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"
>
</div>

</div>

</div>
</div>

</div>
<div class="cell border-box-sizing text_cell rendered">
<div class="prompt input_prompt">
</div>
<div class="inner_cell">
<div class="text_cell_render border-box-sizing rendered_html">
<p>Interesting find on the older 1st class passengers! What about if we relate gender and age with the survival set?</p>

</div>
</div>
</div>
<div class="cell border-box-sizing code_cell rendered">
<div class="input">
<div class="prompt input_prompt">In&nbsp;[182]:</div>
<div class="inner_cell">
    <div class="input_area">
<div class=" highlight hl-ipython2"><pre><span></span><span class="n">sns</span><span class="o">.</span><span class="n">lmplot</span><span class="p">(</span><span class="s1">&#39;Age&#39;</span><span class="p">,</span><span class="s1">&#39;Survived&#39;</span><span class="p">,</span><span class="n">hue</span><span class="o">=</span><span class="s1">&#39;Sex&#39;</span><span class="p">,</span><span class="n">data</span><span class="o">=</span><span class="n">titanic_df</span><span class="p">,</span><span class="n">palette</span><span class="o">=</span><span class="s1">&#39;winter&#39;</span><span class="p">,</span><span class="n">x_bins</span><span class="o">=</span><span class="n">generations</span><span class="p">)</span>
</pre></div>

</div>
</div>
</div>

<div class="output_wrapper">
<div class="output">


<div class="output_area"><div class="prompt output_prompt">Out[182]:</div>


<div class="output_text output_subarea output_execute_result">
<pre>&lt;seaborn.axisgrid.FacetGrid at 0x2bc81240&gt;</pre>
</div>

</div>

<div class="output_area"><div class="prompt"></div>


<div class="output_png output_subarea ">
<img src="data:image/png;base64,iVBORw0KGgoAAAANSUhEUgAAAZ8AAAFhCAYAAACveqf9AAAABHNCSVQICAgIfAhkiAAAAAlwSFlz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=
"
>
</div>

</div>

</div>
</div>

</div>
<div class="cell border-box-sizing text_cell rendered">
<div class="prompt input_prompt">
</div>
<div class="inner_cell">
<div class="text_cell_render border-box-sizing rendered_html">
<p>Awesome! we've gotten some really great insights on how gender,age, and class all related to a passengers chance of survival. Now you take control: Answer the following questions using pandas and seaborn:</p>

<pre><code>1.) Did the deck have an effect on the passengers survival rate? Did this answer match up with your intuition?
2.) Did having a family member increase the odds of surviving the crash?

</code></pre>
<p>Feel free to post a discussion if you get stuck or have more ideas!</p>

</div>
</div>
</div>
<div class="cell border-box-sizing text_cell rendered">
<div class="prompt input_prompt">
</div>
<div class="inner_cell">
<div class="text_cell_render border-box-sizing rendered_html">
<h3 id="Fantastic-work-on-your-first-go-at-a-Data-Analysis-Project!-Go-ahead-and-keep-playing-with-the-data-or-try-following-along-with-Kaggle's-sci-kit-learn-tutorial-for-this-data-(we'll-look-at-it-through-a-machine-learning-perspective-later-in-the-course)">Fantastic work on your first go at a Data Analysis Project! Go ahead and keep playing with the data or try following along with Kaggle's sci-kit learn tutorial for this data (we'll look at it through a machine learning perspective later in the course)<a class="anchor-link" href="#Fantastic-work-on-your-first-go-at-a-Data-Analysis-Project!-Go-ahead-and-keep-playing-with-the-data-or-try-following-along-with-Kaggle's-sci-kit-learn-tutorial-for-this-data-(we'll-look-at-it-through-a-machine-learning-perspective-later-in-the-course)">&#182;</a></h3>
</div>
</div>
</div>
<div class="cell border-box-sizing text_cell rendered">
<div class="prompt input_prompt">
</div>
<div class="inner_cell">
<div class="text_cell_render border-box-sizing rendered_html">
<h4 id="Finally,-I'll-leave-you-with-a-gif-of-my-favorite-scene-from-the-movie-Titanic">Finally, I'll leave you with a gif of my favorite scene from the movie Titanic<a class="anchor-link" href="#Finally,-I'll-leave-you-with-a-gif-of-my-favorite-scene-from-the-movie-Titanic">&#182;</a></h4>
</div>
</div>
</div>
<div class="cell border-box-sizing code_cell rendered">
<div class="input">
<div class="prompt input_prompt">In&nbsp;[118]:</div>
<div class="inner_cell">
    <div class="input_area">
<div class=" highlight hl-ipython2"><pre><span></span><span class="kn">from</span> <span class="nn">IPython.display</span> <span class="kn">import</span> <span class="n">Image</span>
<span class="n">Image</span><span class="p">(</span><span class="n">url</span><span class="o">=</span><span class="s1">&#39;http://i.imgur.com/DGNjT.gif&#39;</span><span class="p">)</span>
</pre></div>

</div>
</div>
</div>

<div class="output_wrapper">
<div class="output">


<div class="output_area"><div class="prompt output_prompt">Out[118]:</div>

<div class="output_html rendered_html output_subarea output_execute_result">
<img src="http://i.imgur.com/DGNjT.gif"/>
</div>

</div>

</div>
</div>

</div>
    </div>
  </div>

  </div>


  
    <footer class="footer hidden-print">
      <div class="container">
        <div class="col-md-4">
          <p>
            This website does not host notebooks, it only renders notebooks
            available on other websites.
          </p>
        </div>

        <div class="col-md-4">
          <p>
            Delivered by <a href="http://www.fastly.com/">Fastly</a>,
            Rendered by <a href="https://developer.rackspace.com/?nbviewer=awesome">Rackspace</a>
          </p>
          <p>
            nbviewer GitHub <a href="https://github.com/jupyter/nbviewer">repository</a>.
          </p>
        </div>

        <div class="col-md-4">
          
  
            
              <p>
                nbviewer version:
                <a href="https://github.com/jupyter/nbviewer/commit/0bf9258c078c4b09eec914172d10524e644cdb4e">
                  0bf9258
                </a>
              </p>
            
          
  
  <p>
    nbconvert version: <a href="https://github.com/jupyter/nbconvert/releases/tag/4.2.0">
      4.2.0
    </a>
  </p>
  

          
  
  
  <p>
    Rendered
    <span class='date' data-date='Sat, 01 Oct 2016 11:44:53 UTC' title='Sat, 01 Oct 2016 11:44:53 UTC'>(Sat, 01 Oct 2016 11:44:53 UTC)</span>
  </p>
  

        </div>
      </div>
    </footer>
  

  <script src="/static/components/bootstrap/js/bootstrap.min.js"></script>
  <script src="/static/components/headroom.js/dist/headroom.min.js"></script>
  <script src="/static/components/headroom.js/dist/jQuery.headroom.min.js"></script>

  
  
  <script>
    $(function(){ $("#menubar").headroom({
      tolerance: 5,
      offset: 205,
      classes: {
        initial: "animated",
        pinned: "slideInDown",
        unpinned: "slideOutUp"
      }
    })});
  </script>


  <script>
    (function(i,s,o,g,r,a,m){i['GoogleAnalyticsObject']=r;i[r]=i[r]||function(){
      (i[r].q=i[r].q||[]).push(arguments)},i[r].l=1*new Date();a=s.createElement(o),
      m=s.getElementsByTagName(o)[0];a.async=1;a.src=g;m.parentNode.insertBefore(a,m)
    })(window,document,'script','//www.google-analytics.com/analytics.js','ga');
    ga('create', 'UA-38683231-2', 'auto');
    ga('send', 'pageview');
  </script>
  <script>
    require({
        paths: {
          moment: "/static/components/moment/min/moment.min.js"
        }
      }, ["moment"], function(moment){
      var date = $("footer .date"),
        m = moment(new Date(date.data('date'))),
        update = function(){ date.text(m.fromNow()); };
      setInterval(update, 61*1000);
      update();
      var w = $(window).scroll(function(event){
        $("body").toggleClass("scrolled", w.scrollTop() > 0);
      });
    });
  </script>
  <!--NEW RELIC Stop Perf Measurement-->
  
  <!--NEW RELIC End-->
</body>
</html>